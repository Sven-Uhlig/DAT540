{
 "cells": [
  {
   "cell_type": "markdown",
   "metadata": {},
   "source": [
    "## Install required dependencies \n",
    "```python\n",
    "pip install ipympl\n",
    "```"
   ]
  },
  {
   "cell_type": "code",
   "execution_count": null,
   "metadata": {},
   "outputs": [],
   "source": [
    "#!pip3 install ipympl"
   ]
  },
  {
   "cell_type": "code",
   "execution_count": 1,
   "metadata": {},
   "outputs": [],
   "source": [
    "%matplotlib widget"
   ]
  },
  {
   "cell_type": "code",
   "execution_count": 2,
   "metadata": {},
   "outputs": [],
   "source": [
    "import numpy as np\n",
    "import matplotlib.pyplot as plt\n",
    "from matplotlib import animation\n"
   ]
  },
  {
   "cell_type": "code",
   "execution_count": 3,
   "metadata": {
    "ExecuteTime": {
     "end_time": "2019-09-06T12:26:50.346424Z",
     "start_time": "2019-09-06T12:26:50.338149Z"
    }
   },
   "outputs": [
    {
     "data": {
      "text/plain": [
       "(1000,)"
      ]
     },
     "execution_count": 3,
     "metadata": {},
     "output_type": "execute_result"
    }
   ],
   "source": [
    "# A random walk on a 2-D space\n",
    "np.random.seed(12345)\n",
    "nsteps = 1000 # Let us run execute the random walk for 1000 steps\n",
    "# Here we generate random integers between 0 and 3 (inclusive) for the specified number of steps\n",
    "# Each integer represent 0: North, 1: East, 2: South, 3: West\n",
    "draws = np.random.randint(0, 4, size=nsteps)\n",
    "draws.shape"
   ]
  },
  {
   "cell_type": "code",
   "execution_count": 4,
   "metadata": {
    "ExecuteTime": {
     "end_time": "2019-09-06T12:26:50.547376Z",
     "start_time": "2019-09-06T12:26:50.530483Z"
    }
   },
   "outputs": [
    {
     "data": {
      "text/plain": [
       "(1000, 2)"
      ]
     },
     "execution_count": 4,
     "metadata": {},
     "output_type": "execute_result"
    }
   ],
   "source": [
    "# A lambda function to convert the steps into directions in a 2-D grid with origin as [0, 0]\n",
    "\n",
    "direction = lambda x: np.array([0, 1]) if x == 0 else ( np.array([1, 0]) if x == 1 else ( np.array([0, -1]) if x == 2 else np.array([-1, 0]) ))\n",
    "v_direction = np.vectorize(direction, signature='()->(n)')\n",
    "steps = v_direction(draws)\n",
    "steps.shape"
   ]
  },
  {
   "cell_type": "code",
   "execution_count": 5,
   "metadata": {
    "ExecuteTime": {
     "end_time": "2019-09-06T12:26:50.715241Z",
     "start_time": "2019-09-06T12:26:50.707079Z"
    }
   },
   "outputs": [
    {
     "data": {
      "text/plain": [
       "(1001, 2)"
      ]
     },
     "execution_count": 5,
     "metadata": {},
     "output_type": "execute_result"
    }
   ],
   "source": [
    "# perfrom a cumulative sum to get the respective coordinates after each step\n",
    "coordinates = steps.cumsum(axis=0)\n",
    "# We append the origin to the top, so that we can use it as a marker later\n",
    "walk = np.concatenate(([[0,0]], coordinates), axis=0)\n",
    "walk.shape"
   ]
  },
  {
   "cell_type": "code",
   "execution_count": 6,
   "metadata": {
    "ExecuteTime": {
     "end_time": "2019-09-06T12:26:50.871572Z",
     "start_time": "2019-09-06T12:26:50.866632Z"
    }
   },
   "outputs": [
    {
     "name": "stdout",
     "output_type": "stream",
     "text": [
      "the average distance between points should be 1: 1.0\n"
     ]
    }
   ],
   "source": [
    "# We check that the step between two consecutive points equals to one\n",
    "dist = np.sqrt((walk[:-1,0] - walk[1:,0]) **2 + (walk[:-1,1] - walk[1:, 1])**2)\n",
    "print('the average distance between points should be 1:', np.average(dist))"
   ]
  },
  {
   "cell_type": "code",
   "execution_count": 7,
   "metadata": {
    "ExecuteTime": {
     "end_time": "2019-09-06T12:26:51.013712Z",
     "start_time": "2019-09-06T12:26:51.007877Z"
    }
   },
   "outputs": [],
   "source": [
    "# initialization function: plot the background of each frame\n",
    "def init():\n",
    "    ax.plot(walk[0, 0], walk[0, 1], 'go') # Mark the 1st point as start\n",
    "    ax.plot(walk[-1, 0], walk[-1, 1], 'ro') # Mark the last point as end\n",
    "    line.set_data([], [])        \n",
    "    return (line,)\n",
    "\n",
    "# animation function. This is called sequentially\n",
    "def animate(i):    \n",
    "    x = walk[:i,0]\n",
    "    y = walk[:i,1]    \n",
    "    line.set_data(x, y)  \n",
    "    return (line,)"
   ]
  },
  {
   "cell_type": "code",
   "execution_count": 8,
   "metadata": {
    "ExecuteTime": {
     "end_time": "2019-09-06T12:26:51.200969Z",
     "start_time": "2019-09-06T12:26:51.156133Z"
    }
   },
   "outputs": [
    {
     "name": "stdout",
     "output_type": "stream",
     "text": [
      "Warning: Cannot change to a different GUI toolkit: notebook. Using widget instead.\n"
     ]
    },
    {
     "data": {
      "application/vnd.jupyter.widget-view+json": {
       "model_id": "9a19264143ba43a4a8429d2d16a4ab60",
       "version_major": 2,
       "version_minor": 0
      },
      "text/plain": [
       "Canvas(toolbar=Toolbar(toolitems=[('Home', 'Reset original view', 'home', 'home'), ('Back', 'Back to previous …"
      ]
     },
     "metadata": {},
     "output_type": "display_data"
    },
    {
     "data": {
      "text/plain": [
       "<matplotlib.animation.FuncAnimation at 0x7f95c8c01f10>"
      ]
     },
     "execution_count": 8,
     "metadata": {},
     "output_type": "execute_result"
    }
   ],
   "source": [
    "%matplotlib notebook\n",
    "# First set up the figure, the axis, and the plot element we want to animate\n",
    "fig, ax = plt.subplots(figsize=(8,8))\n",
    "ax.set_xlim(walk[:,0].min() -1, walk[:,0].max() + 1)\n",
    "ax.set_ylim(walk[:,1].min() - 1, walk[:,1].max() + 1)\n",
    "line, = ax.plot([], [], linestyle='--', linewidth=0.5)\n",
    "\n",
    "# call the animator. blit=True means only re-draw the parts that have changed.\n",
    "animation.FuncAnimation(fig, animate, init_func=init,\n",
    "                               interval=1, blit=True)"
   ]
  },
  {
   "cell_type": "code",
   "execution_count": null,
   "metadata": {},
   "outputs": [],
   "source": []
  }
 ],
 "metadata": {
  "kernelspec": {
   "display_name": "Python 3.9.7 ('.env': venv)",
   "language": "python",
   "name": "python3"
  },
  "language_info": {
   "codemirror_mode": {
    "name": "ipython",
    "version": 3
   },
   "file_extension": ".py",
   "mimetype": "text/x-python",
   "name": "python",
   "nbconvert_exporter": "python",
   "pygments_lexer": "ipython3",
   "version": "3.9.7"
  },
  "varInspector": {
   "cols": {
    "lenName": 16,
    "lenType": 16,
    "lenVar": 40
   },
   "kernels_config": {
    "python": {
     "delete_cmd_postfix": "",
     "delete_cmd_prefix": "del ",
     "library": "var_list.py",
     "varRefreshCmd": "print(var_dic_list())"
    },
    "r": {
     "delete_cmd_postfix": ") ",
     "delete_cmd_prefix": "rm(",
     "library": "var_list.r",
     "varRefreshCmd": "cat(var_dic_list()) "
    }
   },
   "types_to_exclude": [
    "module",
    "function",
    "builtin_function_or_method",
    "instance",
    "_Feature"
   ],
   "window_display": false
  },
  "vscode": {
   "interpreter": {
    "hash": "8d024a190013529ebe86211d6cbdc4203a7ee381118bebdb79373c50f7cd9dc5"
   }
  }
 },
 "nbformat": 4,
 "nbformat_minor": 2
}
