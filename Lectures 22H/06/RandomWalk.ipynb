{
 "cells": [
  {
   "cell_type": "code",
   "execution_count": 2,
   "metadata": {
    "ExecuteTime": {
     "end_time": "2019-09-06T11:27:50.726965Z",
     "start_time": "2019-09-06T11:27:50.484383Z"
    },
    "slideshow": {
     "slide_type": "skip"
    }
   },
   "outputs": [],
   "source": [
    "# Import required modules\n",
    "import numpy as np\n",
    "import matplotlib.pyplot as plt"
   ]
  },
  {
   "cell_type": "markdown",
   "metadata": {},
   "source": [
    "> **Random walk theory** was first coined by French mathematician **Louise Bachelier**, who believed that share price movements were like the steps taken by a drunk; unpredictable. However, the theory became famous through the work of economist **Burton Malkiel**, who agreed that stock prices take a completely random path. So, the probability of a share price increasing at any given time, is exactly the same as the probability that it will decrease. In fact, he argues that a blindfolded monkey could randomly select a portfolio of stocks that would do just as well as a portfolio carefully selected by professionals."
   ]
  },
  {
   "cell_type": "markdown",
   "metadata": {
    "slideshow": {
     "slide_type": "slide"
    }
   },
   "source": [
    "- **Random Walks**\n",
    "- A path sequence based on a random probability distribution that determines the number of steps and the odds required to reach a location.\n",
    "- Another common use case is to identify the number of steps required to reach back to the point of origin after initiating a random walk\n",
    "- In case of 1-D or 2-D space, we always converge, however, as we increase the dimensionality the probability of convergence to the origin decreases as the amount of traversal space increases\n",
    "- A random walk on a 1-D space, offers only forward or backward movements\n",
    "- A walk on a 2-D space, offers north, south, east or west wise movements"
   ]
  },
  {
   "cell_type": "markdown",
   "metadata": {
    "slideshow": {
     "slide_type": "fragment"
    }
   },
   "source": [
    "- A simple random walk on 1-D space\n",
    "\n",
    "<img src='images/randomwalks.png'>"
   ]
  },
  {
   "cell_type": "code",
   "execution_count": 3,
   "metadata": {
    "ExecuteTime": {
     "end_time": "2019-09-06T11:34:41.269184Z",
     "start_time": "2019-09-06T11:34:41.264082Z"
    },
    "slideshow": {
     "slide_type": "subslide"
    }
   },
   "outputs": [
    {
     "data": {
      "text/plain": [
       "array([ 1,  0,  1,  2,  1,  0, -1,  0,  1,  2,  1,  2,  1,  2,  1,  2,  3,\n",
       "        2,  1,  0, -1,  0, -1, -2, -1,  0,  1,  2,  3,  2,  3,  4,  5,  6,\n",
       "        5,  6,  5,  4,  3,  4,  5,  4,  5,  4,  5,  6,  5,  6,  5,  6,  5,\n",
       "        4,  5,  6,  7,  8,  9, 10,  9,  8,  7,  8,  7,  8,  9,  8,  7,  8,\n",
       "        9, 10,  9, 10, 11, 12, 13, 14, 15, 14, 13, 14, 13, 12, 13, 14, 15,\n",
       "       14, 13, 12, 13, 12, 11, 12, 13, 14, 13, 14, 15, 16, 17, 16, 15, 16,\n",
       "       17, 18, 17, 18, 19, 20, 21, 20, 19, 18, 17, 18, 17, 18, 19, 18, 19,\n",
       "       20, 21, 22, 23, 22, 23, 22, 23, 22, 23, 22, 23, 24, 25, 24, 25, 24,\n",
       "       23, 24, 23, 22, 23, 24, 23, 22, 23, 22, 21, 20, 19, 18, 19, 18, 19,\n",
       "       18, 17, 18, 17, 16, 17, 18, 17, 18, 17, 18, 17, 18, 19, 20, 21, 20,\n",
       "       19, 20, 21, 20, 19, 18, 19, 20, 19, 20, 21, 20, 19, 20, 21, 22, 23,\n",
       "       22, 21, 22, 23, 24, 23, 22, 21, 22, 21, 20, 21, 20, 19, 20, 19, 20,\n",
       "       19, 20, 21, 22, 21, 20, 19, 18, 17, 18, 17, 18, 19, 18, 19, 18, 19,\n",
       "       20, 19, 20, 21, 20, 21, 22, 21, 20, 19, 20, 19, 20, 21, 20, 21, 20,\n",
       "       21, 22, 21, 20, 21, 20, 19, 20, 19, 18, 19, 20, 21, 22, 23, 22, 21,\n",
       "       22, 21, 22, 21, 20, 21, 20, 21, 22, 23, 24, 23, 22, 23, 24, 25, 26,\n",
       "       27, 26, 27, 28, 27, 26, 27, 26, 27, 26, 25, 26, 25, 24, 23, 24, 25,\n",
       "       24, 25, 24, 23, 24, 23, 22, 21, 20, 19, 18, 17, 18, 17, 18, 19, 20,\n",
       "       19, 18, 19, 18, 17, 18, 17, 16, 17, 18, 19, 20, 21, 20, 19, 18, 17,\n",
       "       18, 19, 18, 19, 20, 19, 18, 19, 18, 17, 18, 19, 20, 21, 22, 21, 20,\n",
       "       21, 22, 21, 20, 21, 20, 21, 20, 19, 20, 19, 18, 17, 18, 17, 16, 17,\n",
       "       16, 17, 18, 17, 18, 17, 18, 19, 20, 21, 22, 23, 22, 21, 20, 19, 20,\n",
       "       19, 18, 17, 16, 15, 16, 17, 16, 17, 16, 17, 18, 17, 16, 15, 14, 15,\n",
       "       16, 17, 16, 15, 14, 13, 14, 15, 16, 15, 14, 13, 12, 11, 10,  9, 10,\n",
       "        9, 10,  9,  8,  7,  6,  5,  6,  7,  8,  9, 10,  9,  8,  9,  8,  7,\n",
       "        8,  9, 10,  9, 10,  9, 10,  9,  8,  9,  8,  7,  8,  7,  8,  7,  8,\n",
       "        7,  8,  9,  8,  7,  6,  7,  8,  7,  6,  7,  6,  5,  4,  5,  6,  5,\n",
       "        4,  3,  2,  1,  0, -1,  0, -1, -2, -1,  0,  1,  2,  1,  0,  1,  0,\n",
       "        1,  2,  3,  2,  1,  0,  1,  0,  1,  0, -1, -2, -3, -2, -3, -2, -1,\n",
       "        0,  1,  0, -1,  0, -1, -2, -1, -2, -1, -2, -3, -4, -3, -4, -5, -4,\n",
       "       -3, -2, -1, -2, -3, -2, -1, -2, -3, -2, -1, -2, -3, -2, -1, -2, -1,\n",
       "        0,  1,  0, -1, -2, -1,  0,  1,  0, -1, -2, -3, -4, -5, -4, -3, -2,\n",
       "       -3, -4, -3, -4, -3, -2, -3, -4, -5, -6, -7, -8, -7, -8, -7, -6, -5,\n",
       "       -4, -3, -2, -3, -2, -1, -2, -1, -2, -1, -2, -3, -4, -5, -4, -5, -4,\n",
       "       -3, -4, -3, -2, -3, -2, -3, -4, -5, -6, -7, -8, -7, -6, -5, -4, -5,\n",
       "       -4, -5, -6, -5, -6, -5, -6, -5, -4, -3, -2, -1, -2, -3, -2, -1,  0,\n",
       "        1,  2,  1,  0, -1, -2, -1,  0,  1,  0,  1,  0,  1,  2,  1,  2,  1,\n",
       "        2,  1,  0, -1,  0, -1,  0, -1,  0, -1, -2, -1,  0, -1,  0, -1, -2,\n",
       "       -1,  0, -1, -2, -3, -2, -3, -4, -5, -6, -5, -6, -5, -4, -5, -6, -5,\n",
       "       -6, -5, -6, -5, -4, -3, -2, -3, -2, -3, -2, -1,  0,  1,  0,  1,  2,\n",
       "        1,  0,  1,  2,  1,  0, -1, -2, -1,  0, -1,  0,  1,  2,  3,  2,  3,\n",
       "        2,  1,  0, -1,  0,  1,  2,  1,  2,  1,  2,  1,  0,  1,  0, -1,  0,\n",
       "        1,  0,  1,  2,  1,  2,  1,  0, -1,  0, -1,  0,  1,  2,  1,  0, -1,\n",
       "        0, -1, -2, -1,  0,  1,  0, -1, -2, -1, -2, -1,  0,  1,  0,  1,  0,\n",
       "       -1, -2, -3, -2, -3, -2, -1, -2, -1,  0, -1,  0, -1,  0, -1, -2, -3,\n",
       "       -4, -3, -2, -3, -2, -1, -2, -3, -4, -3, -4, -3, -2, -3, -2, -1,  0,\n",
       "       -1,  0,  1,  0, -1,  0, -1, -2, -3, -4, -3, -2, -3, -4, -5, -4, -5,\n",
       "       -4, -5, -4, -3, -2, -1,  0,  1,  2,  3,  2,  1,  0,  1,  2,  3,  2,\n",
       "        3,  4,  5,  6,  7,  6,  7,  6,  7,  8,  9, 10, 11, 12, 13, 12, 13,\n",
       "       14, 15, 16, 17, 16, 17, 18, 17, 18, 19, 18, 17, 18, 17, 18, 17, 16,\n",
       "       15, 14, 15, 14, 15, 14, 13, 12, 13, 14, 15, 16, 17, 18, 19, 20, 19,\n",
       "       20, 19, 20, 21, 22, 21, 20, 19, 18, 19, 18, 17, 18, 17, 16, 17, 18,\n",
       "       19, 18, 17, 18, 17, 16, 17, 18, 19, 20, 21, 22, 23, 22, 23, 24, 23,\n",
       "       24, 25, 26, 25, 24, 23, 22, 21, 20, 19, 18, 19, 18, 17, 18, 17, 16,\n",
       "       17, 18, 19, 20, 19, 20, 21, 22, 23, 22, 23, 22, 23, 24, 23, 24, 23,\n",
       "       22, 21, 20, 19, 20, 21, 22, 23, 24, 23, 22, 23, 22, 23, 24, 23, 22,\n",
       "       23, 22, 21, 20, 21, 20, 19, 20, 19, 20, 21, 22, 23, 24, 23, 22, 21,\n",
       "       22, 21, 20, 19, 18, 19, 20, 21, 20, 19, 20, 19, 18, 17, 16, 15, 16,\n",
       "       17, 16, 17, 16, 15, 16, 17, 16, 17, 18, 19, 20, 19, 18])"
      ]
     },
     "execution_count": 3,
     "metadata": {},
     "output_type": "execute_result"
    }
   ],
   "source": [
    "# First Crossing time, the number of steps at which a random walk reaches a purticular value\n",
    "# Here we want to figure out how long/steps does it take for a random walk to get to a location \n",
    "# atleast 10 units in either direction away from origin in a 1-D plane\n",
    "np.random.seed(234)\n",
    "nsteps = 1000 # Let us run execute the random walk for 1000 steps\n",
    "draws = np.random.randn(nsteps)\n",
    "steps = np.where(draws > 0, 1, -1) # represent steps: forward as +1 and backward -1\n",
    "walk = steps.cumsum()\n",
    "walk"
   ]
  },
  {
   "cell_type": "code",
   "execution_count": 4,
   "metadata": {
    "ExecuteTime": {
     "end_time": "2019-09-06T11:34:41.811599Z",
     "start_time": "2019-09-06T11:34:41.706263Z"
    },
    "slideshow": {
     "slide_type": "subslide"
    }
   },
   "outputs": [
    {
     "data": {
      "image/png": "[encoded data removed]",
      "text/plain": [
       "<Figure size 432x288 with 1 Axes>"
      ]
     },
     "metadata": {
      "needs_background": "light"
     },
     "output_type": "display_data"
    },
    {
     "name": "stdout",
     "output_type": "stream",
     "text": [
      "No. of steps required to reach a crossing time of 10: [57]\n"
     ]
    }
   ],
   "source": [
    "%matplotlib inline\n",
    "plt.plot(walk)\n",
    "plt.ylabel('walk')\n",
    "plt.xlabel('steps')\n",
    "plt.show()\n",
    "loc10 = np.argwhere(walk>=10)[0] # get the index where we reach 10 units away from the origin \n",
    "print('No. of steps required to reach a crossing time of 10:', loc10)"
   ]
  },
  {
   "cell_type": "markdown",
   "metadata": {
    "slideshow": {
     "slide_type": "subslide"
    }
   },
   "source": [
    "- How will you simulate a single in a 2D space?\n",
    "- How will you find out the 1st intersection point of Multiple Random Walks on a 2D plane\n",
    "  - Having the same start for all\n",
    "  - Having random start for all"
   ]
  },
  {
   "cell_type": "code",
   "execution_count": null,
   "metadata": {},
   "outputs": [],
   "source": []
  }
 ],
 "metadata": {
  "celltoolbar": "Slideshow",
  "kernelspec": {
   "display_name": "Python 3.9.7 ('.env': venv)",
   "language": "python",
   "name": "python3"
  },
  "language_info": {
   "codemirror_mode": {
    "name": "ipython",
    "version": 3
   },
   "file_extension": ".py",
   "mimetype": "text/x-python",
   "name": "python",
   "nbconvert_exporter": "python",
   "pygments_lexer": "ipython3",
   "version": "3.9.7"
  },
  "varInspector": {
   "cols": {
    "lenName": 16,
    "lenType": 16,
    "lenVar": 40
   },
   "kernels_config": {
    "python": {
     "delete_cmd_postfix": "",
     "delete_cmd_prefix": "del ",
     "library": "var_list.py",
     "varRefreshCmd": "print(var_dic_list())"
    },
    "r": {
     "delete_cmd_postfix": ") ",
     "delete_cmd_prefix": "rm(",
     "library": "var_list.r",
     "varRefreshCmd": "cat(var_dic_list()) "
    }
   },
   "types_to_exclude": [
    "module",
    "function",
    "builtin_function_or_method",
    "instance",
    "_Feature"
   ],
   "window_display": false
  },
  "vscode": {
   "interpreter": {
    "hash": "8d024a190013529ebe86211d6cbdc4203a7ee381118bebdb79373c50f7cd9dc5"
   }
  }
 },
 "nbformat": 4,
 "nbformat_minor": 2
}
