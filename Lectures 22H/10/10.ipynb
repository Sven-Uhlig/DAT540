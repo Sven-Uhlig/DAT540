{
 "cells": [
  {
   "cell_type": "markdown",
   "metadata": {
    "slideshow": {
     "slide_type": "slide"
    }
   },
   "source": [
    "# Data Cleaning and Preparation\n",
    "## DAT540 Introduction to Data Science\n",
    "## University of Stavanger\n",
    "### L10\n",
    "#### Antorweep Chakravorty (antorweep.chakravorty@uis.no)"
   ]
  },
  {
   "cell_type": "code",
   "execution_count": 2,
   "metadata": {
    "ExecuteTime": {
     "end_time": "2019-09-26T10:24:50.100951Z",
     "start_time": "2019-09-26T10:24:49.887887Z"
    },
    "slideshow": {
     "slide_type": "skip"
    }
   },
   "outputs": [],
   "source": [
    "import numpy as np\n",
    "import pandas as pd"
   ]
  },
  {
   "cell_type": "markdown",
   "metadata": {
    "slideshow": {
     "slide_type": "slide"
    }
   },
   "source": [
    "- **Data Transformation**\n",
    "- *Removing Duplicates*\n",
    "- Duplicate rows may be found in a DataFrame for various reasons\n",
    "- *duplicated* instance method returns a boolean Series indicating whether each row is duplicate or has been observed before\n",
    "- *drop_duplicates* return a DataFrame where the duplicated array is False\n",
    "- The *subset* argument can be provided to either of the methods for detecting duplicates based on the filtered columns / rows\n",
    "- *keep* argument in drop_duplicates is used to retain the \"first\" (default) or \"last\" observed value"
   ]
  },
  {
   "cell_type": "code",
   "execution_count": 3,
   "metadata": {
    "ExecuteTime": {
     "end_time": "2019-09-26T12:50:51.522474Z",
     "start_time": "2019-09-26T12:50:48.065466Z"
    },
    "slideshow": {
     "slide_type": "subslide"
    }
   },
   "outputs": [
    {
     "data": {
      "text/plain": [
       "(32561, 15)"
      ]
     },
     "execution_count": 3,
     "metadata": {},
     "output_type": "execute_result"
    }
   ],
   "source": [
    "# Get the adult dataset from UCI Machine Learning repo\n",
    "adulturl =  'https://archive.ics.uci.edu/ml/machine-learning-databases/adult/adult.data'\n",
    "adult = pd.read_csv(adulturl, header=None)\n",
    "adult.shape"
   ]
  },
  {
   "cell_type": "code",
   "execution_count": 4,
   "metadata": {
    "ExecuteTime": {
     "end_time": "2019-09-26T10:54:56.598995Z",
     "start_time": "2019-09-26T10:54:56.580503Z"
    },
    "slideshow": {
     "slide_type": "fragment"
    }
   },
   "outputs": [
    {
     "data": {
      "text/html": [
       "<div>\n",
       "<style scoped>\n",
       "    .dataframe tbody tr th:only-of-type {\n",
       "        vertical-align: middle;\n",
       "    }\n",
       "\n",
       "    .dataframe tbody tr th {\n",
       "        vertical-align: top;\n",
       "    }\n",
       "\n",
       "    .dataframe thead th {\n",
       "        text-align: right;\n",
       "    }\n",
       "</style>\n",
       "<table border=\"1\" class=\"dataframe\">\n",
       "  <thead>\n",
       "    <tr style=\"text-align: right;\">\n",
       "      <th></th>\n",
       "      <th>0</th>\n",
       "      <th>1</th>\n",
       "      <th>2</th>\n",
       "      <th>3</th>\n",
       "      <th>4</th>\n",
       "      <th>5</th>\n",
       "      <th>6</th>\n",
       "      <th>7</th>\n",
       "      <th>8</th>\n",
       "      <th>9</th>\n",
       "      <th>10</th>\n",
       "      <th>11</th>\n",
       "      <th>12</th>\n",
       "      <th>13</th>\n",
       "      <th>14</th>\n",
       "    </tr>\n",
       "  </thead>\n",
       "  <tbody>\n",
       "    <tr>\n",
       "      <th>0</th>\n",
       "      <td>39</td>\n",
       "      <td>State-gov</td>\n",
       "      <td>77516</td>\n",
       "      <td>Bachelors</td>\n",
       "      <td>13</td>\n",
       "      <td>Never-married</td>\n",
       "      <td>Adm-clerical</td>\n",
       "      <td>Not-in-family</td>\n",
       "      <td>White</td>\n",
       "      <td>Male</td>\n",
       "      <td>2174</td>\n",
       "      <td>0</td>\n",
       "      <td>40</td>\n",
       "      <td>United-States</td>\n",
       "      <td>&lt;=50K</td>\n",
       "    </tr>\n",
       "    <tr>\n",
       "      <th>1</th>\n",
       "      <td>50</td>\n",
       "      <td>Self-emp-not-inc</td>\n",
       "      <td>83311</td>\n",
       "      <td>Bachelors</td>\n",
       "      <td>13</td>\n",
       "      <td>Married-civ-spouse</td>\n",
       "      <td>Exec-managerial</td>\n",
       "      <td>Husband</td>\n",
       "      <td>White</td>\n",
       "      <td>Male</td>\n",
       "      <td>0</td>\n",
       "      <td>0</td>\n",
       "      <td>13</td>\n",
       "      <td>United-States</td>\n",
       "      <td>&lt;=50K</td>\n",
       "    </tr>\n",
       "  </tbody>\n",
       "</table>\n",
       "</div>"
      ],
      "text/plain": [
       "   0                  1      2           3   4                    5   \\\n",
       "0  39          State-gov  77516   Bachelors  13        Never-married   \n",
       "1  50   Self-emp-not-inc  83311   Bachelors  13   Married-civ-spouse   \n",
       "\n",
       "                 6               7       8      9     10  11  12  \\\n",
       "0      Adm-clerical   Not-in-family   White   Male  2174   0  40   \n",
       "1   Exec-managerial         Husband   White   Male     0   0  13   \n",
       "\n",
       "               13      14  \n",
       "0   United-States   <=50K  \n",
       "1   United-States   <=50K  "
      ]
     },
     "execution_count": 4,
     "metadata": {},
     "output_type": "execute_result"
    }
   ],
   "source": [
    "adult.head(2)"
   ]
  },
  {
   "cell_type": "code",
   "execution_count": 52,
   "metadata": {
    "ExecuteTime": {
     "end_time": "2019-09-26T12:51:40.816142Z",
     "start_time": "2019-09-26T12:51:40.041666Z"
    },
    "slideshow": {
     "slide_type": "fragment"
    }
   },
   "outputs": [
    {
     "name": "stdout",
     "output_type": "stream",
     "text": [
      "shape (107, 1)\n"
     ]
    },
    {
     "data": {
      "text/html": [
       "<div>\n",
       "<style scoped>\n",
       "    .dataframe tbody tr th:only-of-type {\n",
       "        vertical-align: middle;\n",
       "    }\n",
       "\n",
       "    .dataframe tbody tr th {\n",
       "        vertical-align: top;\n",
       "    }\n",
       "\n",
       "    .dataframe thead th {\n",
       "        text-align: right;\n",
       "    }\n",
       "</style>\n",
       "<table border=\"1\" class=\"dataframe\">\n",
       "  <thead>\n",
       "    <tr style=\"text-align: right;\">\n",
       "      <th></th>\n",
       "      <th>0</th>\n",
       "    </tr>\n",
       "  </thead>\n",
       "  <tbody>\n",
       "    <tr>\n",
       "      <th>0</th>\n",
       "      <td>| This data was extracted from the census bure...</td>\n",
       "    </tr>\n",
       "    <tr>\n",
       "      <th>1</th>\n",
       "      <td>| http://www.census.gov/ftp/pub/DES/www/welcom...</td>\n",
       "    </tr>\n",
       "    <tr>\n",
       "      <th>2</th>\n",
       "      <td>| Donor: Ronny Kohavi and Barry Becker,</td>\n",
       "    </tr>\n",
       "    <tr>\n",
       "      <th>3</th>\n",
       "      <td>|        Data Mining and Visualization</td>\n",
       "    </tr>\n",
       "    <tr>\n",
       "      <th>4</th>\n",
       "      <td>|        Silicon Graphics.</td>\n",
       "    </tr>\n",
       "  </tbody>\n",
       "</table>\n",
       "</div>"
      ],
      "text/plain": [
       "                                                   0\n",
       "0  | This data was extracted from the census bure...\n",
       "1  | http://www.census.gov/ftp/pub/DES/www/welcom...\n",
       "2            | Donor: Ronny Kohavi and Barry Becker,\n",
       "3             |        Data Mining and Visualization\n",
       "4                         |        Silicon Graphics."
      ]
     },
     "execution_count": 52,
     "metadata": {},
     "output_type": "execute_result"
    }
   ],
   "source": [
    "# The names of column indices \n",
    "namesurl = 'https://archive.ics.uci.edu/ml/machine-learning-databases/adult/adult.names'\n",
    "names = pd.read_table(namesurl, header = None)\n",
    "print(\"shape\", names.shape)\n",
    "names.head(5)"
   ]
  },
  {
   "cell_type": "code",
   "execution_count": 53,
   "metadata": {
    "ExecuteTime": {
     "end_time": "2019-09-26T12:59:07.387903Z",
     "start_time": "2019-09-26T12:59:07.372906Z"
    },
    "slideshow": {
     "slide_type": "subslide"
    }
   },
   "outputs": [
    {
     "data": {
      "text/html": [
       "<div>\n",
       "<style scoped>\n",
       "    .dataframe tbody tr th:only-of-type {\n",
       "        vertical-align: middle;\n",
       "    }\n",
       "\n",
       "    .dataframe tbody tr th {\n",
       "        vertical-align: top;\n",
       "    }\n",
       "\n",
       "    .dataframe thead th {\n",
       "        text-align: right;\n",
       "    }\n",
       "</style>\n",
       "<table border=\"1\" class=\"dataframe\">\n",
       "  <thead>\n",
       "    <tr style=\"text-align: right;\">\n",
       "      <th></th>\n",
       "      <th>0</th>\n",
       "    </tr>\n",
       "  </thead>\n",
       "  <tbody>\n",
       "    <tr>\n",
       "      <th>0</th>\n",
       "      <td>| This data was extracted from the census bure...</td>\n",
       "    </tr>\n",
       "    <tr>\n",
       "      <th>1</th>\n",
       "      <td>| http://www.census.gov/ftp/pub/DES/www/welcom...</td>\n",
       "    </tr>\n",
       "    <tr>\n",
       "      <th>2</th>\n",
       "      <td>| Donor: Ronny Kohavi and Barry Becker,</td>\n",
       "    </tr>\n",
       "    <tr>\n",
       "      <th>3</th>\n",
       "      <td>|        Data Mining and Visualization</td>\n",
       "    </tr>\n",
       "    <tr>\n",
       "      <th>4</th>\n",
       "      <td>|        Silicon Graphics.</td>\n",
       "    </tr>\n",
       "    <tr>\n",
       "      <th>...</th>\n",
       "      <td>...</td>\n",
       "    </tr>\n",
       "    <tr>\n",
       "      <th>102</th>\n",
       "      <td>sex: Female, Male.</td>\n",
       "    </tr>\n",
       "    <tr>\n",
       "      <th>103</th>\n",
       "      <td>capital-gain: continuous.</td>\n",
       "    </tr>\n",
       "    <tr>\n",
       "      <th>104</th>\n",
       "      <td>capital-loss: continuous.</td>\n",
       "    </tr>\n",
       "    <tr>\n",
       "      <th>105</th>\n",
       "      <td>hours-per-week: continuous.</td>\n",
       "    </tr>\n",
       "    <tr>\n",
       "      <th>106</th>\n",
       "      <td>native-country: United-States, Cambodia, Engla...</td>\n",
       "    </tr>\n",
       "  </tbody>\n",
       "</table>\n",
       "<p>107 rows × 1 columns</p>\n",
       "</div>"
      ],
      "text/plain": [
       "                                                     0\n",
       "0    | This data was extracted from the census bure...\n",
       "1    | http://www.census.gov/ftp/pub/DES/www/welcom...\n",
       "2              | Donor: Ronny Kohavi and Barry Becker,\n",
       "3               |        Data Mining and Visualization\n",
       "4                           |        Silicon Graphics.\n",
       "..                                                 ...\n",
       "102                                 sex: Female, Male.\n",
       "103                          capital-gain: continuous.\n",
       "104                          capital-loss: continuous.\n",
       "105                        hours-per-week: continuous.\n",
       "106  native-country: United-States, Cambodia, Engla...\n",
       "\n",
       "[107 rows x 1 columns]"
      ]
     },
     "execution_count": 53,
     "metadata": {},
     "output_type": "execute_result"
    }
   ],
   "source": [
    "names"
   ]
  },
  {
   "cell_type": "code",
   "execution_count": 54,
   "metadata": {
    "ExecuteTime": {
     "end_time": "2019-09-26T12:59:07.634537Z",
     "start_time": "2019-09-26T12:59:07.626034Z"
    }
   },
   "outputs": [
    {
     "data": {
      "text/html": [
       "<div>\n",
       "<style scoped>\n",
       "    .dataframe tbody tr th:only-of-type {\n",
       "        vertical-align: middle;\n",
       "    }\n",
       "\n",
       "    .dataframe tbody tr th {\n",
       "        vertical-align: top;\n",
       "    }\n",
       "\n",
       "    .dataframe thead th {\n",
       "        text-align: right;\n",
       "    }\n",
       "</style>\n",
       "<table border=\"1\" class=\"dataframe\">\n",
       "  <thead>\n",
       "    <tr style=\"text-align: right;\">\n",
       "      <th></th>\n",
       "      <th>0</th>\n",
       "    </tr>\n",
       "  </thead>\n",
       "  <tbody>\n",
       "    <tr>\n",
       "      <th>92</th>\n",
       "      <td>&gt;50K, &lt;=50K.</td>\n",
       "    </tr>\n",
       "    <tr>\n",
       "      <th>93</th>\n",
       "      <td>age: continuous.</td>\n",
       "    </tr>\n",
       "    <tr>\n",
       "      <th>94</th>\n",
       "      <td>workclass: Private, Self-emp-not-inc, Self-emp...</td>\n",
       "    </tr>\n",
       "    <tr>\n",
       "      <th>95</th>\n",
       "      <td>fnlwgt: continuous.</td>\n",
       "    </tr>\n",
       "    <tr>\n",
       "      <th>96</th>\n",
       "      <td>education: Bachelors, Some-college, 11th, HS-g...</td>\n",
       "    </tr>\n",
       "    <tr>\n",
       "      <th>97</th>\n",
       "      <td>education-num: continuous.</td>\n",
       "    </tr>\n",
       "    <tr>\n",
       "      <th>98</th>\n",
       "      <td>marital-status: Married-civ-spouse, Divorced, ...</td>\n",
       "    </tr>\n",
       "    <tr>\n",
       "      <th>99</th>\n",
       "      <td>occupation: Tech-support, Craft-repair, Other-...</td>\n",
       "    </tr>\n",
       "    <tr>\n",
       "      <th>100</th>\n",
       "      <td>relationship: Wife, Own-child, Husband, Not-in...</td>\n",
       "    </tr>\n",
       "    <tr>\n",
       "      <th>101</th>\n",
       "      <td>race: White, Asian-Pac-Islander, Amer-Indian-E...</td>\n",
       "    </tr>\n",
       "    <tr>\n",
       "      <th>102</th>\n",
       "      <td>sex: Female, Male.</td>\n",
       "    </tr>\n",
       "    <tr>\n",
       "      <th>103</th>\n",
       "      <td>capital-gain: continuous.</td>\n",
       "    </tr>\n",
       "    <tr>\n",
       "      <th>104</th>\n",
       "      <td>capital-loss: continuous.</td>\n",
       "    </tr>\n",
       "    <tr>\n",
       "      <th>105</th>\n",
       "      <td>hours-per-week: continuous.</td>\n",
       "    </tr>\n",
       "    <tr>\n",
       "      <th>106</th>\n",
       "      <td>native-country: United-States, Cambodia, Engla...</td>\n",
       "    </tr>\n",
       "  </tbody>\n",
       "</table>\n",
       "</div>"
      ],
      "text/plain": [
       "                                                     0\n",
       "92                                        >50K, <=50K.\n",
       "93                                    age: continuous.\n",
       "94   workclass: Private, Self-emp-not-inc, Self-emp...\n",
       "95                                 fnlwgt: continuous.\n",
       "96   education: Bachelors, Some-college, 11th, HS-g...\n",
       "97                          education-num: continuous.\n",
       "98   marital-status: Married-civ-spouse, Divorced, ...\n",
       "99   occupation: Tech-support, Craft-repair, Other-...\n",
       "100  relationship: Wife, Own-child, Husband, Not-in...\n",
       "101  race: White, Asian-Pac-Islander, Amer-Indian-E...\n",
       "102                                 sex: Female, Male.\n",
       "103                          capital-gain: continuous.\n",
       "104                          capital-loss: continuous.\n",
       "105                        hours-per-week: continuous.\n",
       "106  native-country: United-States, Cambodia, Engla..."
      ]
     },
     "execution_count": 54,
     "metadata": {},
     "output_type": "execute_result"
    }
   ],
   "source": [
    "names.tail(adult.shape[1])"
   ]
  },
  {
   "cell_type": "code",
   "execution_count": 55,
   "metadata": {
    "ExecuteTime": {
     "end_time": "2019-09-26T12:59:10.715439Z",
     "start_time": "2019-09-26T12:59:10.711227Z"
    }
   },
   "outputs": [
    {
     "data": {
      "text/html": [
       "<div>\n",
       "<style scoped>\n",
       "    .dataframe tbody tr th:only-of-type {\n",
       "        vertical-align: middle;\n",
       "    }\n",
       "\n",
       "    .dataframe tbody tr th {\n",
       "        vertical-align: top;\n",
       "    }\n",
       "\n",
       "    .dataframe thead th {\n",
       "        text-align: right;\n",
       "    }\n",
       "</style>\n",
       "<table border=\"1\" class=\"dataframe\">\n",
       "  <thead>\n",
       "    <tr style=\"text-align: right;\">\n",
       "      <th></th>\n",
       "      <th>0</th>\n",
       "    </tr>\n",
       "  </thead>\n",
       "  <tbody>\n",
       "    <tr>\n",
       "      <th>92</th>\n",
       "      <td>&gt;50K, &lt;=50K.</td>\n",
       "    </tr>\n",
       "    <tr>\n",
       "      <th>93</th>\n",
       "      <td>age: continuous.</td>\n",
       "    </tr>\n",
       "    <tr>\n",
       "      <th>94</th>\n",
       "      <td>workclass: Private, Self-emp-not-inc, Self-emp...</td>\n",
       "    </tr>\n",
       "    <tr>\n",
       "      <th>95</th>\n",
       "      <td>fnlwgt: continuous.</td>\n",
       "    </tr>\n",
       "    <tr>\n",
       "      <th>96</th>\n",
       "      <td>education: Bachelors, Some-college, 11th, HS-g...</td>\n",
       "    </tr>\n",
       "    <tr>\n",
       "      <th>97</th>\n",
       "      <td>education-num: continuous.</td>\n",
       "    </tr>\n",
       "    <tr>\n",
       "      <th>98</th>\n",
       "      <td>marital-status: Married-civ-spouse, Divorced, ...</td>\n",
       "    </tr>\n",
       "    <tr>\n",
       "      <th>99</th>\n",
       "      <td>occupation: Tech-support, Craft-repair, Other-...</td>\n",
       "    </tr>\n",
       "    <tr>\n",
       "      <th>100</th>\n",
       "      <td>relationship: Wife, Own-child, Husband, Not-in...</td>\n",
       "    </tr>\n",
       "    <tr>\n",
       "      <th>101</th>\n",
       "      <td>race: White, Asian-Pac-Islander, Amer-Indian-E...</td>\n",
       "    </tr>\n",
       "    <tr>\n",
       "      <th>102</th>\n",
       "      <td>sex: Female, Male.</td>\n",
       "    </tr>\n",
       "    <tr>\n",
       "      <th>103</th>\n",
       "      <td>capital-gain: continuous.</td>\n",
       "    </tr>\n",
       "    <tr>\n",
       "      <th>104</th>\n",
       "      <td>capital-loss: continuous.</td>\n",
       "    </tr>\n",
       "    <tr>\n",
       "      <th>105</th>\n",
       "      <td>hours-per-week: continuous.</td>\n",
       "    </tr>\n",
       "    <tr>\n",
       "      <th>106</th>\n",
       "      <td>native-country: United-States, Cambodia, Engla...</td>\n",
       "    </tr>\n",
       "  </tbody>\n",
       "</table>\n",
       "</div>"
      ],
      "text/plain": [
       "                                                     0\n",
       "92                                        >50K, <=50K.\n",
       "93                                    age: continuous.\n",
       "94   workclass: Private, Self-emp-not-inc, Self-emp...\n",
       "95                                 fnlwgt: continuous.\n",
       "96   education: Bachelors, Some-college, 11th, HS-g...\n",
       "97                          education-num: continuous.\n",
       "98   marital-status: Married-civ-spouse, Divorced, ...\n",
       "99   occupation: Tech-support, Craft-repair, Other-...\n",
       "100  relationship: Wife, Own-child, Husband, Not-in...\n",
       "101  race: White, Asian-Pac-Islander, Amer-Indian-E...\n",
       "102                                 sex: Female, Male.\n",
       "103                          capital-gain: continuous.\n",
       "104                          capital-loss: continuous.\n",
       "105                        hours-per-week: continuous.\n",
       "106  native-country: United-States, Cambodia, Engla..."
      ]
     },
     "execution_count": 55,
     "metadata": {},
     "output_type": "execute_result"
    }
   ],
   "source": [
    "# retrieve only the relevant rows\n",
    "names = names.tail(adult.shape[1])\n",
    "names\n"
   ]
  },
  {
   "cell_type": "code",
   "execution_count": 56,
   "metadata": {
    "ExecuteTime": {
     "end_time": "2019-09-26T12:59:12.448153Z",
     "start_time": "2019-09-26T12:59:12.443455Z"
    },
    "slideshow": {
     "slide_type": "fragment"
    }
   },
   "outputs": [
    {
     "name": "stdout",
     "output_type": "stream",
     "text": [
      "['>50K, <=50K.', 'age', 'workclass', 'fnlwgt', 'education', 'education-num', 'marital-status', 'occupation', 'relationship', 'race', 'sex', 'capital-gain', 'capital-loss', 'hours-per-week', 'native-country']\n"
     ]
    }
   ],
   "source": [
    "names = names.reset_index(drop=True)\n",
    "names = list(names.applymap(lambda x: x.split(':')[0]).values.flatten())\n",
    "print(names)"
   ]
  },
  {
   "cell_type": "code",
   "execution_count": 57,
   "metadata": {
    "ExecuteTime": {
     "end_time": "2019-09-26T12:59:14.380653Z",
     "start_time": "2019-09-26T12:59:14.362491Z"
    }
   },
   "outputs": [
    {
     "data": {
      "text/html": [
       "<div>\n",
       "<style scoped>\n",
       "    .dataframe tbody tr th:only-of-type {\n",
       "        vertical-align: middle;\n",
       "    }\n",
       "\n",
       "    .dataframe tbody tr th {\n",
       "        vertical-align: top;\n",
       "    }\n",
       "\n",
       "    .dataframe thead th {\n",
       "        text-align: right;\n",
       "    }\n",
       "</style>\n",
       "<table border=\"1\" class=\"dataframe\">\n",
       "  <thead>\n",
       "    <tr style=\"text-align: right;\">\n",
       "      <th></th>\n",
       "      <th>Salary</th>\n",
       "      <th>Age</th>\n",
       "      <th>Workclass</th>\n",
       "      <th>Fnlwgt</th>\n",
       "      <th>Education</th>\n",
       "      <th>Education-Num</th>\n",
       "      <th>Marital-Status</th>\n",
       "      <th>Occupation</th>\n",
       "      <th>Relationship</th>\n",
       "      <th>Race</th>\n",
       "      <th>Sex</th>\n",
       "      <th>Capital-Gain</th>\n",
       "      <th>Capital-Loss</th>\n",
       "      <th>Weekly-Work-Hours</th>\n",
       "      <th>Native-Country</th>\n",
       "    </tr>\n",
       "  </thead>\n",
       "  <tbody>\n",
       "    <tr>\n",
       "      <th>0</th>\n",
       "      <td>39</td>\n",
       "      <td>State-gov</td>\n",
       "      <td>77516</td>\n",
       "      <td>Bachelors</td>\n",
       "      <td>13</td>\n",
       "      <td>Never-married</td>\n",
       "      <td>Adm-clerical</td>\n",
       "      <td>Not-in-family</td>\n",
       "      <td>White</td>\n",
       "      <td>Male</td>\n",
       "      <td>2174</td>\n",
       "      <td>0</td>\n",
       "      <td>40</td>\n",
       "      <td>United-States</td>\n",
       "      <td>&lt;=50K</td>\n",
       "    </tr>\n",
       "    <tr>\n",
       "      <th>1</th>\n",
       "      <td>50</td>\n",
       "      <td>Self-emp-not-inc</td>\n",
       "      <td>83311</td>\n",
       "      <td>Bachelors</td>\n",
       "      <td>13</td>\n",
       "      <td>Married-civ-spouse</td>\n",
       "      <td>Exec-managerial</td>\n",
       "      <td>Husband</td>\n",
       "      <td>White</td>\n",
       "      <td>Male</td>\n",
       "      <td>0</td>\n",
       "      <td>0</td>\n",
       "      <td>13</td>\n",
       "      <td>United-States</td>\n",
       "      <td>&lt;=50K</td>\n",
       "    </tr>\n",
       "  </tbody>\n",
       "</table>\n",
       "</div>"
      ],
      "text/plain": [
       "   Salary                Age  Workclass      Fnlwgt  Education  \\\n",
       "0      39          State-gov      77516   Bachelors         13   \n",
       "1      50   Self-emp-not-inc      83311   Bachelors         13   \n",
       "\n",
       "         Education-Num    Marital-Status      Occupation Relationship   Race  \\\n",
       "0        Never-married      Adm-clerical   Not-in-family        White   Male   \n",
       "1   Married-civ-spouse   Exec-managerial         Husband        White   Male   \n",
       "\n",
       "    Sex  Capital-Gain  Capital-Loss Weekly-Work-Hours Native-Country  \n",
       "0  2174             0            40     United-States          <=50K  \n",
       "1     0             0            13     United-States          <=50K  "
      ]
     },
     "execution_count": 57,
     "metadata": {},
     "output_type": "execute_result"
    }
   ],
   "source": [
    "adult.head(2)"
   ]
  },
  {
   "cell_type": "code",
   "execution_count": 58,
   "metadata": {
    "ExecuteTime": {
     "end_time": "2019-09-26T13:00:19.664991Z",
     "start_time": "2019-09-26T13:00:19.655392Z"
    },
    "slideshow": {
     "slide_type": "fragment"
    }
   },
   "outputs": [
    {
     "name": "stdout",
     "output_type": "stream",
     "text": [
      "['age', 'workclass', 'fnlwgt', 'education', 'education-num', 'marital-status', 'occupation', 'relationship', 'race', 'sex', 'capital-gain', 'capital-loss', 'hours-per-week', 'native-country', '>50K, <=50K.']\n"
     ]
    }
   ],
   "source": [
    "# shift indices in regards to the order of columns in adult\n",
    "names[-1:], names[:-1] = names[:1], names[1:]\n",
    "print(names)"
   ]
  },
  {
   "cell_type": "code",
   "execution_count": 59,
   "metadata": {
    "ExecuteTime": {
     "end_time": "2019-09-26T13:00:32.037722Z",
     "start_time": "2019-09-26T13:00:32.021483Z"
    },
    "slideshow": {
     "slide_type": "fragment"
    }
   },
   "outputs": [
    {
     "data": {
      "text/html": [
       "<div>\n",
       "<style scoped>\n",
       "    .dataframe tbody tr th:only-of-type {\n",
       "        vertical-align: middle;\n",
       "    }\n",
       "\n",
       "    .dataframe tbody tr th {\n",
       "        vertical-align: top;\n",
       "    }\n",
       "\n",
       "    .dataframe thead th {\n",
       "        text-align: right;\n",
       "    }\n",
       "</style>\n",
       "<table border=\"1\" class=\"dataframe\">\n",
       "  <thead>\n",
       "    <tr style=\"text-align: right;\">\n",
       "      <th></th>\n",
       "      <th>age</th>\n",
       "      <th>workclass</th>\n",
       "      <th>fnlwgt</th>\n",
       "      <th>education</th>\n",
       "      <th>education-num</th>\n",
       "      <th>marital-status</th>\n",
       "      <th>occupation</th>\n",
       "      <th>relationship</th>\n",
       "      <th>race</th>\n",
       "      <th>sex</th>\n",
       "      <th>capital-gain</th>\n",
       "      <th>capital-loss</th>\n",
       "      <th>hours-per-week</th>\n",
       "      <th>native-country</th>\n",
       "      <th>&gt;50K, &lt;=50K.</th>\n",
       "    </tr>\n",
       "  </thead>\n",
       "  <tbody>\n",
       "    <tr>\n",
       "      <th>0</th>\n",
       "      <td>39</td>\n",
       "      <td>State-gov</td>\n",
       "      <td>77516</td>\n",
       "      <td>Bachelors</td>\n",
       "      <td>13</td>\n",
       "      <td>Never-married</td>\n",
       "      <td>Adm-clerical</td>\n",
       "      <td>Not-in-family</td>\n",
       "      <td>White</td>\n",
       "      <td>Male</td>\n",
       "      <td>2174</td>\n",
       "      <td>0</td>\n",
       "      <td>40</td>\n",
       "      <td>United-States</td>\n",
       "      <td>&lt;=50K</td>\n",
       "    </tr>\n",
       "    <tr>\n",
       "      <th>1</th>\n",
       "      <td>50</td>\n",
       "      <td>Self-emp-not-inc</td>\n",
       "      <td>83311</td>\n",
       "      <td>Bachelors</td>\n",
       "      <td>13</td>\n",
       "      <td>Married-civ-spouse</td>\n",
       "      <td>Exec-managerial</td>\n",
       "      <td>Husband</td>\n",
       "      <td>White</td>\n",
       "      <td>Male</td>\n",
       "      <td>0</td>\n",
       "      <td>0</td>\n",
       "      <td>13</td>\n",
       "      <td>United-States</td>\n",
       "      <td>&lt;=50K</td>\n",
       "    </tr>\n",
       "  </tbody>\n",
       "</table>\n",
       "</div>"
      ],
      "text/plain": [
       "   age          workclass  fnlwgt   education  education-num  \\\n",
       "0   39          State-gov   77516   Bachelors             13   \n",
       "1   50   Self-emp-not-inc   83311   Bachelors             13   \n",
       "\n",
       "        marital-status        occupation    relationship    race    sex  \\\n",
       "0        Never-married      Adm-clerical   Not-in-family   White   Male   \n",
       "1   Married-civ-spouse   Exec-managerial         Husband   White   Male   \n",
       "\n",
       "   capital-gain  capital-loss  hours-per-week  native-country >50K, <=50K.  \n",
       "0          2174             0              40   United-States        <=50K  \n",
       "1             0             0              13   United-States        <=50K  "
      ]
     },
     "execution_count": 59,
     "metadata": {},
     "output_type": "execute_result"
    }
   ],
   "source": [
    "adult.columns = names\n",
    "adult.head(2)"
   ]
  },
  {
   "cell_type": "code",
   "execution_count": 60,
   "metadata": {
    "ExecuteTime": {
     "end_time": "2019-09-26T13:00:43.340051Z",
     "start_time": "2019-09-26T13:00:43.282912Z"
    },
    "slideshow": {
     "slide_type": "subslide"
    }
   },
   "outputs": [
    {
     "name": "stdout",
     "output_type": "stream",
     "text": [
      "shape of adults before removing duplicates (32537, 15)\n",
      "no. of duplicates 0\n",
      "shape of adults after removing duplicates (32537, 15)\n"
     ]
    }
   ],
   "source": [
    "print('shape of adults before removing duplicates', adult.shape)\n",
    "# check for duplicated on adults dataset using instance method duplicated\n",
    "print('no. of duplicates', adult.duplicated().sum(axis=0))\n",
    "# Remove the duplicate using drop_duplicates\n",
    "adult.drop_duplicates(inplace = True)\n",
    "print('shape of adults after removing duplicates', adult.shape)"
   ]
  },
  {
   "cell_type": "markdown",
   "metadata": {
    "slideshow": {
     "slide_type": "fragment"
    }
   },
   "source": [
    "- *Transforming Data Using a Function or Mapping*\n",
    "- Allows transformation based on values in an array, Series, or column in a DataFrame\n",
    "- The *map* instance method on a Series accepts a function or dict-like object containing a mapping. It returns a maps of the given Series to the values in the dict object\n",
    "- The map method also accepts a function, that performs an element wise operation for each value in the series returning the mapping"
   ]
  },
  {
   "cell_type": "code",
   "execution_count": 61,
   "metadata": {
    "ExecuteTime": {
     "end_time": "2019-09-26T11:02:39.457827Z",
     "start_time": "2019-09-26T11:02:39.439497Z"
    },
    "slideshow": {
     "slide_type": "fragment"
    }
   },
   "outputs": [
    {
     "data": {
      "text/plain": [
       "0       male\n",
       "1       male\n",
       "2       male\n",
       "3       male\n",
       "4     female\n",
       "Name: sex, dtype: object"
      ]
     },
     "execution_count": 61,
     "metadata": {},
     "output_type": "execute_result"
    }
   ],
   "source": [
    "# Transform gender to lower case\n",
    "adult['sex'].map(lambda x: x.lower()).head()"
   ]
  },
  {
   "cell_type": "markdown",
   "metadata": {
    "slideshow": {
     "slide_type": "subslide"
    }
   },
   "source": [
    "- *Replacing Values*\n",
    "- *replace* instance method, provides even a more simpler way for performing element wise transformation\n",
    "- It allows replacement of an encountered value to the specified value in a Series or DataFrame\n",
    "- The first argument (*to_replace*) looks for the values that has to be replaced. The second argument (*value*), specifies the values that would be replaced with\n",
    "- The arguments, could be scalar or a list allowing us to replace multiple values with scalar or replacing each value with a different replacement\n",
    "- A single dict would map the keys as the values to be replaced with the value for each key\n",
    "- the inplace argument can be provided for both of the methods, to perform operations without making a copy"
   ]
  },
  {
   "cell_type": "code",
   "execution_count": 62,
   "metadata": {
    "ExecuteTime": {
     "end_time": "2019-09-26T11:03:48.681453Z",
     "start_time": "2019-09-26T11:03:48.389196Z"
    },
    "slideshow": {
     "slide_type": "fragment"
    }
   },
   "outputs": [
    {
     "data": {
      "text/html": [
       "<div>\n",
       "<style scoped>\n",
       "    .dataframe tbody tr th:only-of-type {\n",
       "        vertical-align: middle;\n",
       "    }\n",
       "\n",
       "    .dataframe tbody tr th {\n",
       "        vertical-align: top;\n",
       "    }\n",
       "\n",
       "    .dataframe thead th {\n",
       "        text-align: right;\n",
       "    }\n",
       "</style>\n",
       "<table border=\"1\" class=\"dataframe\">\n",
       "  <thead>\n",
       "    <tr style=\"text-align: right;\">\n",
       "      <th></th>\n",
       "      <th>age</th>\n",
       "      <th>workclass</th>\n",
       "      <th>fnlwgt</th>\n",
       "      <th>education</th>\n",
       "      <th>education-num</th>\n",
       "      <th>marital-status</th>\n",
       "      <th>occupation</th>\n",
       "      <th>relationship</th>\n",
       "      <th>race</th>\n",
       "      <th>sex</th>\n",
       "      <th>capital-gain</th>\n",
       "      <th>capital-loss</th>\n",
       "      <th>hours-per-week</th>\n",
       "      <th>native-country</th>\n",
       "      <th>&gt;50K, &lt;=50K.</th>\n",
       "    </tr>\n",
       "  </thead>\n",
       "  <tbody>\n",
       "    <tr>\n",
       "      <th>0</th>\n",
       "      <td>39</td>\n",
       "      <td>State-gov</td>\n",
       "      <td>77516</td>\n",
       "      <td>Bachelors</td>\n",
       "      <td>13</td>\n",
       "      <td>Never-married</td>\n",
       "      <td>Adm-clerical</td>\n",
       "      <td>Not-in-family</td>\n",
       "      <td>White</td>\n",
       "      <td>m</td>\n",
       "      <td>2174</td>\n",
       "      <td>0</td>\n",
       "      <td>40</td>\n",
       "      <td>United-States</td>\n",
       "      <td>&lt;=50K</td>\n",
       "    </tr>\n",
       "    <tr>\n",
       "      <th>1</th>\n",
       "      <td>50</td>\n",
       "      <td>Self-emp-not-inc</td>\n",
       "      <td>83311</td>\n",
       "      <td>Bachelors</td>\n",
       "      <td>13</td>\n",
       "      <td>Married-civ-spouse</td>\n",
       "      <td>Exec-managerial</td>\n",
       "      <td>Husband</td>\n",
       "      <td>White</td>\n",
       "      <td>m</td>\n",
       "      <td>0</td>\n",
       "      <td>0</td>\n",
       "      <td>13</td>\n",
       "      <td>United-States</td>\n",
       "      <td>&lt;=50K</td>\n",
       "    </tr>\n",
       "  </tbody>\n",
       "</table>\n",
       "</div>"
      ],
      "text/plain": [
       "   age          workclass  fnlwgt   education  education-num  \\\n",
       "0   39          State-gov   77516   Bachelors             13   \n",
       "1   50   Self-emp-not-inc   83311   Bachelors             13   \n",
       "\n",
       "        marital-status        occupation    relationship    race sex  \\\n",
       "0        Never-married      Adm-clerical   Not-in-family   White   m   \n",
       "1   Married-civ-spouse   Exec-managerial         Husband   White   m   \n",
       "\n",
       "   capital-gain  capital-loss  hours-per-week  native-country >50K, <=50K.  \n",
       "0          2174             0              40   United-States        <=50K  \n",
       "1             0             0              13   United-States        <=50K  "
      ]
     },
     "execution_count": 62,
     "metadata": {},
     "output_type": "execute_result"
    }
   ],
   "source": [
    "# Using replace instance method. Set regex=True\n",
    "adult.replace(to_replace=['Male', 'Female'], value=['m','f'], regex=True).head(2)"
   ]
  },
  {
   "cell_type": "markdown",
   "metadata": {
    "slideshow": {
     "slide_type": "subslide"
    }
   },
   "source": [
    "- *Renaming Axis Indexes*\n",
    "- Axis labels can be transformed similarly using mapping\n",
    "- Like a Series, the axis indices have a map method\n",
    "- Alternatively, *rename* instance method can be used on a DataFrame to rename the columns and indices. A list or a dict can be provided to the method along with the inplace arg"
   ]
  },
  {
   "cell_type": "code",
   "execution_count": 63,
   "metadata": {
    "ExecuteTime": {
     "end_time": "2019-09-26T11:04:32.155898Z",
     "start_time": "2019-09-26T11:04:32.139572Z"
    },
    "slideshow": {
     "slide_type": "fragment"
    }
   },
   "outputs": [
    {
     "data": {
      "text/html": [
       "<div>\n",
       "<style scoped>\n",
       "    .dataframe tbody tr th:only-of-type {\n",
       "        vertical-align: middle;\n",
       "    }\n",
       "\n",
       "    .dataframe tbody tr th {\n",
       "        vertical-align: top;\n",
       "    }\n",
       "\n",
       "    .dataframe thead th {\n",
       "        text-align: right;\n",
       "    }\n",
       "</style>\n",
       "<table border=\"1\" class=\"dataframe\">\n",
       "  <thead>\n",
       "    <tr style=\"text-align: right;\">\n",
       "      <th></th>\n",
       "      <th>Age</th>\n",
       "      <th>Workclass</th>\n",
       "      <th>Fnlwgt</th>\n",
       "      <th>Education</th>\n",
       "      <th>Education-Num</th>\n",
       "      <th>Marital-Status</th>\n",
       "      <th>Occupation</th>\n",
       "      <th>Relationship</th>\n",
       "      <th>Race</th>\n",
       "      <th>Sex</th>\n",
       "      <th>Capital-Gain</th>\n",
       "      <th>Capital-Loss</th>\n",
       "      <th>Hours-Per-Week</th>\n",
       "      <th>Native-Country</th>\n",
       "      <th>&gt;50K, &lt;=50K.</th>\n",
       "    </tr>\n",
       "  </thead>\n",
       "  <tbody>\n",
       "    <tr>\n",
       "      <th>0</th>\n",
       "      <td>39</td>\n",
       "      <td>State-gov</td>\n",
       "      <td>77516</td>\n",
       "      <td>Bachelors</td>\n",
       "      <td>13</td>\n",
       "      <td>Never-married</td>\n",
       "      <td>Adm-clerical</td>\n",
       "      <td>Not-in-family</td>\n",
       "      <td>White</td>\n",
       "      <td>Male</td>\n",
       "      <td>2174</td>\n",
       "      <td>0</td>\n",
       "      <td>40</td>\n",
       "      <td>United-States</td>\n",
       "      <td>&lt;=50K</td>\n",
       "    </tr>\n",
       "    <tr>\n",
       "      <th>1</th>\n",
       "      <td>50</td>\n",
       "      <td>Self-emp-not-inc</td>\n",
       "      <td>83311</td>\n",
       "      <td>Bachelors</td>\n",
       "      <td>13</td>\n",
       "      <td>Married-civ-spouse</td>\n",
       "      <td>Exec-managerial</td>\n",
       "      <td>Husband</td>\n",
       "      <td>White</td>\n",
       "      <td>Male</td>\n",
       "      <td>0</td>\n",
       "      <td>0</td>\n",
       "      <td>13</td>\n",
       "      <td>United-States</td>\n",
       "      <td>&lt;=50K</td>\n",
       "    </tr>\n",
       "  </tbody>\n",
       "</table>\n",
       "</div>"
      ],
      "text/plain": [
       "   Age          Workclass  Fnlwgt   Education  Education-Num  \\\n",
       "0   39          State-gov   77516   Bachelors             13   \n",
       "1   50   Self-emp-not-inc   83311   Bachelors             13   \n",
       "\n",
       "        Marital-Status        Occupation    Relationship    Race    Sex  \\\n",
       "0        Never-married      Adm-clerical   Not-in-family   White   Male   \n",
       "1   Married-civ-spouse   Exec-managerial         Husband   White   Male   \n",
       "\n",
       "   Capital-Gain  Capital-Loss  Hours-Per-Week  Native-Country >50K, <=50K.  \n",
       "0          2174             0              40   United-States        <=50K  \n",
       "1             0             0              13   United-States        <=50K  "
      ]
     },
     "execution_count": 63,
     "metadata": {},
     "output_type": "execute_result"
    }
   ],
   "source": [
    "# Let us change the column names of the adult dataset with each name starting with a capital letter. \n",
    "# Also strip any whitespaces\n",
    "# The same can be done for the row indices\n",
    "adult.columns = adult.columns.map(lambda x: x.title().strip())\n",
    "adult.head(2)"
   ]
  },
  {
   "cell_type": "code",
   "execution_count": 64,
   "metadata": {
    "ExecuteTime": {
     "end_time": "2019-09-26T11:04:45.619277Z",
     "start_time": "2019-09-26T11:04:45.597930Z"
    },
    "slideshow": {
     "slide_type": "subslide"
    }
   },
   "outputs": [
    {
     "data": {
      "text/html": [
       "<div>\n",
       "<style scoped>\n",
       "    .dataframe tbody tr th:only-of-type {\n",
       "        vertical-align: middle;\n",
       "    }\n",
       "\n",
       "    .dataframe tbody tr th {\n",
       "        vertical-align: top;\n",
       "    }\n",
       "\n",
       "    .dataframe thead th {\n",
       "        text-align: right;\n",
       "    }\n",
       "</style>\n",
       "<table border=\"1\" class=\"dataframe\">\n",
       "  <thead>\n",
       "    <tr style=\"text-align: right;\">\n",
       "      <th></th>\n",
       "      <th>Age</th>\n",
       "      <th>Workclass</th>\n",
       "      <th>Fnlwgt</th>\n",
       "      <th>Education</th>\n",
       "      <th>Education-Num</th>\n",
       "      <th>Marital-Status</th>\n",
       "      <th>Occupation</th>\n",
       "      <th>Relationship</th>\n",
       "      <th>Race</th>\n",
       "      <th>Sex</th>\n",
       "      <th>Capital-Gain</th>\n",
       "      <th>Capital-Loss</th>\n",
       "      <th>Weekly-Work-Hours</th>\n",
       "      <th>Native-Country</th>\n",
       "      <th>Salary</th>\n",
       "    </tr>\n",
       "  </thead>\n",
       "  <tbody>\n",
       "    <tr>\n",
       "      <th>0</th>\n",
       "      <td>39</td>\n",
       "      <td>State-gov</td>\n",
       "      <td>77516</td>\n",
       "      <td>Bachelors</td>\n",
       "      <td>13</td>\n",
       "      <td>Never-married</td>\n",
       "      <td>Adm-clerical</td>\n",
       "      <td>Not-in-family</td>\n",
       "      <td>White</td>\n",
       "      <td>Male</td>\n",
       "      <td>2174</td>\n",
       "      <td>0</td>\n",
       "      <td>40</td>\n",
       "      <td>United-States</td>\n",
       "      <td>&lt;=50K</td>\n",
       "    </tr>\n",
       "    <tr>\n",
       "      <th>1</th>\n",
       "      <td>50</td>\n",
       "      <td>Self-emp-not-inc</td>\n",
       "      <td>83311</td>\n",
       "      <td>Bachelors</td>\n",
       "      <td>13</td>\n",
       "      <td>Married-civ-spouse</td>\n",
       "      <td>Exec-managerial</td>\n",
       "      <td>Husband</td>\n",
       "      <td>White</td>\n",
       "      <td>Male</td>\n",
       "      <td>0</td>\n",
       "      <td>0</td>\n",
       "      <td>13</td>\n",
       "      <td>United-States</td>\n",
       "      <td>&lt;=50K</td>\n",
       "    </tr>\n",
       "  </tbody>\n",
       "</table>\n",
       "</div>"
      ],
      "text/plain": [
       "   Age          Workclass  Fnlwgt   Education  Education-Num  \\\n",
       "0   39          State-gov   77516   Bachelors             13   \n",
       "1   50   Self-emp-not-inc   83311   Bachelors             13   \n",
       "\n",
       "        Marital-Status        Occupation    Relationship    Race    Sex  \\\n",
       "0        Never-married      Adm-clerical   Not-in-family   White   Male   \n",
       "1   Married-civ-spouse   Exec-managerial         Husband   White   Male   \n",
       "\n",
       "   Capital-Gain  Capital-Loss  Weekly-Work-Hours  Native-Country  Salary  \n",
       "0          2174             0                 40   United-States   <=50K  \n",
       "1             0             0                 13   United-States   <=50K  "
      ]
     },
     "execution_count": 64,
     "metadata": {},
     "output_type": "execute_result"
    }
   ],
   "source": [
    "# Alternatively the rename instance method can be used with a dict to rename columns or index\n",
    "adult.rename(columns={'>50K, <=50K.': 'Salary', 'Hours-Per-Week': 'Weekly-Work-Hours'}, inplace=True)\n",
    "adult.head(2)"
   ]
  },
  {
   "cell_type": "markdown",
   "metadata": {
    "slideshow": {
     "slide_type": "subslide"
    }
   },
   "source": [
    "- *Discretization and Binning*\n",
    "- Continuous data is sometimes preferred to be discretized or separated into \"bins\" for analysis\n",
    "- pandas offers a top-level *cut* method to segment and sort data values into bins\n",
    "  - The first argument is a array-like 1-D object that we want to discretise\n",
    "  - The second argument *bins* is a int, sequence of scalar or pandas.IntervalIndex. Providing a scaler int, creates the specified number of  equal length bins\n",
    "  - The *right* bool argument indicates whether bins include the right most edge\n",
    "  - *labels* array or bool specifies the labels for the returned bins (optional)\n",
    "  - The *precision* (int, default 3) argument defines the precision at which to store and display the bins labels.\n",
    "  - cut method returns a *Categorical* object with codes and categories\n",
    "- *qcut* another top-level method bins the data on sample quantiles based on the distribution of the data"
   ]
  },
  {
   "cell_type": "code",
   "execution_count": 66,
   "metadata": {
    "ExecuteTime": {
     "end_time": "2019-09-26T11:11:35.144860Z",
     "start_time": "2019-09-26T11:11:35.131281Z"
    },
    "slideshow": {
     "slide_type": "subslide"
    }
   },
   "outputs": [
    {
     "data": {
      "text/plain": [
       "Early Adulthood     12043\n",
       "Teen                10912\n",
       "Midlife              6361\n",
       "Late Childhood       2178\n",
       "Middle Childhood      945\n",
       "Mature Adulthood       98\n",
       "Infant                  0\n",
       "Toddler                 0\n",
       "Early Childhood         0\n",
       "Late Adulthood          0\n",
       "Name: Age, dtype: int64"
      ]
     },
     "execution_count": 66,
     "metadata": {},
     "output_type": "execute_result"
    }
   ],
   "source": [
    "# Create bins for the ages into ageBins\n",
    "# bins = [2, 3, 5, 12, 18, 21, 34, 50, 80, 100, 1000]\n",
    "# label = labels=['Infant', 'Toddler', 'Early Childhood ', 'Middle Childhood', 'Late Childhood', 'Teen', 'Early Adulthood', 'Midlife', 'Mature Adulthood', 'Late Adulthood']\n",
    "# right = True, to create inclusive bins\n",
    "ageBins = pd.cut(adult['Age'], bins=[2, 3, 5, 12, 18, 21, 34, 50, 80, 100, 1000], right=True, labels=['Infant', 'Toddler', 'Early Childhood ', 'Middle Childhood', 'Late Childhood', 'Teen', 'Early Adulthood', 'Midlife', 'Mature Adulthood', 'Late Adulthood'])\n",
    "# Use value_counts() to display the frequencies\n",
    "ageBins.value_counts()"
   ]
  },
  {
   "cell_type": "code",
   "execution_count": 67,
   "metadata": {
    "ExecuteTime": {
     "end_time": "2019-09-26T11:12:18.532002Z",
     "start_time": "2019-09-26T11:12:18.511441Z"
    },
    "slideshow": {
     "slide_type": "subslide"
    }
   },
   "outputs": [
    {
     "name": "stdout",
     "output_type": "stream",
     "text": [
      "pd.qcut:\n",
      " (16.999, 28.0]    8885\n",
      "(37.0, 48.0]      8235\n",
      "(28.0, 37.0]      7781\n",
      "(48.0, 90.0]      7636\n",
      "Name: Age, dtype: int64\n",
      "pd.cut:\n",
      " (16.927, 35.25]    14910\n",
      "(35.25, 53.5]      12705\n",
      "(53.5, 71.75]       4455\n",
      "(71.75, 90.0]        467\n",
      "Name: Age, dtype: int64\n"
     ]
    }
   ],
   "source": [
    "# cut chooses the bins to be evenly spaced according to the values themselves and not the frequency of those values. \n",
    "# qcut chooses the bins to be evenly spaced according to the frequencies of the bins\n",
    "# demonstrate qcut and cut on Age with 4 bins. Use value_counts() to display the frequencies\n",
    "print('pd.qcut:\\n', pd.qcut(adult['Age'], 4).value_counts())\n",
    "print('pd.cut:\\n', pd.cut(adult['Age'], 4).value_counts())"
   ]
  },
  {
   "cell_type": "markdown",
   "metadata": {
    "slideshow": {
     "slide_type": "subslide"
    }
   },
   "source": [
    "- *Detecting and Filtering Outliers*\n",
    "- Is a matter of applying array operations\n"
   ]
  },
  {
   "cell_type": "code",
   "execution_count": 68,
   "metadata": {
    "ExecuteTime": {
     "end_time": "2019-09-26T13:10:06.644517Z",
     "start_time": "2019-09-26T13:10:06.603455Z"
    },
    "slideshow": {
     "slide_type": "fragment"
    }
   },
   "outputs": [
    {
     "data": {
      "text/html": [
       "<div>\n",
       "<style scoped>\n",
       "    .dataframe tbody tr th:only-of-type {\n",
       "        vertical-align: middle;\n",
       "    }\n",
       "\n",
       "    .dataframe tbody tr th {\n",
       "        vertical-align: top;\n",
       "    }\n",
       "\n",
       "    .dataframe thead th {\n",
       "        text-align: right;\n",
       "    }\n",
       "</style>\n",
       "<table border=\"1\" class=\"dataframe\">\n",
       "  <thead>\n",
       "    <tr style=\"text-align: right;\">\n",
       "      <th></th>\n",
       "      <th>Age</th>\n",
       "      <th>Fnlwgt</th>\n",
       "      <th>Education-Num</th>\n",
       "      <th>Capital-Gain</th>\n",
       "      <th>Capital-Loss</th>\n",
       "      <th>Weekly-Work-Hours</th>\n",
       "    </tr>\n",
       "  </thead>\n",
       "  <tbody>\n",
       "    <tr>\n",
       "      <th>count</th>\n",
       "      <td>32537.000000</td>\n",
       "      <td>3.253700e+04</td>\n",
       "      <td>32537.000000</td>\n",
       "      <td>32537.000000</td>\n",
       "      <td>32537.000000</td>\n",
       "      <td>32537.000000</td>\n",
       "    </tr>\n",
       "    <tr>\n",
       "      <th>mean</th>\n",
       "      <td>38.585549</td>\n",
       "      <td>1.897808e+05</td>\n",
       "      <td>10.081815</td>\n",
       "      <td>1078.443741</td>\n",
       "      <td>87.368227</td>\n",
       "      <td>40.440329</td>\n",
       "    </tr>\n",
       "    <tr>\n",
       "      <th>std</th>\n",
       "      <td>13.637984</td>\n",
       "      <td>1.055565e+05</td>\n",
       "      <td>2.571633</td>\n",
       "      <td>7387.957424</td>\n",
       "      <td>403.101833</td>\n",
       "      <td>12.346889</td>\n",
       "    </tr>\n",
       "    <tr>\n",
       "      <th>min</th>\n",
       "      <td>17.000000</td>\n",
       "      <td>1.228500e+04</td>\n",
       "      <td>1.000000</td>\n",
       "      <td>0.000000</td>\n",
       "      <td>0.000000</td>\n",
       "      <td>1.000000</td>\n",
       "    </tr>\n",
       "    <tr>\n",
       "      <th>25%</th>\n",
       "      <td>28.000000</td>\n",
       "      <td>1.178270e+05</td>\n",
       "      <td>9.000000</td>\n",
       "      <td>0.000000</td>\n",
       "      <td>0.000000</td>\n",
       "      <td>40.000000</td>\n",
       "    </tr>\n",
       "    <tr>\n",
       "      <th>50%</th>\n",
       "      <td>37.000000</td>\n",
       "      <td>1.783560e+05</td>\n",
       "      <td>10.000000</td>\n",
       "      <td>0.000000</td>\n",
       "      <td>0.000000</td>\n",
       "      <td>40.000000</td>\n",
       "    </tr>\n",
       "    <tr>\n",
       "      <th>75%</th>\n",
       "      <td>48.000000</td>\n",
       "      <td>2.369930e+05</td>\n",
       "      <td>12.000000</td>\n",
       "      <td>0.000000</td>\n",
       "      <td>0.000000</td>\n",
       "      <td>45.000000</td>\n",
       "    </tr>\n",
       "    <tr>\n",
       "      <th>max</th>\n",
       "      <td>90.000000</td>\n",
       "      <td>1.484705e+06</td>\n",
       "      <td>16.000000</td>\n",
       "      <td>99999.000000</td>\n",
       "      <td>4356.000000</td>\n",
       "      <td>99.000000</td>\n",
       "    </tr>\n",
       "  </tbody>\n",
       "</table>\n",
       "</div>"
      ],
      "text/plain": [
       "                Age        Fnlwgt  Education-Num  Capital-Gain  Capital-Loss  \\\n",
       "count  32537.000000  3.253700e+04   32537.000000  32537.000000  32537.000000   \n",
       "mean      38.585549  1.897808e+05      10.081815   1078.443741     87.368227   \n",
       "std       13.637984  1.055565e+05       2.571633   7387.957424    403.101833   \n",
       "min       17.000000  1.228500e+04       1.000000      0.000000      0.000000   \n",
       "25%       28.000000  1.178270e+05       9.000000      0.000000      0.000000   \n",
       "50%       37.000000  1.783560e+05      10.000000      0.000000      0.000000   \n",
       "75%       48.000000  2.369930e+05      12.000000      0.000000      0.000000   \n",
       "max       90.000000  1.484705e+06      16.000000  99999.000000   4356.000000   \n",
       "\n",
       "       Weekly-Work-Hours  \n",
       "count       32537.000000  \n",
       "mean           40.440329  \n",
       "std            12.346889  \n",
       "min             1.000000  \n",
       "25%            40.000000  \n",
       "50%            40.000000  \n",
       "75%            45.000000  \n",
       "max            99.000000  "
      ]
     },
     "execution_count": 68,
     "metadata": {},
     "output_type": "execute_result"
    }
   ],
   "source": [
    "# Perfrom describe on the adult data set to have an overview\n",
    "adult.describe()"
   ]
  },
  {
   "cell_type": "code",
   "execution_count": 69,
   "metadata": {
    "ExecuteTime": {
     "end_time": "2019-09-26T11:14:58.183612Z",
     "start_time": "2019-09-26T11:14:58.159141Z"
    },
    "slideshow": {
     "slide_type": "subslide"
    }
   },
   "outputs": [
    {
     "data": {
      "text/plain": [
       "(5, 40]       69.938839\n",
       "(40, 80]      28.791837\n",
       "(3, 5]         0.350370\n",
       "(80, 90]       0.301196\n",
       "(98, 1000]     0.261241\n",
       "(2, 3]         0.119864\n",
       "(1, 2]         0.098350\n",
       "(90, 98]       0.076836\n",
       "(0, 1]         0.061468\n",
       "Name: Weekly-Work-Hours, dtype: float64"
      ]
     },
     "execution_count": 69,
     "metadata": {},
     "output_type": "execute_result"
    }
   ],
   "source": [
    "# From an overview, we notice that someone works only 1 hour and another 99 hours per week. \n",
    "# How many of such people are there. Is it the norm?\n",
    "# Might be that there are more anomalies in the Weekly-Work-Hours Series\n",
    "# Create bins using pd.cut on Weekly-Work-Hours and perform value_counts() to gain a deep overview\n",
    "# use bins=[0, 1, 2, 3, 5, 40, 80, 90, 98, 1000] and right=True\n",
    "# use maps on value_counts to generate the percentage\n",
    "# is there anomalies?\n",
    "pd.cut(adult['Weekly-Work-Hours'], bins=[0, 1, 2, 3, 5, 40, 80, 90, 98, 1000], right=True).value_counts().map(lambda x: x/adult['Weekly-Work-Hours'].value_counts().sum() * 100)"
   ]
  },
  {
   "cell_type": "markdown",
   "metadata": {
    "slideshow": {
     "slide_type": "subslide"
    }
   },
   "source": [
    "- *Permutaion and Random Sampling*\n",
    "- Permuting (randomly ordering) a Series or rows in a DataFrame can be performed using *numpy.random.permutation* top-level method\n",
    "- Calling *permutation* with the length of the axis required for permuting produces an array of integers indicating new ordering\n",
    "- *iloc* based indexing or the equivalent *take* instance method can be used to select the required indices or columns\n",
    "- The *sample* instance method of a DataFrame or Series randomly retrieves the number of specified elements from an axis\n",
    "  - the *replace* bool arg. specifies requirement for generating samples *with replacement*"
   ]
  },
  {
   "cell_type": "code",
   "execution_count": 70,
   "metadata": {
    "ExecuteTime": {
     "end_time": "2019-09-26T11:15:57.868073Z",
     "start_time": "2019-09-26T11:15:57.849899Z"
    },
    "slideshow": {
     "slide_type": "subslide"
    }
   },
   "outputs": [
    {
     "name": "stdout",
     "output_type": "stream",
     "text": [
      "sampler [0 2 1]\n"
     ]
    },
    {
     "data": {
      "text/html": [
       "<div>\n",
       "<style scoped>\n",
       "    .dataframe tbody tr th:only-of-type {\n",
       "        vertical-align: middle;\n",
       "    }\n",
       "\n",
       "    .dataframe tbody tr th {\n",
       "        vertical-align: top;\n",
       "    }\n",
       "\n",
       "    .dataframe thead th {\n",
       "        text-align: right;\n",
       "    }\n",
       "</style>\n",
       "<table border=\"1\" class=\"dataframe\">\n",
       "  <thead>\n",
       "    <tr style=\"text-align: right;\">\n",
       "      <th></th>\n",
       "      <th>Age</th>\n",
       "      <th>Workclass</th>\n",
       "      <th>Fnlwgt</th>\n",
       "      <th>Education</th>\n",
       "      <th>Education-Num</th>\n",
       "      <th>Marital-Status</th>\n",
       "      <th>Occupation</th>\n",
       "      <th>Relationship</th>\n",
       "      <th>Race</th>\n",
       "      <th>Sex</th>\n",
       "      <th>Capital-Gain</th>\n",
       "      <th>Capital-Loss</th>\n",
       "      <th>Weekly-Work-Hours</th>\n",
       "      <th>Native-Country</th>\n",
       "      <th>Salary</th>\n",
       "    </tr>\n",
       "  </thead>\n",
       "  <tbody>\n",
       "    <tr>\n",
       "      <th>0</th>\n",
       "      <td>39</td>\n",
       "      <td>State-gov</td>\n",
       "      <td>77516</td>\n",
       "      <td>Bachelors</td>\n",
       "      <td>13</td>\n",
       "      <td>Never-married</td>\n",
       "      <td>Adm-clerical</td>\n",
       "      <td>Not-in-family</td>\n",
       "      <td>White</td>\n",
       "      <td>Male</td>\n",
       "      <td>2174</td>\n",
       "      <td>0</td>\n",
       "      <td>40</td>\n",
       "      <td>United-States</td>\n",
       "      <td>&lt;=50K</td>\n",
       "    </tr>\n",
       "    <tr>\n",
       "      <th>2</th>\n",
       "      <td>38</td>\n",
       "      <td>Private</td>\n",
       "      <td>215646</td>\n",
       "      <td>HS-grad</td>\n",
       "      <td>9</td>\n",
       "      <td>Divorced</td>\n",
       "      <td>Handlers-cleaners</td>\n",
       "      <td>Not-in-family</td>\n",
       "      <td>White</td>\n",
       "      <td>Male</td>\n",
       "      <td>0</td>\n",
       "      <td>0</td>\n",
       "      <td>40</td>\n",
       "      <td>United-States</td>\n",
       "      <td>&lt;=50K</td>\n",
       "    </tr>\n",
       "    <tr>\n",
       "      <th>1</th>\n",
       "      <td>50</td>\n",
       "      <td>Self-emp-not-inc</td>\n",
       "      <td>83311</td>\n",
       "      <td>Bachelors</td>\n",
       "      <td>13</td>\n",
       "      <td>Married-civ-spouse</td>\n",
       "      <td>Exec-managerial</td>\n",
       "      <td>Husband</td>\n",
       "      <td>White</td>\n",
       "      <td>Male</td>\n",
       "      <td>0</td>\n",
       "      <td>0</td>\n",
       "      <td>13</td>\n",
       "      <td>United-States</td>\n",
       "      <td>&lt;=50K</td>\n",
       "    </tr>\n",
       "  </tbody>\n",
       "</table>\n",
       "</div>"
      ],
      "text/plain": [
       "   Age          Workclass  Fnlwgt   Education  Education-Num  \\\n",
       "0   39          State-gov   77516   Bachelors             13   \n",
       "2   38            Private  215646     HS-grad              9   \n",
       "1   50   Self-emp-not-inc   83311   Bachelors             13   \n",
       "\n",
       "        Marital-Status          Occupation    Relationship    Race    Sex  \\\n",
       "0        Never-married        Adm-clerical   Not-in-family   White   Male   \n",
       "2             Divorced   Handlers-cleaners   Not-in-family   White   Male   \n",
       "1   Married-civ-spouse     Exec-managerial         Husband   White   Male   \n",
       "\n",
       "   Capital-Gain  Capital-Loss  Weekly-Work-Hours  Native-Country  Salary  \n",
       "0          2174             0                 40   United-States   <=50K  \n",
       "2             0             0                 40   United-States   <=50K  \n",
       "1             0             0                 13   United-States   <=50K  "
      ]
     },
     "execution_count": 70,
     "metadata": {},
     "output_type": "execute_result"
    }
   ],
   "source": [
    "# we will use numpy.random.permutation to generate a seq len 3 of permuted ints between 0 and 3\n",
    "sampler = np.random.permutation(3)\n",
    "print('sampler', sampler)\n",
    "# Use iLoc argument of adult df to sample rows (alternatively we could use take instance method with the sampler)\n",
    "adult.iloc[sampler]"
   ]
  },
  {
   "cell_type": "code",
   "execution_count": 71,
   "metadata": {
    "ExecuteTime": {
     "end_time": "2019-09-26T11:16:07.018532Z",
     "start_time": "2019-09-26T11:16:06.996582Z"
    },
    "slideshow": {
     "slide_type": "subslide"
    }
   },
   "outputs": [
    {
     "data": {
      "text/html": [
       "<div>\n",
       "<style scoped>\n",
       "    .dataframe tbody tr th:only-of-type {\n",
       "        vertical-align: middle;\n",
       "    }\n",
       "\n",
       "    .dataframe tbody tr th {\n",
       "        vertical-align: top;\n",
       "    }\n",
       "\n",
       "    .dataframe thead th {\n",
       "        text-align: right;\n",
       "    }\n",
       "</style>\n",
       "<table border=\"1\" class=\"dataframe\">\n",
       "  <thead>\n",
       "    <tr style=\"text-align: right;\">\n",
       "      <th></th>\n",
       "      <th>Age</th>\n",
       "      <th>Workclass</th>\n",
       "      <th>Fnlwgt</th>\n",
       "      <th>Education</th>\n",
       "      <th>Education-Num</th>\n",
       "      <th>Marital-Status</th>\n",
       "      <th>Occupation</th>\n",
       "      <th>Relationship</th>\n",
       "      <th>Race</th>\n",
       "      <th>Sex</th>\n",
       "      <th>Capital-Gain</th>\n",
       "      <th>Capital-Loss</th>\n",
       "      <th>Weekly-Work-Hours</th>\n",
       "      <th>Native-Country</th>\n",
       "      <th>Salary</th>\n",
       "    </tr>\n",
       "  </thead>\n",
       "  <tbody>\n",
       "    <tr>\n",
       "      <th>6530</th>\n",
       "      <td>40</td>\n",
       "      <td>Private</td>\n",
       "      <td>321758</td>\n",
       "      <td>HS-grad</td>\n",
       "      <td>9</td>\n",
       "      <td>Married-civ-spouse</td>\n",
       "      <td>Sales</td>\n",
       "      <td>Husband</td>\n",
       "      <td>White</td>\n",
       "      <td>Male</td>\n",
       "      <td>0</td>\n",
       "      <td>0</td>\n",
       "      <td>40</td>\n",
       "      <td>United-States</td>\n",
       "      <td>&gt;50K</td>\n",
       "    </tr>\n",
       "    <tr>\n",
       "      <th>3912</th>\n",
       "      <td>49</td>\n",
       "      <td>Private</td>\n",
       "      <td>82649</td>\n",
       "      <td>Bachelors</td>\n",
       "      <td>13</td>\n",
       "      <td>Married-civ-spouse</td>\n",
       "      <td>Prof-specialty</td>\n",
       "      <td>Husband</td>\n",
       "      <td>White</td>\n",
       "      <td>Male</td>\n",
       "      <td>5013</td>\n",
       "      <td>0</td>\n",
       "      <td>45</td>\n",
       "      <td>United-States</td>\n",
       "      <td>&lt;=50K</td>\n",
       "    </tr>\n",
       "    <tr>\n",
       "      <th>2549</th>\n",
       "      <td>43</td>\n",
       "      <td>Private</td>\n",
       "      <td>57600</td>\n",
       "      <td>Doctorate</td>\n",
       "      <td>16</td>\n",
       "      <td>Married-spouse-absent</td>\n",
       "      <td>Prof-specialty</td>\n",
       "      <td>Not-in-family</td>\n",
       "      <td>White</td>\n",
       "      <td>Female</td>\n",
       "      <td>0</td>\n",
       "      <td>0</td>\n",
       "      <td>40</td>\n",
       "      <td>?</td>\n",
       "      <td>&lt;=50K</td>\n",
       "    </tr>\n",
       "  </tbody>\n",
       "</table>\n",
       "</div>"
      ],
      "text/plain": [
       "      Age Workclass  Fnlwgt   Education  Education-Num  \\\n",
       "6530   40   Private  321758     HS-grad              9   \n",
       "3912   49   Private   82649   Bachelors             13   \n",
       "2549   43   Private   57600   Doctorate             16   \n",
       "\n",
       "              Marital-Status       Occupation    Relationship    Race  \\\n",
       "6530      Married-civ-spouse            Sales         Husband   White   \n",
       "3912      Married-civ-spouse   Prof-specialty         Husband   White   \n",
       "2549   Married-spouse-absent   Prof-specialty   Not-in-family   White   \n",
       "\n",
       "          Sex  Capital-Gain  Capital-Loss  Weekly-Work-Hours  Native-Country  \\\n",
       "6530     Male             0             0                 40   United-States   \n",
       "3912     Male          5013             0                 45   United-States   \n",
       "2549   Female             0             0                 40               ?   \n",
       "\n",
       "      Salary  \n",
       "6530    >50K  \n",
       "3912   <=50K  \n",
       "2549   <=50K  "
      ]
     },
     "execution_count": 71,
     "metadata": {},
     "output_type": "execute_result"
    }
   ],
   "source": [
    "# Use sample instance method to retrive 3 random rows from adult\n",
    "adult.sample(3)"
   ]
  },
  {
   "cell_type": "markdown",
   "metadata": {
    "slideshow": {
     "slide_type": "subslide"
    }
   },
   "source": [
    "- *Computing Indicators/Dummy Variables*\n",
    "- Converting a categorical variable into a \"dummy\" or \"indicator\" matrix\n",
    "- Similar to *one hot encoding*\n",
    "- If a column in a DataFrame has *k* distinct values, a matrix or DataFrame can be derived with k columns containing all 1s and 0s\n",
    "- The pandas *get_dummies* instance method performs the required operation\n",
    "  - a *prefix* argument allows to add a prefix to each column name\n",
    "- *get_dummies* and *cut* methods in conjunction provides a useful recipe for statistical applications"
   ]
  },
  {
   "cell_type": "markdown",
   "metadata": {
    "slideshow": {
     "slide_type": "slide"
    }
   },
   "source": [
    "- **String Manipulation**\n",
    "- applying string and regular expressions concisely on whole arrays of data\n",
    "- *String Object Methods*\n",
    "- The *split* instance method is used to split a string into an array based on a specified delimiter\n",
    "- *trim* instance method, trims white spaces \n",
    "- substrings can be concatinated together using the addition *+* symbol\n",
    "- the python string method *index* finds the first occurrence of a character in a string\n",
    "- *index* raises an exception if a string isn't found. Alternatively, the *find* method can also be used that returns *-1* if a index is not found\n",
    "- string instance method *count* returns the number of times a char appears in a string\n",
    "- *replace* string instance method substitutes occurrence of one pattern to another\n",
    "- Built-in python string methods\n",
    "<img src='images/string_methods.png'>"
   ]
  },
  {
   "cell_type": "markdown",
   "metadata": {
    "slideshow": {
     "slide_type": "subslide"
    }
   },
   "source": [
    "- *Regular Expressions*\n",
    "- A single expression (*regex*) is a string formed according to the regular expression language\n",
    "- regex describes a pattern to locate in a text that can be used for many purposes\n",
    "- python provides the built-in *re* module for applying regex to strings\n",
    "- The *re* module functions fall into three categories: pattern matching, substitution, and splitting\n",
    "- *re.compile* compiles a regex to be reusable later. \n",
    "- regex methods:\n",
    "  \n",
    "  ```python\n",
    "  regex = re.compile('\\s*')\n",
    "  regex.split(text)\n",
    "  ```\n",
    "  \n",
    "<img src='images/regex_methods.png'>"
   ]
  },
  {
   "cell_type": "markdown",
   "metadata": {
    "slideshow": {
     "slide_type": "subslide"
    }
   },
   "source": [
    "- *Vectorized String Functions in pandas*\n",
    "- Cleaning up a messy dataset for analysis often requires a lot of string munging and regularization\n",
    "- string and regex methods applied to missing data using map, will fail on NA (null) values\n",
    "- Series addresses this by providing array-oriented methods for string operations that skip NA values\n",
    "- These methods are access through the Series *str* attribute\n",
    "- Partial listing of vectorized string methods:\n",
    "\n",
    "<img src='images/vectorizedstr_methods.png' width=400>"
   ]
  },
  {
   "cell_type": "code",
   "execution_count": 72,
   "metadata": {
    "ExecuteTime": {
     "end_time": "2019-09-26T11:19:42.066450Z",
     "start_time": "2019-09-26T11:19:42.059385Z"
    }
   },
   "outputs": [
    {
     "data": {
      "text/plain": [
       "0     United-States\n",
       "1     United-States\n",
       "2     United-States\n",
       "3     United-States\n",
       "4              Cuba\n",
       "Name: Native-Country, dtype: object"
      ]
     },
     "execution_count": 72,
     "metadata": {},
     "output_type": "execute_result"
    }
   ],
   "source": [
    "adult['Native-Country'].head(5)"
   ]
  },
  {
   "cell_type": "code",
   "execution_count": 73,
   "metadata": {
    "ExecuteTime": {
     "end_time": "2019-09-26T11:19:23.401833Z",
     "start_time": "2019-09-26T11:19:23.300412Z"
    },
    "slideshow": {
     "slide_type": "fragment"
    }
   },
   "outputs": [
    {
     "data": {
      "text/plain": [
       "0    [, , , , , , , -, , , , , , , ]\n",
       "1    [, , , , , , , -, , , , , , , ]\n",
       "2    [, , , , , , , -, , , , , , , ]\n",
       "3    [, , , , , , , -, , , , , , , ]\n",
       "4                       [, , , , , ]\n",
       "Name: Native-Country, dtype: object"
      ]
     },
     "execution_count": 73,
     "metadata": {},
     "output_type": "execute_result"
    }
   ],
   "source": [
    "# using findall method on 'Native-Country' to get the list of all occurrences of regex '\\-*' \n",
    "#  We use the findall or any other vectorized string methods from the str object of a pandas object \n",
    "adult['Native-Country'].str.findall('\\-*').head(5)"
   ]
  },
  {
   "cell_type": "code",
   "execution_count": 74,
   "metadata": {
    "ExecuteTime": {
     "end_time": "2019-09-26T13:40:43.473359Z",
     "start_time": "2019-09-26T13:40:43.443008Z"
    },
    "slideshow": {
     "slide_type": "subslide"
    }
   },
   "outputs": [
    {
     "name": "stdout",
     "output_type": "stream",
     "text": [
      "date1:\n",
      "                     0\n",
      "lev.0 lev.1          \n",
      "a     1     -1.975892\n",
      "      2      0.817396\n",
      "      3     -0.201078\n",
      "b     1     -0.757637\n",
      "      3     -1.524694\n",
      "c     1      0.078530\n",
      "      2      0.248779\n",
      "d     2     -1.387155\n",
      "      3      0.536233\n",
      "date2:\n",
      "                     0\n",
      "lev.0 lev.1          \n",
      "a     1      0.900342\n",
      "      2     -0.797347\n",
      "e     1     -0.936645\n",
      "      2      0.314306\n",
      "d     1     -0.102533\n",
      "      2     -1.432609\n"
     ]
    },
    {
     "data": {
      "text/html": [
       "<div>\n",
       "<style scoped>\n",
       "    .dataframe tbody tr th:only-of-type {\n",
       "        vertical-align: middle;\n",
       "    }\n",
       "\n",
       "    .dataframe tbody tr th {\n",
       "        vertical-align: top;\n",
       "    }\n",
       "\n",
       "    .dataframe thead th {\n",
       "        text-align: right;\n",
       "    }\n",
       "</style>\n",
       "<table border=\"1\" class=\"dataframe\">\n",
       "  <thead>\n",
       "    <tr style=\"text-align: right;\">\n",
       "      <th></th>\n",
       "      <th></th>\n",
       "      <th>0_l</th>\n",
       "      <th>0_r</th>\n",
       "    </tr>\n",
       "    <tr>\n",
       "      <th>lev.0</th>\n",
       "      <th>lev.1</th>\n",
       "      <th></th>\n",
       "      <th></th>\n",
       "    </tr>\n",
       "  </thead>\n",
       "  <tbody>\n",
       "    <tr>\n",
       "      <th rowspan=\"3\" valign=\"top\">a</th>\n",
       "      <th>1</th>\n",
       "      <td>-1.975892</td>\n",
       "      <td>0.900342</td>\n",
       "    </tr>\n",
       "    <tr>\n",
       "      <th>2</th>\n",
       "      <td>0.817396</td>\n",
       "      <td>-0.797347</td>\n",
       "    </tr>\n",
       "    <tr>\n",
       "      <th>3</th>\n",
       "      <td>-0.201078</td>\n",
       "      <td>NaN</td>\n",
       "    </tr>\n",
       "    <tr>\n",
       "      <th rowspan=\"2\" valign=\"top\">b</th>\n",
       "      <th>1</th>\n",
       "      <td>-0.757637</td>\n",
       "      <td>NaN</td>\n",
       "    </tr>\n",
       "    <tr>\n",
       "      <th>3</th>\n",
       "      <td>-1.524694</td>\n",
       "      <td>NaN</td>\n",
       "    </tr>\n",
       "    <tr>\n",
       "      <th rowspan=\"2\" valign=\"top\">c</th>\n",
       "      <th>1</th>\n",
       "      <td>0.078530</td>\n",
       "      <td>NaN</td>\n",
       "    </tr>\n",
       "    <tr>\n",
       "      <th>2</th>\n",
       "      <td>0.248779</td>\n",
       "      <td>NaN</td>\n",
       "    </tr>\n",
       "    <tr>\n",
       "      <th rowspan=\"3\" valign=\"top\">d</th>\n",
       "      <th>1</th>\n",
       "      <td>NaN</td>\n",
       "      <td>-0.102533</td>\n",
       "    </tr>\n",
       "    <tr>\n",
       "      <th>2</th>\n",
       "      <td>-1.387155</td>\n",
       "      <td>-1.432609</td>\n",
       "    </tr>\n",
       "    <tr>\n",
       "      <th>3</th>\n",
       "      <td>0.536233</td>\n",
       "      <td>NaN</td>\n",
       "    </tr>\n",
       "    <tr>\n",
       "      <th rowspan=\"2\" valign=\"top\">e</th>\n",
       "      <th>1</th>\n",
       "      <td>NaN</td>\n",
       "      <td>-0.936645</td>\n",
       "    </tr>\n",
       "    <tr>\n",
       "      <th>2</th>\n",
       "      <td>NaN</td>\n",
       "      <td>0.314306</td>\n",
       "    </tr>\n",
       "  </tbody>\n",
       "</table>\n",
       "</div>"
      ],
      "text/plain": [
       "                  0_l       0_r\n",
       "lev.0 lev.1                    \n",
       "a     1     -1.975892  0.900342\n",
       "      2      0.817396 -0.797347\n",
       "      3     -0.201078       NaN\n",
       "b     1     -0.757637       NaN\n",
       "      3     -1.524694       NaN\n",
       "c     1      0.078530       NaN\n",
       "      2      0.248779       NaN\n",
       "d     1           NaN -0.102533\n",
       "      2     -1.387155 -1.432609\n",
       "      3      0.536233       NaN\n",
       "e     1           NaN -0.936645\n",
       "      2           NaN  0.314306"
      ]
     },
     "execution_count": 74,
     "metadata": {},
     "output_type": "execute_result"
    }
   ],
   "source": [
    "# Create two DataFrames with MultiIndex \n",
    "# Gen a sequence of 9 randn\n",
    "data1 = pd.DataFrame(np.random.randn(9),\n",
    "                index=[['a', 'a', 'a', 'b', 'b', 'c', 'c', 'd', 'd'], [1,2,3,1,3,1,2,2,3]])\n",
    "# Gen a sequence of 6 randn\n",
    "data2 = pd.DataFrame(np.random.randn(6),\n",
    "                index=[['a', 'a', 'e', 'e', 'd', 'd'], [1,2,1,2,1,2]])\n",
    "\n",
    "# Set index names\n",
    "data1.index.names = ['lev.0', 'lev.1']\n",
    "data2.index.names = ['lev.0', 'lev.1']\n",
    "\n",
    "# Set col\n",
    "print('date1:\\n', data1)\n",
    "print('date2:\\n', data2)\n",
    "\n",
    "# perform outer join using merge. \n",
    "# pd.merge(data1, data2, left_index=True, right_index=True, how='outer')\n",
    "\n",
    "# perform outer join using join instance method. Same as merge\n",
    "data1.join(data2, lsuffix='_l', rsuffix='_r', how='outer')"
   ]
  },
  {
   "cell_type": "code",
   "execution_count": 75,
   "metadata": {},
   "outputs": [],
   "source": [
    "adult.to_csv('data/adult_sanitized.csv')"
   ]
  },
  {
   "cell_type": "code",
   "execution_count": null,
   "metadata": {},
   "outputs": [],
   "source": []
  }
 ],
 "metadata": {
  "celltoolbar": "Slideshow",
  "kernelspec": {
   "display_name": "Python 3.9.7 ('.env': venv)",
   "language": "python",
   "name": "python3"
  },
  "language_info": {
   "codemirror_mode": {
    "name": "ipython",
    "version": 3
   },
   "file_extension": ".py",
   "mimetype": "text/x-python",
   "name": "python",
   "nbconvert_exporter": "python",
   "pygments_lexer": "ipython3",
   "version": "3.9.7"
  },
  "varInspector": {
   "cols": {
    "lenName": 16,
    "lenType": 16,
    "lenVar": 40
   },
   "kernels_config": {
    "python": {
     "delete_cmd_postfix": "",
     "delete_cmd_prefix": "del ",
     "library": "var_list.py",
     "varRefreshCmd": "print(var_dic_list())"
    },
    "r": {
     "delete_cmd_postfix": ") ",
     "delete_cmd_prefix": "rm(",
     "library": "var_list.r",
     "varRefreshCmd": "cat(var_dic_list()) "
    }
   },
   "types_to_exclude": [
    "module",
    "function",
    "builtin_function_or_method",
    "instance",
    "_Feature"
   ],
   "window_display": false
  },
  "vscode": {
   "interpreter": {
    "hash": "8d024a190013529ebe86211d6cbdc4203a7ee381118bebdb79373c50f7cd9dc5"
   }
  }
 },
 "nbformat": 4,
 "nbformat_minor": 2
}
