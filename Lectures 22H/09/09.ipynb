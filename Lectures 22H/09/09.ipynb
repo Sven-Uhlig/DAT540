{
 "cells": [
  {
   "cell_type": "markdown",
   "metadata": {
    "slideshow": {
     "slide_type": "slide"
    }
   },
   "source": [
    "# Data Cleaning and Preparation\n",
    "## DAT540 Introduction to Data Science\n",
    "## University of Stavanger\n",
    "### L09\n",
    "#### Antorweep Chakravorty (antorweep.chakravorty@uis.no)"
   ]
  },
  {
   "cell_type": "code",
   "execution_count": 2,
   "metadata": {
    "ExecuteTime": {
     "end_time": "2019-09-26T12:26:27.150495Z",
     "start_time": "2019-09-26T12:26:27.145093Z"
    }
   },
   "outputs": [],
   "source": [
    "import numpy as np\n",
    "import pandas as pd"
   ]
  },
  {
   "cell_type": "markdown",
   "metadata": {
    "slideshow": {
     "slide_type": "subslide"
    }
   },
   "source": [
    "- Most real world data sets have missing values\n",
    "- Such values could lead to erroneous results\n",
    "- Proper strategies should be applied prior to any data processing in order to handle missing data"
   ]
  },
  {
   "cell_type": "markdown",
   "metadata": {
    "slideshow": {
     "slide_type": "fragment"
    }
   },
   "source": [
    "- **Handling Missing Data**\n",
    "- pandas uses floating point value *NaN* (Not a Number) to represent missing values\n",
    "- Such values are termed as *sentinel value* and pandas provides a wide array of methods to detect them\n",
    "- pandas also employees a sentinel value *NA* (Not Available) to represent data that does not exist\n",
    "- When cleaning data for analysis, it is crucial to perform a prior analysis on missing data to identify data collection issues or detect biases\n",
    "- The built in Python *None* value is also treated as a NA object\n",
    "- Typically, if we have a Series or DataFrame, we can use the instance method *isnull* to detect missing values\n",
    "- *isnull* instance method returns true for all values that are  null\n",
    "- Other instance methods such as \n",
    "  - *dropna* filters axis labels based on whether values for each label have missing data, with varying thresholds for how much missing data to tolerate\n",
    "  - *fillna* fills in missing data with some value or using interpolation methods such as 'ffill'or 'bfill'  "
   ]
  },
  {
   "cell_type": "code",
   "execution_count": 3,
   "metadata": {
    "ExecuteTime": {
     "end_time": "2019-09-26T12:26:29.783372Z",
     "start_time": "2019-09-26T12:26:29.762939Z"
    },
    "slideshow": {
     "slide_type": "subslide"
    }
   },
   "outputs": [
    {
     "name": "stdout",
     "output_type": "stream",
     "text": [
      "(156, 13)\n",
      "   Unnamed: 0  PassengerId  Survived  Pclass   Name    Sex    Age  SibSp  \\\n",
      "0       False        False     False   False  False  False  False  False   \n",
      "1       False        False     False   False  False  False  False  False   \n",
      "2       False        False     False   False  False  False  False  False   \n",
      "3       False        False     False   False  False  False  False  False   \n",
      "4       False        False     False   False  False  False  False  False   \n",
      "\n",
      "   Parch  Ticket   Fare  Cabin  Embarked  \n",
      "0  False   False  False   True     False  \n",
      "1  False   False  False  False     False  \n",
      "2  False   False  False   True     False  \n",
      "3  False   False  False  False     False  \n",
      "4  False   False  False   True     False  \n"
     ]
    }
   ],
   "source": [
    "titanic = pd.read_csv('./data/titanicv1.csv', delimiter=',')\n",
    "print(titanic.shape)\n",
    "print(titanic.isnull().head())"
   ]
  },
  {
   "cell_type": "markdown",
   "metadata": {
    "slideshow": {
     "slide_type": "fragment"
    }
   },
   "source": [
    "- How do we get an overview of the missing values per column"
   ]
  },
  {
   "cell_type": "code",
   "execution_count": 4,
   "metadata": {
    "ExecuteTime": {
     "end_time": "2019-09-26T12:26:32.834215Z",
     "start_time": "2019-09-26T12:26:32.825833Z"
    },
    "slideshow": {
     "slide_type": "subslide"
    }
   },
   "outputs": [
    {
     "data": {
      "text/plain": [
       "Unnamed: 0       0\n",
       "PassengerId      0\n",
       "Survived         0\n",
       "Pclass           0\n",
       "Name             0\n",
       "Sex             50\n",
       "Age             30\n",
       "SibSp            0\n",
       "Parch            0\n",
       "Ticket           0\n",
       "Fare             0\n",
       "Cabin          125\n",
       "Embarked         1\n",
       "dtype: int64"
      ]
     },
     "execution_count": 4,
     "metadata": {},
     "output_type": "execute_result"
    }
   ],
   "source": [
    "titanic.isnull().sum(axis=0)"
   ]
  },
  {
   "cell_type": "markdown",
   "metadata": {
    "slideshow": {
     "slide_type": "subslide"
    }
   },
   "source": [
    "- rows or columns with missing values can be dropped with the instance method *dropna*\n",
    "- *axis* argument determines either a row or column to be dropped\n",
    "- *how* {'any', 'all'}, default 'any'. determine when we remove, do we have at least one NA or all NA.\n",
    "- *thresh* require that many non-NA values to be present\n",
    "- subset : array-like, labels along other axis to consider, e.g. if you are dropping rows these would be a list of columns to include."
   ]
  },
  {
   "cell_type": "code",
   "execution_count": 5,
   "metadata": {
    "ExecuteTime": {
     "end_time": "2019-09-26T12:35:27.788123Z",
     "start_time": "2019-09-26T12:35:27.781434Z"
    },
    "slideshow": {
     "slide_type": "fragment"
    }
   },
   "outputs": [],
   "source": [
    "titanic.dropna(subset=['Embarked'], inplace=True)"
   ]
  },
  {
   "cell_type": "code",
   "execution_count": 6,
   "metadata": {},
   "outputs": [
    {
     "data": {
      "text/plain": [
       "(155, 13)"
      ]
     },
     "execution_count": 6,
     "metadata": {},
     "output_type": "execute_result"
    }
   ],
   "source": [
    "titanic.shape"
   ]
  },
  {
   "cell_type": "code",
   "execution_count": 7,
   "metadata": {
    "ExecuteTime": {
     "end_time": "2019-09-26T12:35:28.680386Z",
     "start_time": "2019-09-26T12:35:28.672838Z"
    },
    "slideshow": {
     "slide_type": "fragment"
    }
   },
   "outputs": [
    {
     "data": {
      "text/plain": [
       "Unnamed: 0       0\n",
       "PassengerId      0\n",
       "Survived         0\n",
       "Pclass           0\n",
       "Name             0\n",
       "Sex             50\n",
       "Age             30\n",
       "SibSp            0\n",
       "Parch            0\n",
       "Ticket           0\n",
       "Fare             0\n",
       "Cabin          125\n",
       "Embarked         0\n",
       "dtype: int64"
      ]
     },
     "execution_count": 7,
     "metadata": {},
     "output_type": "execute_result"
    }
   ],
   "source": [
    "titanic.isnull().sum(axis=0)"
   ]
  },
  {
   "cell_type": "markdown",
   "metadata": {
    "slideshow": {
     "slide_type": "subslide"
    }
   },
   "source": [
    "- What about the Cabin column it has around 80% missing data\n",
    "- Do we drop this column? May be we can interpolate the values by looking at the Fare column"
   ]
  },
  {
   "cell_type": "code",
   "execution_count": 8,
   "metadata": {
    "ExecuteTime": {
     "end_time": "2019-09-26T10:35:07.813609Z",
     "start_time": "2019-09-26T10:35:07.805450Z"
    },
    "slideshow": {
     "slide_type": "fragment"
    }
   },
   "outputs": [],
   "source": [
    "# We drop the cabin column as it has a lot of missing data and if we can interpolate it from the Fare or Ticket column, \n",
    "# then we dont need it\n",
    "# We provide arg tresh=100, as lets say we need a column to have atleast 60% non missing values\n",
    "titanic.dropna(thresh=100, axis=1, inplace=True)"
   ]
  },
  {
   "cell_type": "code",
   "execution_count": 9,
   "metadata": {},
   "outputs": [
    {
     "data": {
      "text/plain": [
       "(155, 12)"
      ]
     },
     "execution_count": 9,
     "metadata": {},
     "output_type": "execute_result"
    }
   ],
   "source": [
    "titanic.shape"
   ]
  },
  {
   "cell_type": "markdown",
   "metadata": {
    "slideshow": {
     "slide_type": "fragment"
    }
   },
   "source": [
    "- We also want to drop all rows that have all NaN values"
   ]
  },
  {
   "cell_type": "code",
   "execution_count": 10,
   "metadata": {
    "ExecuteTime": {
     "end_time": "2019-09-26T12:35:32.990413Z",
     "start_time": "2019-09-26T12:35:32.980310Z"
    },
    "slideshow": {
     "slide_type": "fragment"
    }
   },
   "outputs": [
    {
     "data": {
      "text/plain": [
       "Unnamed: 0      0\n",
       "PassengerId     0\n",
       "Survived        0\n",
       "Pclass          0\n",
       "Name            0\n",
       "Sex            50\n",
       "Age            30\n",
       "SibSp           0\n",
       "Parch           0\n",
       "Ticket          0\n",
       "Fare            0\n",
       "Embarked        0\n",
       "dtype: int64"
      ]
     },
     "execution_count": 10,
     "metadata": {},
     "output_type": "execute_result"
    }
   ],
   "source": [
    "titanic.dropna(how='all', inplace=True)\n",
    "titanic.isnull().sum(axis=0)"
   ]
  },
  {
   "cell_type": "markdown",
   "metadata": {
    "slideshow": {
     "slide_type": "subslide"
    }
   },
   "source": [
    "- Filling in Missing Data\n",
    "- The *fillna* instance method is the workhorse for filling holes in a dataset\n",
    "- It's *value* argument takes in a *scalar*, *dict*, *Series* or *DataFrame*. The dict/Series/DataFrame of values specify which values to use for each index (Series) or column (DataFrame)\n",
    "- *method* argument {'bfill', 'pad', 'ffill', None} (defualt None) specifies the method to use to fill holes\n",
    "- *limit* argument could be provided in tandem with the method argument. It specifies the maximum number of consecutive NaN values to forward/backward fill. It thus could create partially filled row or column "
   ]
  },
  {
   "cell_type": "markdown",
   "metadata": {
    "slideshow": {
     "slide_type": "subslide"
    }
   },
   "source": [
    "- For the titanic dataset, let us try to fill the age column\n",
    "- What would be good strategy?"
   ]
  },
  {
   "cell_type": "code",
   "execution_count": 11,
   "metadata": {
    "ExecuteTime": {
     "end_time": "2019-09-26T12:35:36.008397Z",
     "start_time": "2019-09-26T12:35:35.996649Z"
    },
    "slideshow": {
     "slide_type": "fragment"
    }
   },
   "outputs": [
    {
     "name": "stdout",
     "output_type": "stream",
     "text": [
      "    Unnamed: 0  PassengerId  Survived  Pclass                         Name  \\\n",
      "0            0            1         0       3      Braund, Mr. Owen Harris   \n",
      "62          62           63         0       1  Harris, Mr. Henry Birkhardt   \n",
      "71          71           72         0       3   Goodwin, Miss. Lillian Amy   \n",
      "\n",
      "       Sex   Age  SibSp  Parch     Ticket    Fare Embarked  \n",
      "0     male  22.0      1      0  A/5 21171   7.250        S  \n",
      "62    male  45.0      1      0      36973  83.475        S  \n",
      "71  female  16.0      5      2    CA 2144  46.900        S  \n"
     ]
    }
   ],
   "source": [
    "print(titanic.sample(3))"
   ]
  },
  {
   "cell_type": "markdown",
   "metadata": {
    "slideshow": {
     "slide_type": "fragment"
    }
   },
   "source": [
    "- May be the Fare for children are cheaper?"
   ]
  },
  {
   "cell_type": "code",
   "execution_count": 12,
   "metadata": {
    "ExecuteTime": {
     "end_time": "2019-09-26T12:36:04.616476Z",
     "start_time": "2019-09-26T12:36:04.596016Z"
    },
    "slideshow": {
     "slide_type": "subslide"
    }
   },
   "outputs": [
    {
     "name": "stdout",
     "output_type": "stream",
     "text": [
      "shape:  (125, 2)\n"
     ]
    },
    {
     "data": {
      "text/plain": [
       "0.018210834187746487"
      ]
     },
     "execution_count": 12,
     "metadata": {},
     "output_type": "execute_result"
    }
   ],
   "source": [
    "# First let us check if there is any correlation between the non missing Age and Fare values\n",
    "age_fare = titanic.dropna(subset=['Age']).loc[:, ['Age', 'Fare']]\n",
    "print('shape: ', age_fare.shape)\n",
    "age_fare['Age'].corr(age_fare['Fare']) # We see almost no correlation"
   ]
  },
  {
   "cell_type": "markdown",
   "metadata": {
    "slideshow": {
     "slide_type": "fragment"
    }
   },
   "source": [
    "- Is there any relationship, if we create bins for Age and Fare\n",
    "- Ex. \n",
    "  - Age: 0 -> [0-6], 1 -> [6-12], 2 -> [12-18], 3-> [18+]\n",
    "  - Fare: round the fare to the nearest integer\n"
   ]
  },
  {
   "cell_type": "code",
   "execution_count": 13,
   "metadata": {
    "ExecuteTime": {
     "end_time": "2019-09-26T12:42:03.808721Z",
     "start_time": "2019-09-26T12:42:03.795095Z"
    },
    "slideshow": {
     "slide_type": "fragment"
    }
   },
   "outputs": [
    {
     "data": {
      "text/plain": [
       "0.04135740503165585"
      ]
     },
     "execution_count": 13,
     "metadata": {},
     "output_type": "execute_result"
    }
   ],
   "source": [
    "age_fare['Age'].map(lambda x: 0 if x < 6 else 1 if x < 12 else 2 if x < 18 else 3).corr(age_fare['Fare'].apply(lambda x: np.ceil(x)))"
   ]
  },
  {
   "cell_type": "markdown",
   "metadata": {
    "slideshow": {
     "slide_type": "fragment"
    }
   },
   "source": [
    "- From the first look Age and Fare does not have any strong correlations\n",
    "- We don't directly see any other column that might have relevance to Age.\n",
    "- Let us fill it with the mean value for now"
   ]
  },
  {
   "cell_type": "code",
   "execution_count": 14,
   "metadata": {
    "ExecuteTime": {
     "end_time": "2019-09-26T10:39:20.907533Z",
     "start_time": "2019-09-26T10:39:20.903528Z"
    },
    "slideshow": {
     "slide_type": "fragment"
    }
   },
   "outputs": [],
   "source": [
    "titanic.fillna({'Age': titanic['Age'].mean()}, inplace=True)"
   ]
  },
  {
   "cell_type": "code",
   "execution_count": 15,
   "metadata": {
    "ExecuteTime": {
     "end_time": "2019-09-26T10:39:31.988229Z",
     "start_time": "2019-09-26T10:39:31.980337Z"
    },
    "slideshow": {
     "slide_type": "subslide"
    }
   },
   "outputs": [
    {
     "data": {
      "text/plain": [
       "Unnamed: 0      0\n",
       "PassengerId     0\n",
       "Survived        0\n",
       "Pclass          0\n",
       "Name            0\n",
       "Sex            50\n",
       "Age             0\n",
       "SibSp           0\n",
       "Parch           0\n",
       "Ticket          0\n",
       "Fare            0\n",
       "Embarked        0\n",
       "dtype: int64"
      ]
     },
     "execution_count": 15,
     "metadata": {},
     "output_type": "execute_result"
    }
   ],
   "source": [
    "titanic.isnull().sum(axis=0)"
   ]
  },
  {
   "cell_type": "markdown",
   "metadata": {
    "slideshow": {
     "slide_type": "fragment"
    }
   },
   "source": [
    "- How can we fill Sex column?\n",
    "- Is there any relation with any other column? Can we derive from it?"
   ]
  },
  {
   "cell_type": "code",
   "execution_count": 16,
   "metadata": {
    "ExecuteTime": {
     "end_time": "2019-09-26T10:39:38.809149Z",
     "start_time": "2019-09-26T10:39:38.799309Z"
    },
    "slideshow": {
     "slide_type": "subslide"
    }
   },
   "outputs": [
    {
     "name": "stdout",
     "output_type": "stream",
     "text": [
      "     Unnamed: 0  PassengerId  Survived  Pclass                           Name  \\\n",
      "94           94           95         0       3              Coxon, Mr. Daniel   \n",
      "141         141          142         1       3       Nysten, Miss. Anna Sofia   \n",
      "87           87           88         0       3  Slocovski, Mr. Selman Francis   \n",
      "\n",
      "      Sex       Age  SibSp  Parch           Ticket  Fare Embarked  \n",
      "94   male  59.00000      0      0           364500  7.25        S  \n",
      "141   NaN  22.00000      0      0           347081  7.75        S  \n",
      "87   male  28.06264      0      0  SOTON/OQ 392086  8.05        S  \n"
     ]
    }
   ],
   "source": [
    "print(titanic.sample(3))"
   ]
  },
  {
   "cell_type": "markdown",
   "metadata": {
    "slideshow": {
     "slide_type": "fragment"
    }
   },
   "source": [
    "- We can observe that we can derive the salutations from name, that would represent the gender.\n",
    "- Let us do that\n",
    "  - First we extract the salutations form name\n",
    "  - Then we use them to replace the missing values in sex"
   ]
  },
  {
   "cell_type": "code",
   "execution_count": 17,
   "metadata": {
    "ExecuteTime": {
     "end_time": "2019-09-26T10:50:45.335463Z",
     "start_time": "2019-09-26T10:50:45.327057Z"
    },
    "slideshow": {
     "slide_type": "subslide"
    }
   },
   "outputs": [],
   "source": [
    "salutations = ['Mrs.', 'Mrs', 'Miss.', 'Miss', 'Mr.', 'Mr', 'Master', 'Master.']\n",
    "gender_verifier = titanic['Name'].map(lambda x: [sal.title() for sal in x.split(' ') if sal.title() in salutations] )\n",
    "gender = gender_verifier.map(lambda x: 'female' if x in salutations[:4] else 'male')\n",
    "titanic.fillna({'Sex': gender }, inplace=True)"
   ]
  },
  {
   "cell_type": "code",
   "execution_count": 18,
   "metadata": {
    "ExecuteTime": {
     "end_time": "2019-09-26T10:50:46.284602Z",
     "start_time": "2019-09-26T10:50:46.277329Z"
    },
    "slideshow": {
     "slide_type": "fragment"
    }
   },
   "outputs": [
    {
     "data": {
      "text/plain": [
       "Unnamed: 0     0\n",
       "PassengerId    0\n",
       "Survived       0\n",
       "Pclass         0\n",
       "Name           0\n",
       "Sex            0\n",
       "Age            0\n",
       "SibSp          0\n",
       "Parch          0\n",
       "Ticket         0\n",
       "Fare           0\n",
       "Embarked       0\n",
       "dtype: int64"
      ]
     },
     "execution_count": 18,
     "metadata": {},
     "output_type": "execute_result"
    }
   ],
   "source": [
    "titanic.isnull().sum(axis=0)"
   ]
  },
  {
   "cell_type": "code",
   "execution_count": 19,
   "metadata": {
    "ExecuteTime": {
     "end_time": "2019-09-26T10:50:48.558556Z",
     "start_time": "2019-09-26T10:50:48.549427Z"
    },
    "slideshow": {
     "slide_type": "subslide"
    }
   },
   "outputs": [
    {
     "name": "stdout",
     "output_type": "stream",
     "text": [
      "     Unnamed: 0  PassengerId  Survived  Pclass                          Name  \\\n",
      "139         139          140         0       1            Giglio, Mr. Victor   \n",
      "66           66           67         1       2  Nye, Mrs. (Elizabeth Ramell)   \n",
      "124         124          125         0       1   White, Mr. Percival Wayland   \n",
      "\n",
      "        Sex   Age  SibSp  Parch      Ticket     Fare Embarked  \n",
      "139    male  24.0      0      0    PC 17593  79.2000        C  \n",
      "66   female  29.0      0      0  C.A. 29395  10.5000        S  \n",
      "124    male  54.0      0      1       35281  77.2875        S  \n"
     ]
    }
   ],
   "source": [
    "print(titanic.sample(3))"
   ]
  },
  {
   "cell_type": "code",
   "execution_count": 24,
   "metadata": {},
   "outputs": [],
   "source": [
    "from sklearn.linear_model import LogisticRegression\n",
    "from sklearn.metrics import mean_absolute_error as MAE\n",
    "from sklearn.metrics import mean_absolute_percentage_error as MAPE"
   ]
  },
  {
   "cell_type": "code",
   "execution_count": 46,
   "metadata": {},
   "outputs": [],
   "source": [
    "tdataset = titanic[['Pclass', 'Age', 'SibSp', 'Parch', 'Fare', 'Survived']]\n",
    "# We take 80% of the dataset to train and rest to test\n",
    "# there are further optimization that can be performed on the data. This is just an initial example\n",
    "test = tdataset.sample(frac=.2)\n",
    "train = tdataset[~tdataset.isin(test).all(1)]"
   ]
  },
  {
   "cell_type": "code",
   "execution_count": 50,
   "metadata": {},
   "outputs": [
    {
     "name": "stdout",
     "output_type": "stream",
     "text": [
      "MAE: 0.22580645161290322\n",
      "MAPE: 22.58064516129032\n"
     ]
    }
   ],
   "source": [
    "predictions = pd.DataFrame([])\n",
    "model = LogisticRegression()\n",
    "model.fit(train.loc[:, train.columns != 'Survived'], train['Survived'])\n",
    "predictions['Survived'] = np.ceil(model.predict(test.loc[:, test.columns != 'Survived']))\n",
    "predictions['PassengerId'] = test.index.values\n",
    "predictions.set_index('PassengerId', inplace=True)\n",
    "# since we are doing random sampling in choosing the train and test set, expect different MAPE across multiple runs\n",
    "print('MAE:', MAE(test['Survived'], predictions['Survived'])) \n",
    "print('MAPE:', MAPE(test['Survived'], predictions['Survived']) * 100) "
   ]
  },
  {
   "cell_type": "code",
   "execution_count": 56,
   "metadata": {},
   "outputs": [
    {
     "data": {
      "text/plain": [
       "0.7741935483870968"
      ]
     },
     "execution_count": 56,
     "metadata": {},
     "output_type": "execute_result"
    }
   ],
   "source": [
    "#Sanity Check\n",
    "compare = test['Survived'] == predictions['Survived']\n",
    "# Accuracy\n",
    "compare.sum() / len(compare)"
   ]
  },
  {
   "cell_type": "code",
   "execution_count": null,
   "metadata": {},
   "outputs": [],
   "source": []
  }
 ],
 "metadata": {
  "celltoolbar": "Slideshow",
  "kernelspec": {
   "display_name": "Python 3.9.7 ('.env': venv)",
   "language": "python",
   "name": "python3"
  },
  "language_info": {
   "codemirror_mode": {
    "name": "ipython",
    "version": 3
   },
   "file_extension": ".py",
   "mimetype": "text/x-python",
   "name": "python",
   "nbconvert_exporter": "python",
   "pygments_lexer": "ipython3",
   "version": "3.9.7"
  },
  "varInspector": {
   "cols": {
    "lenName": 16,
    "lenType": 16,
    "lenVar": 40
   },
   "kernels_config": {
    "python": {
     "delete_cmd_postfix": "",
     "delete_cmd_prefix": "del ",
     "library": "var_list.py",
     "varRefreshCmd": "print(var_dic_list())"
    },
    "r": {
     "delete_cmd_postfix": ") ",
     "delete_cmd_prefix": "rm(",
     "library": "var_list.r",
     "varRefreshCmd": "cat(var_dic_list()) "
    }
   },
   "types_to_exclude": [
    "module",
    "function",
    "builtin_function_or_method",
    "instance",
    "_Feature"
   ],
   "window_display": false
  },
  "vscode": {
   "interpreter": {
    "hash": "8d024a190013529ebe86211d6cbdc4203a7ee381118bebdb79373c50f7cd9dc5"
   }
  }
 },
 "nbformat": 4,
 "nbformat_minor": 2
}
