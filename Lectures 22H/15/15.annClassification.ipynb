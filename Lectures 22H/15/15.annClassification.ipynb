{
 "cells": [
  {
   "cell_type": "markdown",
   "metadata": {},
   "source": [
    "# ANN from Scratch\n",
    "## ANN Base Class"
   ]
  },
  {
   "cell_type": "code",
   "execution_count": 1,
   "metadata": {},
   "outputs": [],
   "source": [
    "# Import the numpy module\n",
    "import numpy as np\n",
    "# import the pandas module\n",
    "import pandas as pd"
   ]
  },
  {
   "cell_type": "code",
   "execution_count": 2,
   "metadata": {},
   "outputs": [],
   "source": [
    "class ANN:\n",
    "    def __init__(self, numInputs, numHidden, numOutputs, lr=0.1, epoch=100, randomState=1234):\n",
    "        np.random.seed(randomState)\n",
    "\n",
    "        # We define the shape of our network. Each neuron in a layer is connected to all neurons in next layer. Since we have three layers, we need to specify the connections for the Input-Hidden and Hidden-Output layers\n",
    "        architectureShape = list(\n",
    "            zip([numInputs, numHidden], [numHidden, numOutputs]))\n",
    "\n",
    "        # For the given shape of the network we generate random weights\n",
    "        self.weights = [np.random.randn(m, n) for m, n in architectureShape]\n",
    "        # Random bias values are set for each neuron rather than each connection\n",
    "        self.bias = [np.zeros(n) for _, n in architectureShape]\n",
    "\n",
    "        # Set the learning rate\n",
    "        self.lr = lr\n",
    "\n",
    "        # Set the number of epoch\n",
    "        self.epoch = epoch\n",
    "    \n",
    "    # A sigmoid activation function. A second argument \"derive\" when True calculates the derivative\n",
    "    def sigmoid(self, x, derive=False):\n",
    "        if derive:\n",
    "            return x * (1 - x)\n",
    "        return 1 / (1 + np.exp(-x))\n",
    "    \n",
    "    # Given the features, weights and biases, perform as forward pass and returns the output from each layer: Input-Hidden, Hidden-Output\n",
    "    def forward(self, X):\n",
    "\n",
    "        # Input -> Hidden\n",
    "        layer1Input = X.dot(self.weights[0]) + self.bias[0]\n",
    "        layer1Output = self.sigmoid(layer1Input)\n",
    "\n",
    "        # Hidden -> Output\n",
    "        layer2Input = layer1Output.dot(self.weights[1]) + self.bias[1]\n",
    "        layer2Output = self.sigmoid(layer2Input)\n",
    "\n",
    "        return layer1Output, layer2Output\n",
    "    \n",
    "    # Given the outputs of each layer, performs backward pass calculating the error and recommended change for the weights and bias\n",
    "    def backward(self, layer1Output, layer2Output, y):\n",
    "        # Output -> Hidden\n",
    "        layer2Error = y - layer2Output\n",
    "        layer2Delta = layer2Error * self.sigmoid(layer2Output, derive=True)\n",
    "\n",
    "        # Hidden -> Input\n",
    "        # Layer 1 weights transposed is supplied as the parameter\n",
    "        layer1Error = layer2Delta.dot(self.weights[1].T)\n",
    "        layer1Delta = layer1Error * self.sigmoid(layer1Output, derive=True)\n",
    "\n",
    "        return layer2Error, layer1Error, layer1Delta, layer2Delta\n",
    "    \n",
    "    # Given the input features, and the outputs from forward pass at each layer and recommended change measured through backward pass, updates the weights and biases\n",
    "    def updateWeightsBias(self, X, layer1Output, layer1Delta, layer2Delta):\n",
    "        # Hidden -> Output\n",
    "        self.weights[1] += self.lr * layer1Output.T.dot(layer2Delta)\n",
    "\n",
    "        for d in layer2Delta:\n",
    "            self.bias[1] += self.lr * d\n",
    "\n",
    "        # Input -> Hidden\n",
    "        self.weights[0] += self.lr * X.T.dot(layer1Delta)\n",
    "\n",
    "        for d in layer1Delta:\n",
    "            self.bias[0] += self.lr * d\n",
    "\n",
    "    # Abstract function\n",
    "    # Given the features and a trained set of weights and biases, predicts the labels/classes\n",
    "    def predict(self, X):\n",
    "        pass\n",
    "\n",
    "    # Abstract function\n",
    "    # Measures the accuracy of the prediction\n",
    "    def accuracy(self, actual, predicted):\n",
    "        pass\n",
    "\n",
    "    # Trains the weights and biases. Accepts the features, labels/classes, random weights and bias as inputs. Additionally a learning rate and epoch argument can be tweeked to improve the performance\n",
    "    def train(self,features, labels):\n",
    "        # Trains on the complete train data set multiple times. Determined by the value specified for epoch\n",
    "        for e in range(self.epoch):\n",
    "            # Performs a forward pass\n",
    "            layer1Output, layer2Output = self.forward(features)\n",
    "            # Performs a backward pass\n",
    "            layer2Error, layer1Error, layer1Delta, layer2Delta = self.backward(\n",
    "                layer1Output, layer2Output, labels)\n",
    "            # Updates the weights and biases\n",
    "            self.updateWeightsBias(\n",
    "                features, layer1Output, layer1Delta, layer2Delta)\n",
    "            # Print the stats at regular intervals\n",
    "            if(e % 100 == 0 or e == self.epoch-1):\n",
    "                # Measure the error\n",
    "                trainError = np.mean(np.abs(layer2Error))\n",
    "                print(\"epoch {:0} \".format(e), end='|')\n",
    "                print('error:{:0.4f} '.format(trainError), end='|')\n",
    "\n",
    "                # Perform prediction on the train dataset itself, to understand how well it is able to learn from it\n",
    "                predictions = self.predict(features)\n",
    "                # Calculate the accuracy of the predictions\n",
    "                trainAccuracy = self.accuracy(labels, predictions)\n",
    "                print(\" accuracy {:0.2f} \".format(trainAccuracy)) \n",
    "           \n"
   ]
  },
  {
   "cell_type": "markdown",
   "metadata": {},
   "source": [
    "## ANN Classification Specialization"
   ]
  },
  {
   "cell_type": "code",
   "execution_count": 3,
   "metadata": {},
   "outputs": [],
   "source": [
    "class ANNClassification(ANN):      \n",
    "\n",
    "    # Given the features and a trained set of weights and biases, predicts the labels/classes\n",
    "    def predict(self, X):\n",
    "        # Performs a forward pass with the trained weights and bias and uses the Hidden-Output layer output as prediction\n",
    "        _, layer2Output = self.forward(X)\n",
    "        return layer2Output\n",
    "    # Measures the accuracy of the prediction\n",
    "    def accuracy(self, actual, predicted):\n",
    "        actual = np.argmax(actual, axis=1)\n",
    "        predicted = np.argmax(predicted, axis=1)\n",
    "\n",
    "        return np.sum(predicted == actual) / len(actual)\n",
    "    \n"
   ]
  },
  {
   "cell_type": "markdown",
   "metadata": {},
   "source": [
    "## Classification Example\n",
    "- Training and testing our model with a hand written digits dataset\n",
    "    - The data set is acquired from the <a src=\"https://archive.ics.uci.edu/ml/datasets/Optical+Recognition+of+Handwritten+Digits\"> UCI machine learning repository</a>. \n",
    "    - The relevant files are organized inside the associated **./data** folder\n",
    "      - optdigits.names: file provides some general description about the data set. Read it to understand more about the data.\n",
    "      - optdigits.tra: is the training data set, that we will use to train our model\n",
    "      - optdigits.tes: is the test data set, that we will use to test our model\n",
    "      - Each row in the test and train data files is a hand written digit and a numeric value stating the digit in the image\n",
    "        - its  contains 65 comma seperated values.\n",
    "        - the first 64 values contains the pixel information for the image. **We call this as features**\n",
    "        - the last value is the numeric value of the hand written digit. **We call this as a label/class**\n",
    "    - The train features, test features, train labels and test labels should be stored into 4 ndarrays respectively\n",
    "    - Since its a classification problem, the train and test labels should be stored as an ndarray \n",
    "      - with the size for axis=0 as the total number of labels in the dataset \n",
    "      - size for axis=1 as the number of unique labels\n",
    "      - since the numeric labels are between 0 - 9, we want to assign a value of 1 to the index on axis=1 that represents the  numeric value. The remaining indices for axis=1 should be zero"
   ]
  },
  {
   "cell_type": "markdown",
   "metadata": {},
   "source": [
    "### Loading the data"
   ]
  },
  {
   "cell_type": "code",
   "execution_count": 14,
   "metadata": {},
   "outputs": [],
   "source": [
    "# install the csv module, if not available. We need it to load our dataset\n",
    "import csv\n",
    "\n",
    "# Loading the training dataset\n",
    "with open('./data/optdigits.tra') as f:\n",
    "    # reading the CSV file\n",
    "    csvFile = csv.reader(f)\n",
    "    blob = [l for l in csvFile]\n"
   ]
  },
  {
   "cell_type": "markdown",
   "metadata": {},
   "source": [
    "### Prepping the Data\n",
    "#### Training Set"
   ]
  },
  {
   "cell_type": "code",
   "execution_count": 5,
   "metadata": {},
   "outputs": [],
   "source": [
    "# Based on the data set description, store the features or data about the image into an ndarray. Note data about a hand written image is flatted and each index for axis=0 contains information about a single hand written image\n",
    "features = np.array([r[:-1] for r in blob], dtype=float)\n",
    "# Based on the data set description, store the labels in another ndarray. Note that the labels are an integer value between 0 - 9 that state the digit represented in the handwritten image\n",
    "_labels = np.array([r[-1] for r in blob], dtype=float)\n",
    "\n",
    "# We want to represent the lables in a way so that they can be used for classification.\n",
    "uniqueLabels = np.unique(_labels)\n",
    "uniqueLabels.sort()\n",
    "# We create an new ndarray wit the size for axis=0 as the number of labels in the dataset and size for axis=1 as the number of unique labels.\n",
    "labels = np.zeros((len(_labels), len(uniqueLabels))) * 1.0\n",
    "\n",
    "# Since the labels are between 0 - 9, we want to assign a value of 1 to the index on axis=1 that represents the label digit value\n",
    "for i, l in enumerate(_labels):\n",
    "    labels[i, int(l)] = 1.0\n"
   ]
  },
  {
   "cell_type": "code",
   "execution_count": 6,
   "metadata": {},
   "outputs": [],
   "source": [
    "# Install the matplotlib module if not available.\n",
    "# Import the module matplotlib.pyplot\n",
    "import matplotlib.pyplot as plt\n",
    "\n",
    "# Let us create a function, to display the feature\n",
    "\n",
    "\n",
    "def draw(ax, feature, actualLabel, predictedLabel=\"-\"):\n",
    "    # Since there are 8x8 pixels stored as a flatted array, we reshape it to 8x8 in order to display it\n",
    "    ax.matshow(feature.reshape(8, 8))\n",
    "    ax.set_title(\"actual:{0}, predicted:{1}\".format(\n",
    "        actualLabel, predictedLabel))\n"
   ]
  },
  {
   "cell_type": "code",
   "execution_count": 7,
   "metadata": {},
   "outputs": [
    {
     "data": {
      "image/png": "[encoded data removed]",
      "text/plain": [
       "<Figure size 432x288 with 1 Axes>"
      ]
     },
     "metadata": {
      "needs_background": "light"
     },
     "output_type": "display_data"
    }
   ],
   "source": [
    "# We draw a feature to see how it looks\n",
    "fig, axs = plt.subplots(1, 1)\n",
    "draw(axs, features[99], np.argmax(labels[2]))\n"
   ]
  },
  {
   "cell_type": "markdown",
   "metadata": {},
   "source": [
    "#### Test Set"
   ]
  },
  {
   "cell_type": "code",
   "execution_count": 8,
   "metadata": {},
   "outputs": [],
   "source": [
    "# Loading the training dataset\n",
    "with open('./data/optdigits.tes') as f:\n",
    "    # reading the CSV file\n",
    "    csvFile = csv.reader(f)\n",
    "    blob = [l for l in csvFile]\n",
    "\n",
    "# Store the test feature into a variable\n",
    "testFeatures = np.array([r[:-1] for r in blob], dtype=float)\n",
    "\n",
    "# Process and store the test labels in proper format, like done for the train dataset\n",
    "_labels = np.array([r[-1] for r in blob], dtype=float)\n",
    "uniqueLabels = np.unique(_labels)\n",
    "uniqueLabels.sort()\n",
    "testLabels = np.zeros((len(_labels), len(uniqueLabels))) * 1.0\n",
    "\n",
    "for i, l in enumerate(_labels):\n",
    "    testLabels[i, int(l)] = 1.0\n"
   ]
  },
  {
   "cell_type": "markdown",
   "metadata": {},
   "source": [
    "### Creating the model"
   ]
  },
  {
   "cell_type": "code",
   "execution_count": 9,
   "metadata": {},
   "outputs": [
    {
     "name": "stdout",
     "output_type": "stream",
     "text": [
      "number of input nodes:64, hidden nodes:20 and output nodes:10\n"
     ]
    }
   ],
   "source": [
    "# Let us now use our ANN\n",
    "# We specify the number of neurons for the input layer as the number of features\n",
    "numInputs = features.shape[1]\n",
    "# We arbitrarily choose the number of hidden neurons. Seeing if changing this it improves or degrades the performance\n",
    "numHidden = 20\n",
    "# Since there are 10 labels 0 - 9, we have 10 neuron in the output layer\n",
    "numOutputs = 10\n",
    "# The number of times we want to train our model on the complete dataset\n",
    "epoch = 1200  # Seeing if changing this it improves or degrades the performance\n",
    "\n",
    "# Set the learning rate\n",
    "lr = 0.001\n",
    "\n",
    "# Set the random seed\n",
    "randomState = 1234\n",
    "\n",
    "print(\"number of input nodes:{0}, hidden nodes:{1} and output nodes:{2}\".format(\n",
    "    numInputs, numHidden, numOutputs))\n"
   ]
  },
  {
   "cell_type": "code",
   "execution_count": 10,
   "metadata": {},
   "outputs": [],
   "source": [
    "# Initialize the model\n",
    "annClassifier = ANNClassification(\n",
    "    numInputs, numHidden, numOutputs, lr, epoch, randomState)\n"
   ]
  },
  {
   "cell_type": "markdown",
   "metadata": {},
   "source": [
    "#### Training"
   ]
  },
  {
   "cell_type": "code",
   "execution_count": 11,
   "metadata": {},
   "outputs": [
    {
     "name": "stdout",
     "output_type": "stream",
     "text": [
      "epoch 0 |error:0.5149 | accuracy 0.10 \n",
      "epoch 100 |error:0.1332 | accuracy 0.63 \n",
      "epoch 200 |error:0.0978 | accuracy 0.78 \n",
      "epoch 300 |error:0.0747 | accuracy 0.82 \n",
      "epoch 400 |error:0.0628 | accuracy 0.84 \n",
      "epoch 500 |error:0.0557 | accuracy 0.84 \n",
      "epoch 600 |error:0.0508 | accuracy 0.85 \n",
      "epoch 700 |error:0.0474 | accuracy 0.85 \n",
      "epoch 800 |error:0.0453 | accuracy 0.86 \n",
      "epoch 900 |error:0.0457 | accuracy 0.86 \n",
      "epoch 1000 |error:0.0452 | accuracy 0.95 \n",
      "epoch 1100 |error:0.0395 | accuracy 0.95 \n",
      "epoch 1199 |error:0.0357 | accuracy 0.96 \n"
     ]
    }
   ],
   "source": [
    "# Train the model. See if changing the lr (learning rate) it improves or degrades the performance\n",
    "annClassifier.train(features, labels)\n"
   ]
  },
  {
   "cell_type": "markdown",
   "metadata": {},
   "source": [
    "#### Testing"
   ]
  },
  {
   "cell_type": "code",
   "execution_count": 12,
   "metadata": {},
   "outputs": [
    {
     "name": "stdout",
     "output_type": "stream",
     "text": [
      "accuracy 0.9065108514190318\n"
     ]
    }
   ],
   "source": [
    "# Since we already have a trained model, we do not need to train it again with the test dataset\n",
    "# Instead, we can perdict the test labels, but only providing the test features\n",
    "predicted = annClassifier.predict(testFeatures)\n",
    "print('accuracy', annClassifier.accuracy(testLabels, predicted))\n"
   ]
  },
  {
   "cell_type": "markdown",
   "metadata": {},
   "source": [
    "### Visualizing the Result"
   ]
  },
  {
   "cell_type": "code",
   "execution_count": 13,
   "metadata": {},
   "outputs": [
    {
     "data": {
      "image/png": "[encoded data removed]",
      "text/plain": [
       "<Figure size 1800x720 with 10 Axes>"
      ]
     },
     "metadata": {
      "needs_background": "light"
     },
     "output_type": "display_data"
    }
   ],
   "source": [
    "# Randomly showing 10 test images\n",
    "indices = np.random.randint(0, len(predicted), size=10)\n",
    "fig, axs = plt.subplots(2, 5, figsize=(25, 10))\n",
    "\n",
    "ai = 0\n",
    "aj = 0\n",
    "for i in indices:\n",
    "\n",
    "    draw(axs[ai, aj], testFeatures[i], np.argmax(\n",
    "        testLabels[i]), np.argmax(predicted[i]))\n",
    "    aj += 1\n",
    "    if aj % axs.shape[1] == 0:\n",
    "        ai += 1\n",
    "        aj = 0\n"
   ]
  }
 ],
 "metadata": {
  "kernelspec": {
   "display_name": "Python 3.9.7 ('.env': venv)",
   "language": "python",
   "name": "python3"
  },
  "language_info": {
   "codemirror_mode": {
    "name": "ipython",
    "version": 3
   },
   "file_extension": ".py",
   "mimetype": "text/x-python",
   "name": "python",
   "nbconvert_exporter": "python",
   "pygments_lexer": "ipython3",
   "version": "3.9.7"
  },
  "orig_nbformat": 4,
  "vscode": {
   "interpreter": {
    "hash": "8d024a190013529ebe86211d6cbdc4203a7ee381118bebdb79373c50f7cd9dc5"
   }
  }
 },
 "nbformat": 4,
 "nbformat_minor": 2
}
