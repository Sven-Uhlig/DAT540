{
 "cells": [
  {
   "cell_type": "markdown",
   "metadata": {
    "slideshow": {
     "slide_type": "slide"
    }
   },
   "source": [
    "# Data Wrangling: Join, Combine and Reshape\n",
    "## DAT540 Introduction to Data Science\n",
    "## University of Stavanger\n",
    "### L11.1\n",
    "#### Antorweep Chakravorty (antorweep.chakravorty@uis.no)"
   ]
  },
  {
   "cell_type": "markdown",
   "metadata": {
    "slideshow": {
     "slide_type": "slide"
    }
   },
   "source": [
    "- **Hierarchical Indexing**\n",
    "- enables multiple (two or more) index levels on an axis\n",
    "- Creates *MultiIndex* datastruct that holds multiple indices on an axis\n",
    "- With a hierarchical index object, *partial* indexing is possible enabling concise ways to select subset of data\n",
    "- It also allows selection from an \"inner\" level\n",
    "- Hierarchical indexing plays an important role in reshaping data and group-based operations\n",
    "- A Series with MultiIndex can be rearranged into a DataFrame using the *unstack* instance method\n",
    "- Similarly a DataFrame can be converted into a MultiIndex series using the *stack* instance method that will transform the column labels as inner row indices\n",
    "- DataFrames allows MultiIndex on either axis\n",
    "- Hierarchical levels can have names as strings or any python object\n",
    "- MultiIndex can be created and reused using its *from_arrays* method"
   ]
  },
  {
   "cell_type": "markdown",
   "metadata": {
    "slideshow": {
     "slide_type": "subslide"
    }
   },
   "source": [
    "- *Indexing with a DataFrame's columns*\n",
    "- One or more columns of a DataFrame can be used to index its rows. Additionally, the rows can also be used to index the columns\n",
    "- The *set_index* instance method can be used to index rows based on columns\n",
    "- By default the columns are removed from the DataFrame and can be changed by specifying the *drop* argument as False\n",
    "- *reset_index* instance method moves hierarchical index levels into columns"
   ]
  },
  {
   "cell_type": "code",
   "execution_count": 1,
   "metadata": {},
   "outputs": [],
   "source": [
    "import numpy as np\n",
    "import pandas as pd\n",
    "\n",
    "# Get the adult dataset from UCI Machine Learning repo\n",
    "adult = pd.read_csv('./data/adult_sanitized.csv')"
   ]
  },
  {
   "cell_type": "code",
   "execution_count": 2,
   "metadata": {
    "ExecuteTime": {
     "end_time": "2019-09-26T11:21:25.286373Z",
     "start_time": "2019-09-26T11:21:25.227336Z"
    },
    "slideshow": {
     "slide_type": "subslide"
    }
   },
   "outputs": [
    {
     "data": {
      "text/html": [
       "<div>\n",
       "<style scoped>\n",
       "    .dataframe tbody tr th:only-of-type {\n",
       "        vertical-align: middle;\n",
       "    }\n",
       "\n",
       "    .dataframe tbody tr th {\n",
       "        vertical-align: top;\n",
       "    }\n",
       "\n",
       "    .dataframe thead th {\n",
       "        text-align: right;\n",
       "    }\n",
       "</style>\n",
       "<table border=\"1\" class=\"dataframe\">\n",
       "  <thead>\n",
       "    <tr style=\"text-align: right;\">\n",
       "      <th></th>\n",
       "      <th></th>\n",
       "      <th>Unnamed: 0</th>\n",
       "      <th>Age</th>\n",
       "      <th>Workclass</th>\n",
       "      <th>Fnlwgt</th>\n",
       "      <th>Education</th>\n",
       "      <th>Education-Num</th>\n",
       "      <th>Marital-Status</th>\n",
       "      <th>Occupation</th>\n",
       "      <th>Relationship</th>\n",
       "      <th>Race</th>\n",
       "      <th>Capital-Gain</th>\n",
       "      <th>Capital-Loss</th>\n",
       "      <th>Weekly-Work-Hours</th>\n",
       "      <th>Salary</th>\n",
       "    </tr>\n",
       "    <tr>\n",
       "      <th>Native-Country</th>\n",
       "      <th>Sex</th>\n",
       "      <th></th>\n",
       "      <th></th>\n",
       "      <th></th>\n",
       "      <th></th>\n",
       "      <th></th>\n",
       "      <th></th>\n",
       "      <th></th>\n",
       "      <th></th>\n",
       "      <th></th>\n",
       "      <th></th>\n",
       "      <th></th>\n",
       "      <th></th>\n",
       "      <th></th>\n",
       "      <th></th>\n",
       "    </tr>\n",
       "  </thead>\n",
       "  <tbody>\n",
       "    <tr>\n",
       "      <th rowspan=\"3\" valign=\"top\">Yugoslavia</th>\n",
       "      <th>Male</th>\n",
       "      <td>29437</td>\n",
       "      <td>43</td>\n",
       "      <td>Private</td>\n",
       "      <td>557349</td>\n",
       "      <td>10th</td>\n",
       "      <td>6</td>\n",
       "      <td>Married-civ-spouse</td>\n",
       "      <td>Transport-moving</td>\n",
       "      <td>Husband</td>\n",
       "      <td>White</td>\n",
       "      <td>0</td>\n",
       "      <td>0</td>\n",
       "      <td>40</td>\n",
       "      <td>&lt;=50K</td>\n",
       "    </tr>\n",
       "    <tr>\n",
       "      <th>Male</th>\n",
       "      <td>30543</td>\n",
       "      <td>22</td>\n",
       "      <td>Private</td>\n",
       "      <td>180060</td>\n",
       "      <td>HS-grad</td>\n",
       "      <td>9</td>\n",
       "      <td>Never-married</td>\n",
       "      <td>Exec-managerial</td>\n",
       "      <td>Not-in-family</td>\n",
       "      <td>White</td>\n",
       "      <td>0</td>\n",
       "      <td>0</td>\n",
       "      <td>40</td>\n",
       "      <td>&lt;=50K</td>\n",
       "    </tr>\n",
       "    <tr>\n",
       "      <th>Male</th>\n",
       "      <td>31519</td>\n",
       "      <td>29</td>\n",
       "      <td>Private</td>\n",
       "      <td>273051</td>\n",
       "      <td>Bachelors</td>\n",
       "      <td>13</td>\n",
       "      <td>Married-civ-spouse</td>\n",
       "      <td>Exec-managerial</td>\n",
       "      <td>Husband</td>\n",
       "      <td>White</td>\n",
       "      <td>0</td>\n",
       "      <td>0</td>\n",
       "      <td>52</td>\n",
       "      <td>&gt;50K</td>\n",
       "    </tr>\n",
       "  </tbody>\n",
       "</table>\n",
       "</div>"
      ],
      "text/plain": [
       "                     Unnamed: 0  Age Workclass  Fnlwgt   Education  \\\n",
       "Native-Country Sex                                                   \n",
       "Yugoslavia     Male       29437   43   Private  557349        10th   \n",
       "               Male       30543   22   Private  180060     HS-grad   \n",
       "               Male       31519   29   Private  273051   Bachelors   \n",
       "\n",
       "                     Education-Num       Marital-Status         Occupation  \\\n",
       "Native-Country Sex                                                           \n",
       "Yugoslavia     Male              6   Married-civ-spouse   Transport-moving   \n",
       "               Male              9        Never-married    Exec-managerial   \n",
       "               Male             13   Married-civ-spouse    Exec-managerial   \n",
       "\n",
       "                       Relationship    Race  Capital-Gain  Capital-Loss  \\\n",
       "Native-Country Sex                                                        \n",
       "Yugoslavia     Male         Husband   White             0             0   \n",
       "               Male   Not-in-family   White             0             0   \n",
       "               Male         Husband   White             0             0   \n",
       "\n",
       "                     Weekly-Work-Hours  Salary  \n",
       "Native-Country Sex                              \n",
       "Yugoslavia     Male                 40   <=50K  \n",
       "               Male                 40   <=50K  \n",
       "               Male                 52    >50K  "
      ]
     },
     "execution_count": 2,
     "metadata": {},
     "output_type": "execute_result"
    }
   ],
   "source": [
    "# sort the adult dataset values by 'Native-Country', 'Sex'\n",
    "adult.sort_values(by=['Native-Country', 'Sex'], inplace=True)\n",
    "# strip any whitespaces for 'Native-Country' column values\n",
    "adult['Native-Country'] = adult['Native-Country'].map(lambda x: x.strip())\n",
    "adult['Sex'] = adult['Sex'].map(lambda x: x.strip())\n",
    "\n",
    "# set the index of the adult data set using set_index to 'Native-Country', 'Sex'. \n",
    "# Store the resulting dataset into a variable adult_mi\n",
    "adult_mi = adult.set_index(['Native-Country', 'Sex'])\n",
    "# Display the adult_mi head(3)\n",
    "adult_mi.tail(3)\n"
   ]
  },
  {
   "cell_type": "code",
   "execution_count": 3,
   "metadata": {
    "ExecuteTime": {
     "end_time": "2019-09-26T11:22:10.245699Z",
     "start_time": "2019-09-26T11:22:10.225943Z"
    },
    "slideshow": {
     "slide_type": "subslide"
    }
   },
   "outputs": [
    {
     "data": {
      "text/html": [
       "<div>\n",
       "<style scoped>\n",
       "    .dataframe tbody tr th:only-of-type {\n",
       "        vertical-align: middle;\n",
       "    }\n",
       "\n",
       "    .dataframe tbody tr th {\n",
       "        vertical-align: top;\n",
       "    }\n",
       "\n",
       "    .dataframe thead th {\n",
       "        text-align: right;\n",
       "    }\n",
       "</style>\n",
       "<table border=\"1\" class=\"dataframe\">\n",
       "  <thead>\n",
       "    <tr style=\"text-align: right;\">\n",
       "      <th></th>\n",
       "      <th></th>\n",
       "      <th>Unnamed: 0</th>\n",
       "      <th>Age</th>\n",
       "      <th>Workclass</th>\n",
       "      <th>Fnlwgt</th>\n",
       "      <th>Education</th>\n",
       "      <th>Education-Num</th>\n",
       "      <th>Marital-Status</th>\n",
       "      <th>Occupation</th>\n",
       "      <th>Relationship</th>\n",
       "      <th>Race</th>\n",
       "      <th>Capital-Gain</th>\n",
       "      <th>Capital-Loss</th>\n",
       "      <th>Weekly-Work-Hours</th>\n",
       "      <th>Salary</th>\n",
       "    </tr>\n",
       "    <tr>\n",
       "      <th>Native-Country</th>\n",
       "      <th>Sex</th>\n",
       "      <th></th>\n",
       "      <th></th>\n",
       "      <th></th>\n",
       "      <th></th>\n",
       "      <th></th>\n",
       "      <th></th>\n",
       "      <th></th>\n",
       "      <th></th>\n",
       "      <th></th>\n",
       "      <th></th>\n",
       "      <th></th>\n",
       "      <th></th>\n",
       "      <th></th>\n",
       "      <th></th>\n",
       "    </tr>\n",
       "  </thead>\n",
       "  <tbody>\n",
       "    <tr>\n",
       "      <th rowspan=\"3\" valign=\"top\">United-States</th>\n",
       "      <th>Female</th>\n",
       "      <td>5</td>\n",
       "      <td>37</td>\n",
       "      <td>Private</td>\n",
       "      <td>284582</td>\n",
       "      <td>Masters</td>\n",
       "      <td>14</td>\n",
       "      <td>Married-civ-spouse</td>\n",
       "      <td>Exec-managerial</td>\n",
       "      <td>Wife</td>\n",
       "      <td>White</td>\n",
       "      <td>0</td>\n",
       "      <td>0</td>\n",
       "      <td>40</td>\n",
       "      <td>&lt;=50K</td>\n",
       "    </tr>\n",
       "    <tr>\n",
       "      <th>Female</th>\n",
       "      <td>8</td>\n",
       "      <td>31</td>\n",
       "      <td>Private</td>\n",
       "      <td>45781</td>\n",
       "      <td>Masters</td>\n",
       "      <td>14</td>\n",
       "      <td>Never-married</td>\n",
       "      <td>Prof-specialty</td>\n",
       "      <td>Not-in-family</td>\n",
       "      <td>White</td>\n",
       "      <td>14084</td>\n",
       "      <td>0</td>\n",
       "      <td>50</td>\n",
       "      <td>&gt;50K</td>\n",
       "    </tr>\n",
       "    <tr>\n",
       "      <th>Female</th>\n",
       "      <td>12</td>\n",
       "      <td>23</td>\n",
       "      <td>Private</td>\n",
       "      <td>122272</td>\n",
       "      <td>Bachelors</td>\n",
       "      <td>13</td>\n",
       "      <td>Never-married</td>\n",
       "      <td>Adm-clerical</td>\n",
       "      <td>Own-child</td>\n",
       "      <td>White</td>\n",
       "      <td>0</td>\n",
       "      <td>0</td>\n",
       "      <td>30</td>\n",
       "      <td>&lt;=50K</td>\n",
       "    </tr>\n",
       "  </tbody>\n",
       "</table>\n",
       "</div>"
      ],
      "text/plain": [
       "                       Unnamed: 0  Age Workclass  Fnlwgt   Education  \\\n",
       "Native-Country Sex                                                     \n",
       "United-States  Female           5   37   Private  284582     Masters   \n",
       "               Female           8   31   Private   45781     Masters   \n",
       "               Female          12   23   Private  122272   Bachelors   \n",
       "\n",
       "                       Education-Num       Marital-Status        Occupation  \\\n",
       "Native-Country Sex                                                            \n",
       "United-States  Female             14   Married-civ-spouse   Exec-managerial   \n",
       "               Female             14        Never-married    Prof-specialty   \n",
       "               Female             13        Never-married      Adm-clerical   \n",
       "\n",
       "                         Relationship    Race  Capital-Gain  Capital-Loss  \\\n",
       "Native-Country Sex                                                          \n",
       "United-States  Female            Wife   White             0             0   \n",
       "               Female   Not-in-family   White         14084             0   \n",
       "               Female       Own-child   White             0             0   \n",
       "\n",
       "                       Weekly-Work-Hours  Salary  \n",
       "Native-Country Sex                                \n",
       "United-States  Female                 40   <=50K  \n",
       "               Female                 50    >50K  \n",
       "               Female                 30   <=50K  "
      ]
     },
     "execution_count": 3,
     "metadata": {},
     "output_type": "execute_result"
    }
   ],
   "source": [
    "# Use loc to retrive all rows from adult_mi with multiindex ['United-States', 'Female']\n",
    "adult_mi.loc[('United-States', 'Female')].head(3)\n"
   ]
  },
  {
   "cell_type": "code",
   "execution_count": 10,
   "metadata": {
    "ExecuteTime": {
     "end_time": "2019-09-26T10:28:00.444524Z",
     "start_time": "2019-09-26T10:28:00.434556Z"
    },
    "slideshow": {
     "slide_type": "subslide"
    }
   },
   "outputs": [
    {
     "data": {
      "text/plain": [
       "a  1   -1.143905\n",
       "   2   -0.479229\n",
       "   3   -0.003369\n",
       "b  1    0.597347\n",
       "   3   -0.296286\n",
       "c  1   -0.745082\n",
       "   2    0.538509\n",
       "d  2   -1.316708\n",
       "   3   -0.803749\n",
       "dtype: float64"
      ]
     },
     "execution_count": 10,
     "metadata": {},
     "output_type": "execute_result"
    }
   ],
   "source": [
    "# Create a Series with MultiIndex \n",
    "# index=[['a', 'a', 'a', 'b', 'b', 'c', 'c', 'd', 'd'], [1,2,3,1,3,1,2,2,3]]\n",
    "# Gen a sequence of 9 randn\n",
    "data = pd.Series(np.random.randn(9),\n",
    "                index=[['a', 'a', 'a', 'b', 'b', 'c', 'c', 'd', 'd'], [1,2,3,1,3,1,2,2,3]])\n",
    "data"
   ]
  },
  {
   "cell_type": "code",
   "execution_count": 11,
   "metadata": {
    "ExecuteTime": {
     "end_time": "2019-09-26T11:23:10.414129Z",
     "start_time": "2019-09-26T11:23:10.403870Z"
    },
    "slideshow": {
     "slide_type": "subslide"
    }
   },
   "outputs": [
    {
     "data": {
      "text/html": [
       "<div>\n",
       "<style scoped>\n",
       "    .dataframe tbody tr th:only-of-type {\n",
       "        vertical-align: middle;\n",
       "    }\n",
       "\n",
       "    .dataframe tbody tr th {\n",
       "        vertical-align: top;\n",
       "    }\n",
       "\n",
       "    .dataframe thead th {\n",
       "        text-align: right;\n",
       "    }\n",
       "</style>\n",
       "<table border=\"1\" class=\"dataframe\">\n",
       "  <thead>\n",
       "    <tr style=\"text-align: right;\">\n",
       "      <th></th>\n",
       "      <th>a</th>\n",
       "      <th>b</th>\n",
       "      <th>c</th>\n",
       "      <th>d</th>\n",
       "    </tr>\n",
       "  </thead>\n",
       "  <tbody>\n",
       "    <tr>\n",
       "      <th>1</th>\n",
       "      <td>-1.143905</td>\n",
       "      <td>0.597347</td>\n",
       "      <td>-0.745082</td>\n",
       "      <td>NaN</td>\n",
       "    </tr>\n",
       "    <tr>\n",
       "      <th>2</th>\n",
       "      <td>-0.479229</td>\n",
       "      <td>NaN</td>\n",
       "      <td>0.538509</td>\n",
       "      <td>-1.316708</td>\n",
       "    </tr>\n",
       "    <tr>\n",
       "      <th>3</th>\n",
       "      <td>-0.003369</td>\n",
       "      <td>-0.296286</td>\n",
       "      <td>NaN</td>\n",
       "      <td>-0.803749</td>\n",
       "    </tr>\n",
       "  </tbody>\n",
       "</table>\n",
       "</div>"
      ],
      "text/plain": [
       "          a         b         c         d\n",
       "1 -1.143905  0.597347 -0.745082       NaN\n",
       "2 -0.479229       NaN  0.538509 -1.316708\n",
       "3 -0.003369 -0.296286       NaN -0.803749"
      ]
     },
     "execution_count": 11,
     "metadata": {},
     "output_type": "execute_result"
    }
   ],
   "source": [
    "# Stack the series to create a DataFrame\n",
    "# Since the original series has two levels 0 and 1, we can choose the level to unstack on (default innermost)\n",
    "data.unstack(0)\n"
   ]
  },
  {
   "cell_type": "code",
   "execution_count": 12,
   "metadata": {
    "ExecuteTime": {
     "end_time": "2019-09-26T11:23:22.179012Z",
     "start_time": "2019-09-26T11:23:22.170560Z"
    },
    "slideshow": {
     "slide_type": "fragment"
    }
   },
   "outputs": [
    {
     "data": {
      "text/plain": [
       "a  1   -1.143905\n",
       "   2   -0.479229\n",
       "   3   -0.003369\n",
       "b  1    0.597347\n",
       "   3   -0.296286\n",
       "c  1   -0.745082\n",
       "   2    0.538509\n",
       "d  2   -1.316708\n",
       "   3   -0.803749\n",
       "dtype: float64"
      ]
     },
     "execution_count": 12,
     "metadata": {},
     "output_type": "execute_result"
    }
   ],
   "source": [
    "# The unstacked DataFrame can be transformed into a stacked series using the stack method\n",
    "data.unstack().stack()\n"
   ]
  },
  {
   "cell_type": "markdown",
   "metadata": {
    "slideshow": {
     "slide_type": "subslide"
    }
   },
   "source": [
    "- *Reordering and Sorting Levels*\n",
    "- The *swaplevel* instance method takes two level numbers or names and returns a new object with the levels interchanged\n",
    "- *sort_index* instance method sorts the data using only the values in a single level"
   ]
  },
  {
   "cell_type": "code",
   "execution_count": 13,
   "metadata": {
    "ExecuteTime": {
     "end_time": "2019-09-26T11:23:38.234933Z",
     "start_time": "2019-09-26T11:23:38.219323Z"
    },
    "slideshow": {
     "slide_type": "fragment"
    }
   },
   "outputs": [
    {
     "data": {
      "text/html": [
       "<div>\n",
       "<style scoped>\n",
       "    .dataframe tbody tr th:only-of-type {\n",
       "        vertical-align: middle;\n",
       "    }\n",
       "\n",
       "    .dataframe tbody tr th {\n",
       "        vertical-align: top;\n",
       "    }\n",
       "\n",
       "    .dataframe thead th {\n",
       "        text-align: right;\n",
       "    }\n",
       "</style>\n",
       "<table border=\"1\" class=\"dataframe\">\n",
       "  <thead>\n",
       "    <tr style=\"text-align: right;\">\n",
       "      <th></th>\n",
       "      <th></th>\n",
       "      <th>Unnamed: 0</th>\n",
       "      <th>Age</th>\n",
       "      <th>Workclass</th>\n",
       "      <th>Fnlwgt</th>\n",
       "      <th>Education</th>\n",
       "      <th>Education-Num</th>\n",
       "      <th>Marital-Status</th>\n",
       "      <th>Occupation</th>\n",
       "      <th>Relationship</th>\n",
       "      <th>Race</th>\n",
       "      <th>Capital-Gain</th>\n",
       "      <th>Capital-Loss</th>\n",
       "      <th>Weekly-Work-Hours</th>\n",
       "      <th>Salary</th>\n",
       "    </tr>\n",
       "    <tr>\n",
       "      <th>Native-Country</th>\n",
       "      <th>Sex</th>\n",
       "      <th></th>\n",
       "      <th></th>\n",
       "      <th></th>\n",
       "      <th></th>\n",
       "      <th></th>\n",
       "      <th></th>\n",
       "      <th></th>\n",
       "      <th></th>\n",
       "      <th></th>\n",
       "      <th></th>\n",
       "      <th></th>\n",
       "      <th></th>\n",
       "      <th></th>\n",
       "      <th></th>\n",
       "    </tr>\n",
       "  </thead>\n",
       "  <tbody>\n",
       "    <tr>\n",
       "      <th rowspan=\"2\" valign=\"top\">?</th>\n",
       "      <th>Female</th>\n",
       "      <td>51</td>\n",
       "      <td>18</td>\n",
       "      <td>Private</td>\n",
       "      <td>226956</td>\n",
       "      <td>HS-grad</td>\n",
       "      <td>9</td>\n",
       "      <td>Never-married</td>\n",
       "      <td>Other-service</td>\n",
       "      <td>Own-child</td>\n",
       "      <td>White</td>\n",
       "      <td>0</td>\n",
       "      <td>0</td>\n",
       "      <td>30</td>\n",
       "      <td>&lt;=50K</td>\n",
       "    </tr>\n",
       "    <tr>\n",
       "      <th>Female</th>\n",
       "      <td>93</td>\n",
       "      <td>30</td>\n",
       "      <td>Private</td>\n",
       "      <td>117747</td>\n",
       "      <td>HS-grad</td>\n",
       "      <td>9</td>\n",
       "      <td>Married-civ-spouse</td>\n",
       "      <td>Sales</td>\n",
       "      <td>Wife</td>\n",
       "      <td>Asian-Pac-Islander</td>\n",
       "      <td>0</td>\n",
       "      <td>1573</td>\n",
       "      <td>35</td>\n",
       "      <td>&lt;=50K</td>\n",
       "    </tr>\n",
       "  </tbody>\n",
       "</table>\n",
       "</div>"
      ],
      "text/plain": [
       "                       Unnamed: 0  Age Workclass  Fnlwgt Education  \\\n",
       "Native-Country Sex                                                   \n",
       "?              Female          51   18   Private  226956   HS-grad   \n",
       "               Female          93   30   Private  117747   HS-grad   \n",
       "\n",
       "                       Education-Num       Marital-Status      Occupation  \\\n",
       "Native-Country Sex                                                          \n",
       "?              Female              9        Never-married   Other-service   \n",
       "               Female              9   Married-civ-spouse           Sales   \n",
       "\n",
       "                      Relationship                 Race  Capital-Gain  \\\n",
       "Native-Country Sex                                                      \n",
       "?              Female    Own-child                White             0   \n",
       "               Female         Wife   Asian-Pac-Islander             0   \n",
       "\n",
       "                       Capital-Loss  Weekly-Work-Hours  Salary  \n",
       "Native-Country Sex                                              \n",
       "?              Female             0                 30   <=50K  \n",
       "               Female          1573                 35   <=50K  "
      ]
     },
     "execution_count": 13,
     "metadata": {},
     "output_type": "execute_result"
    }
   ],
   "source": [
    "# swap 'Native-Country', 'Sex' in adult_mi data set using instance method swaplevel\n",
    "adult_mi.head(2)"
   ]
  },
  {
   "cell_type": "code",
   "execution_count": 14,
   "metadata": {
    "ExecuteTime": {
     "end_time": "2019-09-26T11:23:42.353379Z",
     "start_time": "2019-09-26T11:23:42.331806Z"
    },
    "slideshow": {
     "slide_type": "subslide"
    }
   },
   "outputs": [
    {
     "data": {
      "text/html": [
       "<div>\n",
       "<style scoped>\n",
       "    .dataframe tbody tr th:only-of-type {\n",
       "        vertical-align: middle;\n",
       "    }\n",
       "\n",
       "    .dataframe tbody tr th {\n",
       "        vertical-align: top;\n",
       "    }\n",
       "\n",
       "    .dataframe thead th {\n",
       "        text-align: right;\n",
       "    }\n",
       "</style>\n",
       "<table border=\"1\" class=\"dataframe\">\n",
       "  <thead>\n",
       "    <tr style=\"text-align: right;\">\n",
       "      <th></th>\n",
       "      <th></th>\n",
       "      <th>Unnamed: 0</th>\n",
       "      <th>Age</th>\n",
       "      <th>Workclass</th>\n",
       "      <th>Fnlwgt</th>\n",
       "      <th>Education</th>\n",
       "      <th>Education-Num</th>\n",
       "      <th>Marital-Status</th>\n",
       "      <th>Occupation</th>\n",
       "      <th>Relationship</th>\n",
       "      <th>Race</th>\n",
       "      <th>Capital-Gain</th>\n",
       "      <th>Capital-Loss</th>\n",
       "      <th>Weekly-Work-Hours</th>\n",
       "      <th>Salary</th>\n",
       "    </tr>\n",
       "    <tr>\n",
       "      <th>Sex</th>\n",
       "      <th>Native-Country</th>\n",
       "      <th></th>\n",
       "      <th></th>\n",
       "      <th></th>\n",
       "      <th></th>\n",
       "      <th></th>\n",
       "      <th></th>\n",
       "      <th></th>\n",
       "      <th></th>\n",
       "      <th></th>\n",
       "      <th></th>\n",
       "      <th></th>\n",
       "      <th></th>\n",
       "      <th></th>\n",
       "      <th></th>\n",
       "    </tr>\n",
       "  </thead>\n",
       "  <tbody>\n",
       "    <tr>\n",
       "      <th rowspan=\"2\" valign=\"top\">Female</th>\n",
       "      <th>?</th>\n",
       "      <td>51</td>\n",
       "      <td>18</td>\n",
       "      <td>Private</td>\n",
       "      <td>226956</td>\n",
       "      <td>HS-grad</td>\n",
       "      <td>9</td>\n",
       "      <td>Never-married</td>\n",
       "      <td>Other-service</td>\n",
       "      <td>Own-child</td>\n",
       "      <td>White</td>\n",
       "      <td>0</td>\n",
       "      <td>0</td>\n",
       "      <td>30</td>\n",
       "      <td>&lt;=50K</td>\n",
       "    </tr>\n",
       "    <tr>\n",
       "      <th>?</th>\n",
       "      <td>93</td>\n",
       "      <td>30</td>\n",
       "      <td>Private</td>\n",
       "      <td>117747</td>\n",
       "      <td>HS-grad</td>\n",
       "      <td>9</td>\n",
       "      <td>Married-civ-spouse</td>\n",
       "      <td>Sales</td>\n",
       "      <td>Wife</td>\n",
       "      <td>Asian-Pac-Islander</td>\n",
       "      <td>0</td>\n",
       "      <td>1573</td>\n",
       "      <td>35</td>\n",
       "      <td>&lt;=50K</td>\n",
       "    </tr>\n",
       "  </tbody>\n",
       "</table>\n",
       "</div>"
      ],
      "text/plain": [
       "                       Unnamed: 0  Age Workclass  Fnlwgt Education  \\\n",
       "Sex    Native-Country                                                \n",
       "Female ?                       51   18   Private  226956   HS-grad   \n",
       "       ?                       93   30   Private  117747   HS-grad   \n",
       "\n",
       "                       Education-Num       Marital-Status      Occupation  \\\n",
       "Sex    Native-Country                                                       \n",
       "Female ?                           9        Never-married   Other-service   \n",
       "       ?                           9   Married-civ-spouse           Sales   \n",
       "\n",
       "                      Relationship                 Race  Capital-Gain  \\\n",
       "Sex    Native-Country                                                   \n",
       "Female ?                 Own-child                White             0   \n",
       "       ?                      Wife   Asian-Pac-Islander             0   \n",
       "\n",
       "                       Capital-Loss  Weekly-Work-Hours  Salary  \n",
       "Sex    Native-Country                                           \n",
       "Female ?                          0                 30   <=50K  \n",
       "       ?                       1573                 35   <=50K  "
      ]
     },
     "execution_count": 14,
     "metadata": {},
     "output_type": "execute_result"
    }
   ],
   "source": [
    "# In case adult_mi Native-Country will become the innermost index\n",
    "adult_mi.swaplevel('Native-Country', 'Sex').head(2)"
   ]
  },
  {
   "cell_type": "markdown",
   "metadata": {
    "slideshow": {
     "slide_type": "subslide"
    }
   },
   "source": [
    "- *Summary Statistics by Level*\n",
    "- Many descriptive and summary statistics on DataFrame and Series have a *level* argument that allows specification of the level on which aggregation is to be performed over a particular axis"
   ]
  },
  {
   "cell_type": "code",
   "execution_count": 16,
   "metadata": {
    "ExecuteTime": {
     "end_time": "2019-09-26T13:32:25.508216Z",
     "start_time": "2019-09-26T13:32:25.488001Z"
    },
    "slideshow": {
     "slide_type": "fragment"
    }
   },
   "outputs": [
    {
     "name": "stderr",
     "output_type": "stream",
     "text": [
      "/var/folders/b5/qtlwb6j979d58ssnfbkgyckc0000gn/T/ipykernel_23690/3198731512.py:3: FutureWarning: Using the level keyword in DataFrame and Series aggregations is deprecated and will be removed in a future version. Use groupby instead. df.median(level=1) should use df.groupby(level=1).median().\n",
      "  adult_mi.mean(level='Native-Country').head(3)\n",
      "/Users/antorweep/Documents/dev/dat540/.env/lib/python3.9/site-packages/pandas/core/generic.py:10351: FutureWarning: Dropping invalid columns in DataFrameGroupBy.mean is deprecated. In a future version, a TypeError will be raised. Before calling .mean, select only columns which should be valid for the function.\n",
      "  return self._agg_by_level(\n"
     ]
    },
    {
     "data": {
      "text/html": [
       "<div>\n",
       "<style scoped>\n",
       "    .dataframe tbody tr th:only-of-type {\n",
       "        vertical-align: middle;\n",
       "    }\n",
       "\n",
       "    .dataframe tbody tr th {\n",
       "        vertical-align: top;\n",
       "    }\n",
       "\n",
       "    .dataframe thead th {\n",
       "        text-align: right;\n",
       "    }\n",
       "</style>\n",
       "<table border=\"1\" class=\"dataframe\">\n",
       "  <thead>\n",
       "    <tr style=\"text-align: right;\">\n",
       "      <th></th>\n",
       "      <th>Unnamed: 0</th>\n",
       "      <th>Age</th>\n",
       "      <th>Fnlwgt</th>\n",
       "      <th>Education-Num</th>\n",
       "      <th>Capital-Gain</th>\n",
       "      <th>Capital-Loss</th>\n",
       "      <th>Weekly-Work-Hours</th>\n",
       "    </tr>\n",
       "    <tr>\n",
       "      <th>Native-Country</th>\n",
       "      <th></th>\n",
       "      <th></th>\n",
       "      <th></th>\n",
       "      <th></th>\n",
       "      <th></th>\n",
       "      <th></th>\n",
       "      <th></th>\n",
       "    </tr>\n",
       "  </thead>\n",
       "  <tbody>\n",
       "    <tr>\n",
       "      <th>?</th>\n",
       "      <td>16172.542955</td>\n",
       "      <td>38.740550</td>\n",
       "      <td>193384.587629</td>\n",
       "      <td>10.601375</td>\n",
       "      <td>1809.621993</td>\n",
       "      <td>118.469072</td>\n",
       "      <td>41.515464</td>\n",
       "    </tr>\n",
       "    <tr>\n",
       "      <th>Cambodia</th>\n",
       "      <td>14857.315789</td>\n",
       "      <td>37.789474</td>\n",
       "      <td>193080.368421</td>\n",
       "      <td>8.789474</td>\n",
       "      <td>1027.842105</td>\n",
       "      <td>183.052632</td>\n",
       "      <td>40.894737</td>\n",
       "    </tr>\n",
       "    <tr>\n",
       "      <th>Canada</th>\n",
       "      <td>14686.082645</td>\n",
       "      <td>42.545455</td>\n",
       "      <td>179852.933884</td>\n",
       "      <td>10.652893</td>\n",
       "      <td>1504.132231</td>\n",
       "      <td>129.933884</td>\n",
       "      <td>40.404959</td>\n",
       "    </tr>\n",
       "  </tbody>\n",
       "</table>\n",
       "</div>"
      ],
      "text/plain": [
       "                  Unnamed: 0        Age         Fnlwgt  Education-Num  \\\n",
       "Native-Country                                                          \n",
       "?               16172.542955  38.740550  193384.587629      10.601375   \n",
       "Cambodia        14857.315789  37.789474  193080.368421       8.789474   \n",
       "Canada          14686.082645  42.545455  179852.933884      10.652893   \n",
       "\n",
       "                Capital-Gain  Capital-Loss  Weekly-Work-Hours  \n",
       "Native-Country                                                 \n",
       "?                1809.621993    118.469072          41.515464  \n",
       "Cambodia         1027.842105    183.052632          40.894737  \n",
       "Canada           1504.132231    129.933884          40.404959  "
      ]
     },
     "execution_count": 16,
     "metadata": {},
     "output_type": "execute_result"
    }
   ],
   "source": [
    "# Get quick summary stats from adult_mi\n",
    "# Perfrom mean on adult_mi with level='Native-Country'\n",
    "adult_mi.mean(level='Native-Country').head(3)"
   ]
  },
  {
   "cell_type": "markdown",
   "metadata": {
    "slideshow": {
     "slide_type": "slide"
    }
   },
   "source": [
    "- **Combining and Merging Datasets**\n",
    "- It is often necessary to join, combine or merge datasets from different repositories\n",
    "- Data contained in pandas objects can be combined together in multiple ways\n",
    "  - *pandas.merge* top-level method connects rows in DataFrames based on one or more keys. Similar to join operations\n",
    "  - *pandas.concat* top-level method concatenates or \"stacks\" together objects along an axis\n",
    "  - *combine_first* instance method enables splicing together with overlapping data to fill in missing values in one object with values from another\n",
    "- *Database-Style DataFrame Joins*\n",
    "- *Merge* or *Join* operations combine datasets by linking rows using one or more keys using *pandas.merge*\n",
    "- The *on* argument specifies the column(s) to be used for performing a join\n",
    "- Without the on argument, merge uses overlapping column names as keys\n",
    "- If the column names are different in each object, they can be specified separately using *left_on* and *right_on* arguments for the left and right dataframes respectively\n",
    "- By default merge does an *inner join*\n",
    "- The *how* argument allows 'left', 'right' and 'outer' joins \n",
    "- To merge with multiple keys, a list of column names are passed to the *on* argument\n",
    "- *suffixes=()* argument takes a tuple and adds suffixes to overlapping columns when performing merge"
   ]
  },
  {
   "cell_type": "code",
   "execution_count": 17,
   "metadata": {
    "ExecuteTime": {
     "end_time": "2019-09-26T13:39:51.133666Z",
     "start_time": "2019-09-26T13:39:51.122432Z"
    },
    "slideshow": {
     "slide_type": "subslide"
    }
   },
   "outputs": [
    {
     "name": "stdout",
     "output_type": "stream",
     "text": [
      "df1:\n",
      "   key  data1\n",
      "0   b      3\n",
      "1   b      6\n",
      "2   a      5\n",
      "3   c      4\n",
      "4   a      8\n",
      "5   a      9\n",
      "6   d      1\n",
      "df2:\n",
      "   key  data2\n",
      "0   a      9\n",
      "1   b     11\n",
      "2   d     12\n"
     ]
    }
   ],
   "source": [
    "np.random.seed(1234)\n",
    "# Generate two data sets with random values.\n",
    "df1 = pd.DataFrame({'key': ['b', 'b', 'a',  'c', 'a', 'a', 'd'],\n",
    "                   'data1': np.random.randint(0, 10, 7)})\n",
    "df2 = pd.DataFrame({'key': ['a', 'b', 'd'],\n",
    "                   'data2': np.random.randint(0, 20, 3)})\n",
    "print('df1:\\n', df1)\n",
    "print('df2:\\n', df2)"
   ]
  },
  {
   "cell_type": "code",
   "execution_count": 18,
   "metadata": {
    "ExecuteTime": {
     "end_time": "2019-09-26T13:39:51.624766Z",
     "start_time": "2019-09-26T13:39:51.611461Z"
    },
    "slideshow": {
     "slide_type": "subslide"
    }
   },
   "outputs": [
    {
     "data": {
      "text/html": [
       "<div>\n",
       "<style scoped>\n",
       "    .dataframe tbody tr th:only-of-type {\n",
       "        vertical-align: middle;\n",
       "    }\n",
       "\n",
       "    .dataframe tbody tr th {\n",
       "        vertical-align: top;\n",
       "    }\n",
       "\n",
       "    .dataframe thead th {\n",
       "        text-align: right;\n",
       "    }\n",
       "</style>\n",
       "<table border=\"1\" class=\"dataframe\">\n",
       "  <thead>\n",
       "    <tr style=\"text-align: right;\">\n",
       "      <th></th>\n",
       "      <th>key</th>\n",
       "      <th>data1</th>\n",
       "      <th>data2</th>\n",
       "    </tr>\n",
       "  </thead>\n",
       "  <tbody>\n",
       "    <tr>\n",
       "      <th>0</th>\n",
       "      <td>b</td>\n",
       "      <td>3</td>\n",
       "      <td>11</td>\n",
       "    </tr>\n",
       "    <tr>\n",
       "      <th>1</th>\n",
       "      <td>b</td>\n",
       "      <td>6</td>\n",
       "      <td>11</td>\n",
       "    </tr>\n",
       "    <tr>\n",
       "      <th>2</th>\n",
       "      <td>a</td>\n",
       "      <td>5</td>\n",
       "      <td>9</td>\n",
       "    </tr>\n",
       "    <tr>\n",
       "      <th>3</th>\n",
       "      <td>a</td>\n",
       "      <td>8</td>\n",
       "      <td>9</td>\n",
       "    </tr>\n",
       "    <tr>\n",
       "      <th>4</th>\n",
       "      <td>a</td>\n",
       "      <td>9</td>\n",
       "      <td>9</td>\n",
       "    </tr>\n",
       "    <tr>\n",
       "      <th>5</th>\n",
       "      <td>d</td>\n",
       "      <td>1</td>\n",
       "      <td>12</td>\n",
       "    </tr>\n",
       "  </tbody>\n",
       "</table>\n",
       "</div>"
      ],
      "text/plain": [
       "  key  data1  data2\n",
       "0   b      3     11\n",
       "1   b      6     11\n",
       "2   a      5      9\n",
       "3   a      8      9\n",
       "4   a      9      9\n",
       "5   d      1     12"
      ]
     },
     "execution_count": 18,
     "metadata": {},
     "output_type": "execute_result"
    }
   ],
   "source": [
    "# Perfrom a default inner join using pd.merge on df1 and df2.\n",
    "# pandas automatically chooses the overlapping columns as the keys.\n",
    "# For performing merge on specific columns that overlap, it can be defined using argument \"on\". \n",
    "# Could be a single label or a list of overlapping labels\n",
    "pd.merge(df1, df2)"
   ]
  },
  {
   "cell_type": "code",
   "execution_count": 19,
   "metadata": {
    "ExecuteTime": {
     "end_time": "2019-09-26T13:39:52.214804Z",
     "start_time": "2019-09-26T13:39:52.205930Z"
    },
    "slideshow": {
     "slide_type": "subslide"
    }
   },
   "outputs": [
    {
     "name": "stdout",
     "output_type": "stream",
     "text": [
      "df1:\n",
      "   key1  data1\n",
      "0    b      3\n",
      "1    b      6\n",
      "2    a      5\n",
      "3    c      4\n",
      "4    a      8\n",
      "5    a      9\n",
      "6    d      1\n",
      "df2:\n",
      "   key2  data2\n",
      "0    a      9\n",
      "1    b     11\n",
      "2    d     12\n"
     ]
    }
   ],
   "source": [
    "# Change the column names for key as key1 and key2 for df1 and df2 respectively\n",
    "df1.columns = ['key1', 'data1']\n",
    "df2.columns = ['key2', 'data2']\n",
    "print('df1:\\n', df1)\n",
    "print('df2:\\n', df2)"
   ]
  },
  {
   "cell_type": "code",
   "execution_count": 20,
   "metadata": {
    "ExecuteTime": {
     "end_time": "2019-09-26T13:39:52.834418Z",
     "start_time": "2019-09-26T13:39:52.830175Z"
    },
    "slideshow": {
     "slide_type": "fragment"
    }
   },
   "outputs": [
    {
     "name": "stdout",
     "output_type": "stream",
     "text": [
      "No common columns to perform merge on.\n"
     ]
    }
   ],
   "source": [
    "# Try perfroming a simple/default merge on them now using pd.merge\n",
    "\n",
    "try:\n",
    "  pd.merge(df1, df2)\n",
    "except:\n",
    "  print('No common columns to perform merge on.')"
   ]
  },
  {
   "cell_type": "code",
   "execution_count": 21,
   "metadata": {
    "ExecuteTime": {
     "end_time": "2019-09-26T13:39:53.373361Z",
     "start_time": "2019-09-26T13:39:53.353941Z"
    },
    "slideshow": {
     "slide_type": "subslide"
    }
   },
   "outputs": [
    {
     "name": "stdout",
     "output_type": "stream",
     "text": [
      "df1:\n",
      "   key1  data1      data\n",
      "0    b      3 -0.008679\n",
      "1    b      6 -0.321061\n",
      "2    a      5  1.056970\n",
      "3    c      4 -0.590180\n",
      "4    a      8 -0.387864\n",
      "5    a      9 -0.046539\n",
      "6    d      1 -0.998716\n",
      "df2:\n",
      "   key2  data2      data\n",
      "0    a      9 -0.824126\n",
      "1    b     11  0.515387\n",
      "2    d     12  0.315523\n"
     ]
    },
    {
     "data": {
      "text/html": [
       "<div>\n",
       "<style scoped>\n",
       "    .dataframe tbody tr th:only-of-type {\n",
       "        vertical-align: middle;\n",
       "    }\n",
       "\n",
       "    .dataframe tbody tr th {\n",
       "        vertical-align: top;\n",
       "    }\n",
       "\n",
       "    .dataframe thead th {\n",
       "        text-align: right;\n",
       "    }\n",
       "</style>\n",
       "<table border=\"1\" class=\"dataframe\">\n",
       "  <thead>\n",
       "    <tr style=\"text-align: right;\">\n",
       "      <th></th>\n",
       "      <th>key1</th>\n",
       "      <th>data1</th>\n",
       "      <th>data_l</th>\n",
       "      <th>key2</th>\n",
       "      <th>data2</th>\n",
       "      <th>data_r</th>\n",
       "    </tr>\n",
       "  </thead>\n",
       "  <tbody>\n",
       "    <tr>\n",
       "      <th>0</th>\n",
       "      <td>b</td>\n",
       "      <td>3</td>\n",
       "      <td>-0.008679</td>\n",
       "      <td>b</td>\n",
       "      <td>11.0</td>\n",
       "      <td>0.515387</td>\n",
       "    </tr>\n",
       "    <tr>\n",
       "      <th>1</th>\n",
       "      <td>b</td>\n",
       "      <td>6</td>\n",
       "      <td>-0.321061</td>\n",
       "      <td>b</td>\n",
       "      <td>11.0</td>\n",
       "      <td>0.515387</td>\n",
       "    </tr>\n",
       "    <tr>\n",
       "      <th>2</th>\n",
       "      <td>a</td>\n",
       "      <td>5</td>\n",
       "      <td>1.056970</td>\n",
       "      <td>a</td>\n",
       "      <td>9.0</td>\n",
       "      <td>-0.824126</td>\n",
       "    </tr>\n",
       "    <tr>\n",
       "      <th>3</th>\n",
       "      <td>a</td>\n",
       "      <td>8</td>\n",
       "      <td>-0.387864</td>\n",
       "      <td>a</td>\n",
       "      <td>9.0</td>\n",
       "      <td>-0.824126</td>\n",
       "    </tr>\n",
       "    <tr>\n",
       "      <th>4</th>\n",
       "      <td>a</td>\n",
       "      <td>9</td>\n",
       "      <td>-0.046539</td>\n",
       "      <td>a</td>\n",
       "      <td>9.0</td>\n",
       "      <td>-0.824126</td>\n",
       "    </tr>\n",
       "    <tr>\n",
       "      <th>5</th>\n",
       "      <td>c</td>\n",
       "      <td>4</td>\n",
       "      <td>-0.590180</td>\n",
       "      <td>NaN</td>\n",
       "      <td>NaN</td>\n",
       "      <td>NaN</td>\n",
       "    </tr>\n",
       "    <tr>\n",
       "      <th>6</th>\n",
       "      <td>d</td>\n",
       "      <td>1</td>\n",
       "      <td>-0.998716</td>\n",
       "      <td>d</td>\n",
       "      <td>12.0</td>\n",
       "      <td>0.315523</td>\n",
       "    </tr>\n",
       "  </tbody>\n",
       "</table>\n",
       "</div>"
      ],
      "text/plain": [
       "  key1  data1    data_l key2  data2    data_r\n",
       "0    b      3 -0.008679    b   11.0  0.515387\n",
       "1    b      6 -0.321061    b   11.0  0.515387\n",
       "2    a      5  1.056970    a    9.0 -0.824126\n",
       "3    a      8 -0.387864    a    9.0 -0.824126\n",
       "4    a      9 -0.046539    a    9.0 -0.824126\n",
       "5    c      4 -0.590180  NaN    NaN       NaN\n",
       "6    d      1 -0.998716    d   12.0  0.315523"
      ]
     },
     "execution_count": 21,
     "metadata": {},
     "output_type": "execute_result"
    }
   ],
   "source": [
    "# add a new column \"data\" to df1 and df2 with random values (len=7 and len=3 respectively)\n",
    "df1['data'] = np.random.randn(7)\n",
    "df2['data'] = np.random.randn(3)\n",
    "\n",
    "print('df1:\\n', df1)\n",
    "print('df2:\\n', df2)\n",
    "\n",
    "# Perform merge on df1 and df2 with \"left_on\" and \"right_on\" argument specifying the key columns for each DataFrame\n",
    "# Also specify the type of join as outer using the *how* argument\n",
    "# Additionally use \"suffixes\" argument to specify a string to append to overlapping names in the left and right DFs\n",
    "pd.merge(df1, df2, left_on='key1', right_on='key2', how='outer', suffixes=('_l', '_r'))"
   ]
  },
  {
   "cell_type": "markdown",
   "metadata": {
    "slideshow": {
     "slide_type": "subslide"
    }
   },
   "source": [
    "- Merge function arguments\n",
    "\n",
    "<img src='images/merge_args.png'>"
   ]
  },
  {
   "cell_type": "markdown",
   "metadata": {
    "slideshow": {
     "slide_type": "subslide"
    }
   },
   "source": [
    "- *Merging on Index*\n",
    "- Merging can also be performed on row indices (hierarchical and non-hierarchical)\n",
    "- The *left_index=True* or *right_index=True* (or both) arguments indicates that the index should be used as the merge key\n",
    "- Alternatively DataFrame also provides the *join* instance method to perform merge operation on indices\n",
    "- The *join* method takes in similar arguments like merge\n",
    "- Index-on-index merging using join can also accept a list of DataFrames to perform multiple joins with multiple DataFrames"
   ]
  },
  {
   "cell_type": "code",
   "execution_count": 22,
   "metadata": {
    "ExecuteTime": {
     "end_time": "2019-09-26T13:39:55.801987Z",
     "start_time": "2019-09-26T13:39:55.793034Z"
    },
    "slideshow": {
     "slide_type": "subslide"
    }
   },
   "outputs": [
    {
     "name": "stdout",
     "output_type": "stream",
     "text": [
      "df1:\n",
      "       data1      data\n",
      "key1                 \n",
      "b         3 -0.008679\n",
      "b         6 -0.321061\n",
      "a         5  1.056970\n",
      "c         4 -0.590180\n",
      "a         8 -0.387864\n",
      "a         9 -0.046539\n",
      "d         1 -0.998716\n",
      "df2:\n",
      "       data2      data\n",
      "key2                 \n",
      "a         9 -0.824126\n",
      "b        11  0.515387\n",
      "d        12  0.315523\n"
     ]
    }
   ],
   "source": [
    "# Transform df1 and df2 with set_index, to include key1 and key2 as their respective row indices \n",
    "df1.set_index('key1', inplace=True)\n",
    "df2.set_index('key2', inplace=True)\n",
    "print('df1:\\n', df1)\n",
    "print('df2:\\n', df2)"
   ]
  },
  {
   "cell_type": "code",
   "execution_count": 23,
   "metadata": {
    "ExecuteTime": {
     "end_time": "2019-09-26T13:40:02.189800Z",
     "start_time": "2019-09-26T13:40:02.176109Z"
    },
    "slideshow": {
     "slide_type": "subslide"
    }
   },
   "outputs": [
    {
     "data": {
      "text/html": [
       "<div>\n",
       "<style scoped>\n",
       "    .dataframe tbody tr th:only-of-type {\n",
       "        vertical-align: middle;\n",
       "    }\n",
       "\n",
       "    .dataframe tbody tr th {\n",
       "        vertical-align: top;\n",
       "    }\n",
       "\n",
       "    .dataframe thead th {\n",
       "        text-align: right;\n",
       "    }\n",
       "</style>\n",
       "<table border=\"1\" class=\"dataframe\">\n",
       "  <thead>\n",
       "    <tr style=\"text-align: right;\">\n",
       "      <th></th>\n",
       "      <th>data1</th>\n",
       "      <th>data_x</th>\n",
       "      <th>data2</th>\n",
       "      <th>data_y</th>\n",
       "    </tr>\n",
       "  </thead>\n",
       "  <tbody>\n",
       "    <tr>\n",
       "      <th>a</th>\n",
       "      <td>5</td>\n",
       "      <td>1.056970</td>\n",
       "      <td>9</td>\n",
       "      <td>-0.824126</td>\n",
       "    </tr>\n",
       "    <tr>\n",
       "      <th>a</th>\n",
       "      <td>8</td>\n",
       "      <td>-0.387864</td>\n",
       "      <td>9</td>\n",
       "      <td>-0.824126</td>\n",
       "    </tr>\n",
       "    <tr>\n",
       "      <th>a</th>\n",
       "      <td>9</td>\n",
       "      <td>-0.046539</td>\n",
       "      <td>9</td>\n",
       "      <td>-0.824126</td>\n",
       "    </tr>\n",
       "    <tr>\n",
       "      <th>b</th>\n",
       "      <td>3</td>\n",
       "      <td>-0.008679</td>\n",
       "      <td>11</td>\n",
       "      <td>0.515387</td>\n",
       "    </tr>\n",
       "    <tr>\n",
       "      <th>b</th>\n",
       "      <td>6</td>\n",
       "      <td>-0.321061</td>\n",
       "      <td>11</td>\n",
       "      <td>0.515387</td>\n",
       "    </tr>\n",
       "    <tr>\n",
       "      <th>d</th>\n",
       "      <td>1</td>\n",
       "      <td>-0.998716</td>\n",
       "      <td>12</td>\n",
       "      <td>0.315523</td>\n",
       "    </tr>\n",
       "  </tbody>\n",
       "</table>\n",
       "</div>"
      ],
      "text/plain": [
       "   data1    data_x  data2    data_y\n",
       "a      5  1.056970      9 -0.824126\n",
       "a      8 -0.387864      9 -0.824126\n",
       "a      9 -0.046539      9 -0.824126\n",
       "b      3 -0.008679     11  0.515387\n",
       "b      6 -0.321061     11  0.515387\n",
       "d      1 -0.998716     12  0.315523"
      ]
     },
     "execution_count": 23,
     "metadata": {},
     "output_type": "execute_result"
    }
   ],
   "source": [
    "# Merge df1 and df2 using their indices.\n",
    "# Use \"left_index\", \"right_index\" or both (when the index names are different)\n",
    "pd.merge(df1, df2, left_index=True, right_index=True)"
   ]
  },
  {
   "cell_type": "code",
   "execution_count": 24,
   "metadata": {
    "ExecuteTime": {
     "end_time": "2019-09-26T13:40:22.832485Z",
     "start_time": "2019-09-26T13:40:22.818282Z"
    },
    "slideshow": {
     "slide_type": "subslide"
    }
   },
   "outputs": [
    {
     "data": {
      "text/html": [
       "<div>\n",
       "<style scoped>\n",
       "    .dataframe tbody tr th:only-of-type {\n",
       "        vertical-align: middle;\n",
       "    }\n",
       "\n",
       "    .dataframe tbody tr th {\n",
       "        vertical-align: top;\n",
       "    }\n",
       "\n",
       "    .dataframe thead th {\n",
       "        text-align: right;\n",
       "    }\n",
       "</style>\n",
       "<table border=\"1\" class=\"dataframe\">\n",
       "  <thead>\n",
       "    <tr style=\"text-align: right;\">\n",
       "      <th></th>\n",
       "      <th>data1</th>\n",
       "      <th>data_l</th>\n",
       "      <th>data2</th>\n",
       "      <th>data_r</th>\n",
       "    </tr>\n",
       "  </thead>\n",
       "  <tbody>\n",
       "    <tr>\n",
       "      <th>a</th>\n",
       "      <td>5</td>\n",
       "      <td>1.056970</td>\n",
       "      <td>9.0</td>\n",
       "      <td>-0.824126</td>\n",
       "    </tr>\n",
       "    <tr>\n",
       "      <th>a</th>\n",
       "      <td>8</td>\n",
       "      <td>-0.387864</td>\n",
       "      <td>9.0</td>\n",
       "      <td>-0.824126</td>\n",
       "    </tr>\n",
       "    <tr>\n",
       "      <th>a</th>\n",
       "      <td>9</td>\n",
       "      <td>-0.046539</td>\n",
       "      <td>9.0</td>\n",
       "      <td>-0.824126</td>\n",
       "    </tr>\n",
       "    <tr>\n",
       "      <th>b</th>\n",
       "      <td>3</td>\n",
       "      <td>-0.008679</td>\n",
       "      <td>11.0</td>\n",
       "      <td>0.515387</td>\n",
       "    </tr>\n",
       "    <tr>\n",
       "      <th>b</th>\n",
       "      <td>6</td>\n",
       "      <td>-0.321061</td>\n",
       "      <td>11.0</td>\n",
       "      <td>0.515387</td>\n",
       "    </tr>\n",
       "    <tr>\n",
       "      <th>c</th>\n",
       "      <td>4</td>\n",
       "      <td>-0.590180</td>\n",
       "      <td>NaN</td>\n",
       "      <td>NaN</td>\n",
       "    </tr>\n",
       "    <tr>\n",
       "      <th>d</th>\n",
       "      <td>1</td>\n",
       "      <td>-0.998716</td>\n",
       "      <td>12.0</td>\n",
       "      <td>0.315523</td>\n",
       "    </tr>\n",
       "  </tbody>\n",
       "</table>\n",
       "</div>"
      ],
      "text/plain": [
       "   data1    data_l  data2    data_r\n",
       "a      5  1.056970    9.0 -0.824126\n",
       "a      8 -0.387864    9.0 -0.824126\n",
       "a      9 -0.046539    9.0 -0.824126\n",
       "b      3 -0.008679   11.0  0.515387\n",
       "b      6 -0.321061   11.0  0.515387\n",
       "c      4 -0.590180    NaN       NaN\n",
       "d      1 -0.998716   12.0  0.315523"
      ]
     },
     "execution_count": 24,
     "metadata": {},
     "output_type": "execute_result"
    }
   ],
   "source": [
    "# Perform merge on indices using \"join\" instance method\n",
    "df1.join(df2, lsuffix='_l', rsuffix='_r', how='outer')"
   ]
  },
  {
   "cell_type": "code",
   "execution_count": null,
   "metadata": {},
   "outputs": [],
   "source": []
  }
 ],
 "metadata": {
  "celltoolbar": "Slideshow",
  "kernelspec": {
   "display_name": "Python 3.9.7 ('.env': venv)",
   "language": "python",
   "name": "python3"
  },
  "language_info": {
   "codemirror_mode": {
    "name": "ipython",
    "version": 3
   },
   "file_extension": ".py",
   "mimetype": "text/x-python",
   "name": "python",
   "nbconvert_exporter": "python",
   "pygments_lexer": "ipython3",
   "version": "3.9.7"
  },
  "varInspector": {
   "cols": {
    "lenName": 16,
    "lenType": 16,
    "lenVar": 40
   },
   "kernels_config": {
    "python": {
     "delete_cmd_postfix": "",
     "delete_cmd_prefix": "del ",
     "library": "var_list.py",
     "varRefreshCmd": "print(var_dic_list())"
    },
    "r": {
     "delete_cmd_postfix": ") ",
     "delete_cmd_prefix": "rm(",
     "library": "var_list.r",
     "varRefreshCmd": "cat(var_dic_list()) "
    }
   },
   "types_to_exclude": [
    "module",
    "function",
    "builtin_function_or_method",
    "instance",
    "_Feature"
   ],
   "window_display": false
  },
  "vscode": {
   "interpreter": {
    "hash": "8d024a190013529ebe86211d6cbdc4203a7ee381118bebdb79373c50f7cd9dc5"
   }
  }
 },
 "nbformat": 4,
 "nbformat_minor": 2
}
