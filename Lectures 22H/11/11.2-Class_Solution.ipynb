{
 "cells": [
  {
   "cell_type": "markdown",
   "metadata": {},
   "source": [
    "### Class Task: aggregation on MultiIndex\n",
    "#### Objective:\n",
    "  - Get daily stock prices for markers 'AAPL', 'QQQ', 'BBBY' for Q3 2018\n",
    "  - Select only Closing Price and store each stock into a different variable as a DataFrame [['Close']]\n",
    "  - Join / Merge the three DataFrames based on their Date\n",
    "  - Ensure that the Data of the joined DataFrame is a column\n",
    "  - Extract Year and Month from the Data column\n",
    "  - Create MultiIndex for the DataFrame with Index at level0=Year and level1=Month\n",
    "  - Perform a summary stats method such as mean over axis=0 and level [Year, Month] or [0, 1]"
   ]
  },
  {
   "cell_type": "code",
   "execution_count": 1,
   "metadata": {},
   "outputs": [],
   "source": [
    "#Importing libraries needed for pulls from Google\n",
    "from pandas_datareader import data\n",
    "import pandas as pd\n",
    "import numpy as np\n",
    "import datetime\n",
    "from datetime import date"
   ]
  },
  {
   "cell_type": "code",
   "execution_count": 2,
   "metadata": {},
   "outputs": [],
   "source": [
    "# Objective: to Perform summary aggregation on groups using MultiIndex \n",
    "#Define the instruments to download. NASDAQ index\n",
    "aapl_marker = 'AAPL'\n",
    "qqq_marker = 'QQQ'\n",
    "bbby_marker ='BBBY'\n",
    "\n",
    "# Specify the start and end timestamp\n",
    "start_date = datetime.datetime(2018, 7, 1)\n",
    "end_date = datetime.datetime(2018, 9, 30)"
   ]
  },
  {
   "cell_type": "code",
   "execution_count": 3,
   "metadata": {},
   "outputs": [],
   "source": [
    "# Install pandas_datareader with (pip install pandas_datareader or !pip install pandas_datareader)\n",
    "# Use pandas_reader.data.DataReader to load the desired daily\n",
    "#   data.DataReader(name, data_source, start, end)\n",
    "#    name: the name of the stock. can be a scaler or list. For now we use a scalar marker for each\n",
    "#    data_source= \"google\", \"fred\", \"ff\", \"yahoo\"\n",
    "\n",
    "# get aapl stocks and store it to an instance. Store only the Closing value \n",
    "#  use [['Close']] to store it as a DataFrame rather than using ['Close'] that would retrive and store as Series\n",
    "aapl = data.DataReader(name=aapl_marker, data_source='yahoo', start=start_date, end=end_date)[['Close']]\n",
    "# get qqq stocks and store it to an instance\n",
    "qqq = data.DataReader(name=qqq_marker, data_source='yahoo', start=start_date, end=end_date)[['Close']]\n",
    "# get bbby stocks and store it to an instance\n",
    "bbby = data.DataReader(name=bbby_marker, data_source='yahoo', start=start_date, end=end_date)[['Close']]"
   ]
  },
  {
   "cell_type": "code",
   "execution_count": 4,
   "metadata": {},
   "outputs": [
    {
     "name": "stdout",
     "output_type": "stream",
     "text": [
      "aapl: (63, 1) qqq (63, 1) bbby (63, 1)\n"
     ]
    }
   ],
   "source": [
    "# display the shapes of each DataFrame. Verify that they have the same shape\n",
    "print('aapl:', aapl.shape, 'qqq', qqq.shape, 'bbby', bbby.shape)"
   ]
  },
  {
   "cell_type": "code",
   "execution_count": 5,
   "metadata": {},
   "outputs": [
    {
     "name": "stdout",
     "output_type": "stream",
     "text": [
      "aapl:\n",
      "                 Close\n",
      "Date                 \n",
      "2018-07-02  46.794998\n",
      "2018-07-03  45.980000 qqq:\n",
      "                  Close\n",
      "Date                  \n",
      "2018-07-02  172.800003\n",
      "2018-07-03  170.800003 bbby:\n",
      "                 Close\n",
      "Date                 \n",
      "2018-07-02  19.330000\n",
      "2018-07-03  20.030001\n"
     ]
    }
   ],
   "source": [
    "# Visualize the datasets. Print their head(2)\n",
    "print('aapl:\\n', aapl.head(2), 'qqq:\\n', qqq.head(2), 'bbby:\\n', bbby.head(2))"
   ]
  },
  {
   "cell_type": "code",
   "execution_count": 6,
   "metadata": {},
   "outputs": [],
   "source": [
    "# Join the three instances and store them into variable stocks. Remember suffixes\n",
    "stocks = aapl.join(qqq, lsuffix='_l', rsuffix='_r').join(bbby)\n",
    "# Rename the columns as ['aapl', 'qqq', 'bbby']\n",
    "stocks.columns = ['aapl', 'qqq', 'bbby']"
   ]
  },
  {
   "cell_type": "code",
   "execution_count": 7,
   "metadata": {},
   "outputs": [
    {
     "data": {
      "text/html": [
       "<div>\n",
       "<style scoped>\n",
       "    .dataframe tbody tr th:only-of-type {\n",
       "        vertical-align: middle;\n",
       "    }\n",
       "\n",
       "    .dataframe tbody tr th {\n",
       "        vertical-align: top;\n",
       "    }\n",
       "\n",
       "    .dataframe thead th {\n",
       "        text-align: right;\n",
       "    }\n",
       "</style>\n",
       "<table border=\"1\" class=\"dataframe\">\n",
       "  <thead>\n",
       "    <tr style=\"text-align: right;\">\n",
       "      <th></th>\n",
       "      <th>aapl</th>\n",
       "      <th>qqq</th>\n",
       "      <th>bbby</th>\n",
       "    </tr>\n",
       "    <tr>\n",
       "      <th>Date</th>\n",
       "      <th></th>\n",
       "      <th></th>\n",
       "      <th></th>\n",
       "    </tr>\n",
       "  </thead>\n",
       "  <tbody>\n",
       "    <tr>\n",
       "      <th>2018-07-02</th>\n",
       "      <td>46.794998</td>\n",
       "      <td>172.800003</td>\n",
       "      <td>19.330000</td>\n",
       "    </tr>\n",
       "    <tr>\n",
       "      <th>2018-07-03</th>\n",
       "      <td>45.980000</td>\n",
       "      <td>170.800003</td>\n",
       "      <td>20.030001</td>\n",
       "    </tr>\n",
       "    <tr>\n",
       "      <th>2018-07-05</th>\n",
       "      <td>46.349998</td>\n",
       "      <td>172.919998</td>\n",
       "      <td>20.809999</td>\n",
       "    </tr>\n",
       "    <tr>\n",
       "      <th>2018-07-06</th>\n",
       "      <td>46.992500</td>\n",
       "      <td>175.610001</td>\n",
       "      <td>21.070000</td>\n",
       "    </tr>\n",
       "    <tr>\n",
       "      <th>2018-07-09</th>\n",
       "      <td>47.645000</td>\n",
       "      <td>177.190002</td>\n",
       "      <td>21.230000</td>\n",
       "    </tr>\n",
       "  </tbody>\n",
       "</table>\n",
       "</div>"
      ],
      "text/plain": [
       "                 aapl         qqq       bbby\n",
       "Date                                        \n",
       "2018-07-02  46.794998  172.800003  19.330000\n",
       "2018-07-03  45.980000  170.800003  20.030001\n",
       "2018-07-05  46.349998  172.919998  20.809999\n",
       "2018-07-06  46.992500  175.610001  21.070000\n",
       "2018-07-09  47.645000  177.190002  21.230000"
      ]
     },
     "execution_count": 7,
     "metadata": {},
     "output_type": "execute_result"
    }
   ],
   "source": [
    "# Display the top 5 records and view\n",
    "stocks.head()"
   ]
  },
  {
   "cell_type": "code",
   "execution_count": 8,
   "metadata": {},
   "outputs": [],
   "source": [
    "# reset the stocks indices inplace as we want to later create a MultiIndex [Year, Month]\n",
    "stocks.reset_index(inplace=True)"
   ]
  },
  {
   "cell_type": "code",
   "execution_count": 9,
   "metadata": {},
   "outputs": [
    {
     "data": {
      "text/html": [
       "<div>\n",
       "<style scoped>\n",
       "    .dataframe tbody tr th:only-of-type {\n",
       "        vertical-align: middle;\n",
       "    }\n",
       "\n",
       "    .dataframe tbody tr th {\n",
       "        vertical-align: top;\n",
       "    }\n",
       "\n",
       "    .dataframe thead th {\n",
       "        text-align: right;\n",
       "    }\n",
       "</style>\n",
       "<table border=\"1\" class=\"dataframe\">\n",
       "  <thead>\n",
       "    <tr style=\"text-align: right;\">\n",
       "      <th></th>\n",
       "      <th>Date</th>\n",
       "      <th>aapl</th>\n",
       "      <th>qqq</th>\n",
       "      <th>bbby</th>\n",
       "    </tr>\n",
       "  </thead>\n",
       "  <tbody>\n",
       "    <tr>\n",
       "      <th>0</th>\n",
       "      <td>2018-07-02</td>\n",
       "      <td>46.794998</td>\n",
       "      <td>172.800003</td>\n",
       "      <td>19.330000</td>\n",
       "    </tr>\n",
       "    <tr>\n",
       "      <th>1</th>\n",
       "      <td>2018-07-03</td>\n",
       "      <td>45.980000</td>\n",
       "      <td>170.800003</td>\n",
       "      <td>20.030001</td>\n",
       "    </tr>\n",
       "    <tr>\n",
       "      <th>2</th>\n",
       "      <td>2018-07-05</td>\n",
       "      <td>46.349998</td>\n",
       "      <td>172.919998</td>\n",
       "      <td>20.809999</td>\n",
       "    </tr>\n",
       "    <tr>\n",
       "      <th>3</th>\n",
       "      <td>2018-07-06</td>\n",
       "      <td>46.992500</td>\n",
       "      <td>175.610001</td>\n",
       "      <td>21.070000</td>\n",
       "    </tr>\n",
       "    <tr>\n",
       "      <th>4</th>\n",
       "      <td>2018-07-09</td>\n",
       "      <td>47.645000</td>\n",
       "      <td>177.190002</td>\n",
       "      <td>21.230000</td>\n",
       "    </tr>\n",
       "  </tbody>\n",
       "</table>\n",
       "</div>"
      ],
      "text/plain": [
       "        Date       aapl         qqq       bbby\n",
       "0 2018-07-02  46.794998  172.800003  19.330000\n",
       "1 2018-07-03  45.980000  170.800003  20.030001\n",
       "2 2018-07-05  46.349998  172.919998  20.809999\n",
       "3 2018-07-06  46.992500  175.610001  21.070000\n",
       "4 2018-07-09  47.645000  177.190002  21.230000"
      ]
     },
     "execution_count": 9,
     "metadata": {},
     "output_type": "execute_result"
    }
   ],
   "source": [
    "# Display the top 5 records and view\n",
    "stocks.head()"
   ]
  },
  {
   "cell_type": "code",
   "execution_count": 11,
   "metadata": {},
   "outputs": [],
   "source": [
    "# Get the value for month and year from its current index Date. \n",
    "# Convert it to DateTime by calling the date instance method\n",
    "# Store it to a new DateFrame stocksdt\n",
    "stocksdt = stocks['Date'].map(lambda x: [x.date().year, x.date().month])\n",
    "# Add a new column to stocks with value for only Year (index 0)\n",
    "stocks['Year'] = stocksdt.map(lambda x: x[0])\n",
    "# Add a new column to stocks with value for only Month (index 1)\n",
    "stocks['Month'] = stocksdt.map(lambda x: x[1])"
   ]
  },
  {
   "cell_type": "code",
   "execution_count": 12,
   "metadata": {},
   "outputs": [
    {
     "data": {
      "text/html": [
       "<div>\n",
       "<style scoped>\n",
       "    .dataframe tbody tr th:only-of-type {\n",
       "        vertical-align: middle;\n",
       "    }\n",
       "\n",
       "    .dataframe tbody tr th {\n",
       "        vertical-align: top;\n",
       "    }\n",
       "\n",
       "    .dataframe thead th {\n",
       "        text-align: right;\n",
       "    }\n",
       "</style>\n",
       "<table border=\"1\" class=\"dataframe\">\n",
       "  <thead>\n",
       "    <tr style=\"text-align: right;\">\n",
       "      <th></th>\n",
       "      <th>Date</th>\n",
       "      <th>aapl</th>\n",
       "      <th>qqq</th>\n",
       "      <th>bbby</th>\n",
       "      <th>Year</th>\n",
       "      <th>Month</th>\n",
       "    </tr>\n",
       "  </thead>\n",
       "  <tbody>\n",
       "    <tr>\n",
       "      <th>0</th>\n",
       "      <td>2018-07-02</td>\n",
       "      <td>46.794998</td>\n",
       "      <td>172.800003</td>\n",
       "      <td>19.330000</td>\n",
       "      <td>2018</td>\n",
       "      <td>7</td>\n",
       "    </tr>\n",
       "    <tr>\n",
       "      <th>1</th>\n",
       "      <td>2018-07-03</td>\n",
       "      <td>45.980000</td>\n",
       "      <td>170.800003</td>\n",
       "      <td>20.030001</td>\n",
       "      <td>2018</td>\n",
       "      <td>7</td>\n",
       "    </tr>\n",
       "    <tr>\n",
       "      <th>2</th>\n",
       "      <td>2018-07-05</td>\n",
       "      <td>46.349998</td>\n",
       "      <td>172.919998</td>\n",
       "      <td>20.809999</td>\n",
       "      <td>2018</td>\n",
       "      <td>7</td>\n",
       "    </tr>\n",
       "    <tr>\n",
       "      <th>3</th>\n",
       "      <td>2018-07-06</td>\n",
       "      <td>46.992500</td>\n",
       "      <td>175.610001</td>\n",
       "      <td>21.070000</td>\n",
       "      <td>2018</td>\n",
       "      <td>7</td>\n",
       "    </tr>\n",
       "    <tr>\n",
       "      <th>4</th>\n",
       "      <td>2018-07-09</td>\n",
       "      <td>47.645000</td>\n",
       "      <td>177.190002</td>\n",
       "      <td>21.230000</td>\n",
       "      <td>2018</td>\n",
       "      <td>7</td>\n",
       "    </tr>\n",
       "  </tbody>\n",
       "</table>\n",
       "</div>"
      ],
      "text/plain": [
       "        Date       aapl         qqq       bbby  Year  Month\n",
       "0 2018-07-02  46.794998  172.800003  19.330000  2018      7\n",
       "1 2018-07-03  45.980000  170.800003  20.030001  2018      7\n",
       "2 2018-07-05  46.349998  172.919998  20.809999  2018      7\n",
       "3 2018-07-06  46.992500  175.610001  21.070000  2018      7\n",
       "4 2018-07-09  47.645000  177.190002  21.230000  2018      7"
      ]
     },
     "execution_count": 12,
     "metadata": {},
     "output_type": "execute_result"
    }
   ],
   "source": [
    "# Display the top 5 records and view\n",
    "stocks.head()"
   ]
  },
  {
   "cell_type": "code",
   "execution_count": 13,
   "metadata": {},
   "outputs": [
    {
     "data": {
      "text/html": [
       "<div>\n",
       "<style scoped>\n",
       "    .dataframe tbody tr th:only-of-type {\n",
       "        vertical-align: middle;\n",
       "    }\n",
       "\n",
       "    .dataframe tbody tr th {\n",
       "        vertical-align: top;\n",
       "    }\n",
       "\n",
       "    .dataframe thead th {\n",
       "        text-align: right;\n",
       "    }\n",
       "</style>\n",
       "<table border=\"1\" class=\"dataframe\">\n",
       "  <thead>\n",
       "    <tr style=\"text-align: right;\">\n",
       "      <th></th>\n",
       "      <th>aapl</th>\n",
       "      <th>qqq</th>\n",
       "      <th>bbby</th>\n",
       "      <th>Year</th>\n",
       "      <th>Month</th>\n",
       "    </tr>\n",
       "  </thead>\n",
       "  <tbody>\n",
       "    <tr>\n",
       "      <th>0</th>\n",
       "      <td>46.794998</td>\n",
       "      <td>172.800003</td>\n",
       "      <td>19.330000</td>\n",
       "      <td>2018</td>\n",
       "      <td>7</td>\n",
       "    </tr>\n",
       "    <tr>\n",
       "      <th>1</th>\n",
       "      <td>45.980000</td>\n",
       "      <td>170.800003</td>\n",
       "      <td>20.030001</td>\n",
       "      <td>2018</td>\n",
       "      <td>7</td>\n",
       "    </tr>\n",
       "    <tr>\n",
       "      <th>2</th>\n",
       "      <td>46.349998</td>\n",
       "      <td>172.919998</td>\n",
       "      <td>20.809999</td>\n",
       "      <td>2018</td>\n",
       "      <td>7</td>\n",
       "    </tr>\n",
       "    <tr>\n",
       "      <th>3</th>\n",
       "      <td>46.992500</td>\n",
       "      <td>175.610001</td>\n",
       "      <td>21.070000</td>\n",
       "      <td>2018</td>\n",
       "      <td>7</td>\n",
       "    </tr>\n",
       "    <tr>\n",
       "      <th>4</th>\n",
       "      <td>47.645000</td>\n",
       "      <td>177.190002</td>\n",
       "      <td>21.230000</td>\n",
       "      <td>2018</td>\n",
       "      <td>7</td>\n",
       "    </tr>\n",
       "  </tbody>\n",
       "</table>\n",
       "</div>"
      ],
      "text/plain": [
       "        aapl         qqq       bbby  Year  Month\n",
       "0  46.794998  172.800003  19.330000  2018      7\n",
       "1  45.980000  170.800003  20.030001  2018      7\n",
       "2  46.349998  172.919998  20.809999  2018      7\n",
       "3  46.992500  175.610001  21.070000  2018      7\n",
       "4  47.645000  177.190002  21.230000  2018      7"
      ]
     },
     "execution_count": 13,
     "metadata": {},
     "output_type": "execute_result"
    }
   ],
   "source": [
    "# Drop column Date from stocks. Do it inplace\n",
    "stocks.drop('Date', axis = 1, inplace=True)\n",
    "# show top 5 records of stocks\n",
    "stocks.head()"
   ]
  },
  {
   "cell_type": "code",
   "execution_count": 14,
   "metadata": {},
   "outputs": [],
   "source": [
    "# Use sort_values(['Year', 'Month']) to sort the values in stocks. Do it inplace\n",
    "stocks.sort_values(['Year', 'Month'], inplace=True)\n",
    "\n",
    "# Use instance method set_index to set Year and Month as a MultiIndex for stocks. Do it inplace\n",
    "stocks.set_index(['Year', 'Month'], inplace=True)"
   ]
  },
  {
   "cell_type": "code",
   "execution_count": 15,
   "metadata": {},
   "outputs": [
    {
     "data": {
      "text/html": [
       "<div>\n",
       "<style scoped>\n",
       "    .dataframe tbody tr th:only-of-type {\n",
       "        vertical-align: middle;\n",
       "    }\n",
       "\n",
       "    .dataframe tbody tr th {\n",
       "        vertical-align: top;\n",
       "    }\n",
       "\n",
       "    .dataframe thead th {\n",
       "        text-align: right;\n",
       "    }\n",
       "</style>\n",
       "<table border=\"1\" class=\"dataframe\">\n",
       "  <thead>\n",
       "    <tr style=\"text-align: right;\">\n",
       "      <th></th>\n",
       "      <th></th>\n",
       "      <th>aapl</th>\n",
       "      <th>qqq</th>\n",
       "      <th>bbby</th>\n",
       "    </tr>\n",
       "    <tr>\n",
       "      <th>Year</th>\n",
       "      <th>Month</th>\n",
       "      <th></th>\n",
       "      <th></th>\n",
       "      <th></th>\n",
       "    </tr>\n",
       "  </thead>\n",
       "  <tbody>\n",
       "    <tr>\n",
       "      <th rowspan=\"5\" valign=\"top\">2018</th>\n",
       "      <th>7</th>\n",
       "      <td>46.794998</td>\n",
       "      <td>172.800003</td>\n",
       "      <td>19.330000</td>\n",
       "    </tr>\n",
       "    <tr>\n",
       "      <th>7</th>\n",
       "      <td>45.980000</td>\n",
       "      <td>170.800003</td>\n",
       "      <td>20.030001</td>\n",
       "    </tr>\n",
       "    <tr>\n",
       "      <th>7</th>\n",
       "      <td>46.349998</td>\n",
       "      <td>172.919998</td>\n",
       "      <td>20.809999</td>\n",
       "    </tr>\n",
       "    <tr>\n",
       "      <th>7</th>\n",
       "      <td>46.992500</td>\n",
       "      <td>175.610001</td>\n",
       "      <td>21.070000</td>\n",
       "    </tr>\n",
       "    <tr>\n",
       "      <th>7</th>\n",
       "      <td>47.645000</td>\n",
       "      <td>177.190002</td>\n",
       "      <td>21.230000</td>\n",
       "    </tr>\n",
       "  </tbody>\n",
       "</table>\n",
       "</div>"
      ],
      "text/plain": [
       "                 aapl         qqq       bbby\n",
       "Year Month                                  \n",
       "2018 7      46.794998  172.800003  19.330000\n",
       "     7      45.980000  170.800003  20.030001\n",
       "     7      46.349998  172.919998  20.809999\n",
       "     7      46.992500  175.610001  21.070000\n",
       "     7      47.645000  177.190002  21.230000"
      ]
     },
     "execution_count": 15,
     "metadata": {},
     "output_type": "execute_result"
    }
   ],
   "source": [
    "# show top 5 records of stocks\n",
    "stocks.head()"
   ]
  },
  {
   "cell_type": "code",
   "execution_count": 16,
   "metadata": {},
   "outputs": [
    {
     "name": "stderr",
     "output_type": "stream",
     "text": [
      "/var/folders/b5/qtlwb6j979d58ssnfbkgyckc0000gn/T/ipykernel_23730/3281969739.py:2: FutureWarning: Using the level keyword in DataFrame and Series aggregations is deprecated and will be removed in a future version. Use groupby instead. df.median(level=1) should use df.groupby(level=1).median().\n",
      "  stocks.mean(axis=0, level=['Year','Month'])\n"
     ]
    },
    {
     "data": {
      "text/html": [
       "<div>\n",
       "<style scoped>\n",
       "    .dataframe tbody tr th:only-of-type {\n",
       "        vertical-align: middle;\n",
       "    }\n",
       "\n",
       "    .dataframe tbody tr th {\n",
       "        vertical-align: top;\n",
       "    }\n",
       "\n",
       "    .dataframe thead th {\n",
       "        text-align: right;\n",
       "    }\n",
       "</style>\n",
       "<table border=\"1\" class=\"dataframe\">\n",
       "  <thead>\n",
       "    <tr style=\"text-align: right;\">\n",
       "      <th></th>\n",
       "      <th></th>\n",
       "      <th>aapl</th>\n",
       "      <th>qqq</th>\n",
       "      <th>bbby</th>\n",
       "    </tr>\n",
       "    <tr>\n",
       "      <th>Year</th>\n",
       "      <th>Month</th>\n",
       "      <th></th>\n",
       "      <th></th>\n",
       "      <th></th>\n",
       "    </tr>\n",
       "  </thead>\n",
       "  <tbody>\n",
       "    <tr>\n",
       "      <th rowspan=\"3\" valign=\"top\">2018</th>\n",
       "      <th>7</th>\n",
       "      <td>47.577857</td>\n",
       "      <td>177.687620</td>\n",
       "      <td>19.586667</td>\n",
       "    </tr>\n",
       "    <tr>\n",
       "      <th>8</th>\n",
       "      <td>53.336522</td>\n",
       "      <td>181.650001</td>\n",
       "      <td>18.347391</td>\n",
       "    </tr>\n",
       "    <tr>\n",
       "      <th>9</th>\n",
       "      <td>55.518421</td>\n",
       "      <td>183.546842</td>\n",
       "      <td>18.203684</td>\n",
       "    </tr>\n",
       "  </tbody>\n",
       "</table>\n",
       "</div>"
      ],
      "text/plain": [
       "                 aapl         qqq       bbby\n",
       "Year Month                                  \n",
       "2018 7      47.577857  177.687620  19.586667\n",
       "     8      53.336522  181.650001  18.347391\n",
       "     9      55.518421  183.546842  18.203684"
      ]
     },
     "execution_count": 16,
     "metadata": {},
     "output_type": "execute_result"
    }
   ],
   "source": [
    "# Find the Mean Closing price per (year, month) for each stock. use level=['Year','Month']\n",
    "stocks.mean(axis=0, level=['Year','Month'])"
   ]
  }
 ],
 "metadata": {
  "kernelspec": {
   "display_name": "Python 3.9.7 ('.env': venv)",
   "language": "python",
   "name": "python3"
  },
  "language_info": {
   "codemirror_mode": {
    "name": "ipython",
    "version": 3
   },
   "file_extension": ".py",
   "mimetype": "text/x-python",
   "name": "python",
   "nbconvert_exporter": "python",
   "pygments_lexer": "ipython3",
   "version": "3.9.7"
  },
  "varInspector": {
   "cols": {
    "lenName": 16,
    "lenType": 16,
    "lenVar": 40
   },
   "kernels_config": {
    "python": {
     "delete_cmd_postfix": "",
     "delete_cmd_prefix": "del ",
     "library": "var_list.py",
     "varRefreshCmd": "print(var_dic_list())"
    },
    "r": {
     "delete_cmd_postfix": ") ",
     "delete_cmd_prefix": "rm(",
     "library": "var_list.r",
     "varRefreshCmd": "cat(var_dic_list()) "
    }
   },
   "types_to_exclude": [
    "module",
    "function",
    "builtin_function_or_method",
    "instance",
    "_Feature"
   ],
   "window_display": false
  },
  "vscode": {
   "interpreter": {
    "hash": "8d024a190013529ebe86211d6cbdc4203a7ee381118bebdb79373c50f7cd9dc5"
   }
  }
 },
 "nbformat": 4,
 "nbformat_minor": 2
}
