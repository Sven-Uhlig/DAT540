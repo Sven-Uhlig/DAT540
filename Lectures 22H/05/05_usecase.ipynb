{
 "cells": [
  {
   "cell_type": "markdown",
   "metadata": {},
   "source": [
    "# Use Case\n",
    "#### What is the shape of this array\n",
    "```\n",
    "a:\n",
    "[[[ 0  1  2  3]\n",
    "  [ 4  5  6  7]\n",
    "  [ 8  9 10 11]]\n",
    "\n",
    " [[12 13 14 15]\n",
    "  [16 17 18 19]\n",
    "  [20 21 22 23]]]\n",
    "```\n",
    "#### Calculate the sum over axis=2 and axis=1. What will be their respective shape and dimensions?\n",
    "#### What is the shape of the following array. Is it possible to broadcast to add the following array to the above array? If yes, good, else transform the above array without dropping any indices or axis, so that you can add the following array to it.\n",
    "```\n",
    "array([[ 0,  1,  2],\n",
    "       [ 3,  4,  5],\n",
    "       [ 6,  7,  8],\n",
    "       [ 9, 10, 11]])\n",
    "```"
   ]
  },
  {
   "cell_type": "code",
   "execution_count": 26,
   "metadata": {
    "ExecuteTime": {
     "end_time": "2019-09-05T12:43:44.051149Z",
     "start_time": "2019-09-05T12:43:44.045204Z"
    }
   },
   "outputs": [
    {
     "data": {
      "text/plain": [
       "array([[[ 0,  1,  2,  3],\n",
       "        [ 4,  5,  6,  7],\n",
       "        [ 8,  9, 10, 11]],\n",
       "\n",
       "       [[12, 13, 14, 15],\n",
       "        [16, 17, 18, 19],\n",
       "        [20, 21, 22, 23]]])"
      ]
     },
     "execution_count": 26,
     "metadata": {},
     "output_type": "execute_result"
    }
   ],
   "source": [
    "import numpy as np\n",
    "\n",
    "a = np.arange(24).reshape(2,3,4)\n",
    "a"
   ]
  },
  {
   "cell_type": "code",
   "execution_count": 27,
   "metadata": {
    "ExecuteTime": {
     "end_time": "2019-09-05T12:43:59.061276Z",
     "start_time": "2019-09-05T12:43:59.054523Z"
    }
   },
   "outputs": [
    {
     "data": {
      "text/plain": [
       "array([[[ 0,  4,  8],\n",
       "        [ 1,  5,  9],\n",
       "        [ 2,  6, 10],\n",
       "        [ 3,  7, 11]],\n",
       "\n",
       "       [[12, 16, 20],\n",
       "        [13, 17, 21],\n",
       "        [14, 18, 22],\n",
       "        [15, 19, 23]]])"
      ]
     },
     "execution_count": 27,
     "metadata": {},
     "output_type": "execute_result"
    }
   ],
   "source": [
    "a.transpose((0, 2, 1))"
   ]
  },
  {
   "cell_type": "markdown",
   "metadata": {
    "ExecuteTime": {
     "end_time": "2019-09-05T10:46:20.816110Z",
     "start_time": "2019-09-05T10:46:20.812970Z"
    }
   },
   "source": [
    "#### Sorting a 2-D array rows based in their values in the first column\n",
    "##### Generate an array of shape 5x4 using randint"
   ]
  },
  {
   "cell_type": "code",
   "execution_count": 34,
   "metadata": {
    "ExecuteTime": {
     "end_time": "2019-09-05T13:09:13.459987Z",
     "start_time": "2019-09-05T13:09:13.451575Z"
    }
   },
   "outputs": [
    {
     "data": {
      "text/plain": [
       "array([[19, 85,  9, 98],\n",
       "       [91, 60, 66, 25],\n",
       "       [44, 24, 89, 17],\n",
       "       [32, 66, 24, 56],\n",
       "       [27, 94, 32, 58]])"
      ]
     },
     "execution_count": 34,
     "metadata": {},
     "output_type": "execute_result"
    }
   ],
   "source": [
    "a = np.random.randint(0, 100, 20).reshape(5, 4)\n",
    "a.shape\n",
    "a"
   ]
  },
  {
   "cell_type": "code",
   "execution_count": 42,
   "metadata": {
    "ExecuteTime": {
     "end_time": "2019-09-05T13:10:54.499464Z",
     "start_time": "2019-09-05T13:10:54.493205Z"
    }
   },
   "outputs": [
    {
     "data": {
      "text/plain": [
       "array([0, 4, 3, 2, 1])"
      ]
     },
     "execution_count": 42,
     "metadata": {},
     "output_type": "execute_result"
    }
   ],
   "source": [
    "indexer = a.argsort(axis=0)[:, 0]\n",
    "indexer"
   ]
  },
  {
   "cell_type": "code",
   "execution_count": 43,
   "metadata": {
    "ExecuteTime": {
     "end_time": "2019-09-05T13:11:14.524559Z",
     "start_time": "2019-09-05T13:11:14.517815Z"
    }
   },
   "outputs": [
    {
     "data": {
      "text/plain": [
       "array([[19, 85,  9, 98],\n",
       "       [27, 94, 32, 58],\n",
       "       [32, 66, 24, 56],\n",
       "       [44, 24, 89, 17],\n",
       "       [91, 60, 66, 25]])"
      ]
     },
     "execution_count": 43,
     "metadata": {},
     "output_type": "execute_result"
    }
   ],
   "source": [
    "a[indexer, :]"
   ]
  },
  {
   "cell_type": "markdown",
   "metadata": {
    "ExecuteTime": {
     "end_time": "2019-09-05T10:58:00.616430Z",
     "start_time": "2019-09-05T10:58:00.610834Z"
    }
   },
   "source": [
    "#### Partition a 5x4 array using np.partition over kth=3. What happens"
   ]
  },
  {
   "cell_type": "code",
   "execution_count": 48,
   "metadata": {
    "ExecuteTime": {
     "end_time": "2019-09-05T13:25:40.825616Z",
     "start_time": "2019-09-05T13:25:40.817613Z"
    }
   },
   "outputs": [
    {
     "data": {
      "text/plain": [
       "array([[19, 85,  9, 98],\n",
       "       [91, 60, 66, 25],\n",
       "       [44, 24, 89, 17],\n",
       "       [32, 66, 24, 56],\n",
       "       [27, 94, 32, 58]])"
      ]
     },
     "execution_count": 48,
     "metadata": {},
     "output_type": "execute_result"
    }
   ],
   "source": [
    "a"
   ]
  },
  {
   "cell_type": "code",
   "execution_count": 47,
   "metadata": {
    "ExecuteTime": {
     "end_time": "2019-09-05T13:25:38.196331Z",
     "start_time": "2019-09-05T13:25:38.188031Z"
    }
   },
   "outputs": [
    {
     "data": {
      "text/plain": [
       "array([[ 9, 19, 85, 98],\n",
       "       [25, 60, 66, 91],\n",
       "       [17, 24, 44, 89],\n",
       "       [24, 32, 56, 66],\n",
       "       [32, 27, 58, 94]])"
      ]
     },
     "execution_count": 47,
     "metadata": {},
     "output_type": "execute_result"
    }
   ],
   "source": [
    "np.partition(a, 3)"
   ]
  }
 ],
 "metadata": {
  "kernelspec": {
   "display_name": "Python 3.9.7 ('.env': venv)",
   "language": "python",
   "name": "python3"
  },
  "language_info": {
   "codemirror_mode": {
    "name": "ipython",
    "version": 3
   },
   "file_extension": ".py",
   "mimetype": "text/x-python",
   "name": "python",
   "nbconvert_exporter": "python",
   "pygments_lexer": "ipython3",
   "version": "3.9.7"
  },
  "varInspector": {
   "cols": {
    "lenName": 16,
    "lenType": 16,
    "lenVar": 40
   },
   "kernels_config": {
    "python": {
     "delete_cmd_postfix": "",
     "delete_cmd_prefix": "del ",
     "library": "var_list.py",
     "varRefreshCmd": "print(var_dic_list())"
    },
    "r": {
     "delete_cmd_postfix": ") ",
     "delete_cmd_prefix": "rm(",
     "library": "var_list.r",
     "varRefreshCmd": "cat(var_dic_list()) "
    }
   },
   "types_to_exclude": [
    "module",
    "function",
    "builtin_function_or_method",
    "instance",
    "_Feature"
   ],
   "window_display": false
  },
  "vscode": {
   "interpreter": {
    "hash": "8d024a190013529ebe86211d6cbdc4203a7ee381118bebdb79373c50f7cd9dc5"
   }
  }
 },
 "nbformat": 4,
 "nbformat_minor": 2
}
