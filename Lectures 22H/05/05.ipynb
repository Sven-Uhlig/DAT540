{
 "cells": [
  {
   "cell_type": "markdown",
   "metadata": {
    "slideshow": {
     "slide_type": "slide"
    }
   },
   "source": [
    "# NumPy: Arrays and Vectorized Computations\n",
    "## DAT540 Introduction to Data Science\n",
    "## University of Stavanger\n",
    "### L05\n",
    "#### Antorweep Chakravorty (antorweep.chakravorty@uis.no)"
   ]
  },
  {
   "cell_type": "code",
   "execution_count": 2,
   "metadata": {
    "ExecuteTime": {
     "end_time": "2019-09-05T11:52:47.181154Z",
     "start_time": "2019-09-05T11:52:47.093712Z"
    },
    "slideshow": {
     "slide_type": "skip"
    }
   },
   "outputs": [],
   "source": [
    "# Import required modules\n",
    "import numpy as np\n",
    "np.random.seed(1234)"
   ]
  },
  {
   "cell_type": "markdown",
   "metadata": {
    "slideshow": {
     "slide_type": "slide"
    }
   },
   "source": [
    "- NumPy dype Hierarchy\n",
    "\n",
    "<img src='images/ndtypes.png'>"
   ]
  },
  {
   "cell_type": "markdown",
   "metadata": {
    "slideshow": {
     "slide_type": "slide"
    }
   },
   "source": [
    "## Broadcasting\n",
    "  - describes how arithmetic works between arrays of different shapes\n",
    "\n",
    "<img src='images/broadcastingrule.png'> \n",
    "\n",
    "  - Over axis=0\n",
    "\n",
    "<img src='images/broadcasting1.png' width='350'>\n",
    "\n",
    "  - Over axis=1\n",
    "\n",
    "<img src='images/broadcasting2.png' width='350'>"
   ]
  },
  {
   "cell_type": "code",
   "execution_count": 3,
   "metadata": {
    "ExecuteTime": {
     "end_time": "2019-09-05T11:52:47.200660Z",
     "start_time": "2019-09-05T11:52:47.183489Z"
    },
    "slideshow": {
     "slide_type": "subslide"
    }
   },
   "outputs": [
    {
     "name": "stdout",
     "output_type": "stream",
     "text": [
      "x:\n",
      " [[[ 0  1  2  3]\n",
      "  [ 4  5  6  7]\n",
      "  [ 8  9 10 11]]\n",
      "\n",
      " [[12 13 14 15]\n",
      "  [16 17 18 19]\n",
      "  [20 21 22 23]]]\n",
      "y:\n",
      " [[ 0  1  2  3]\n",
      " [ 4  5  6  7]\n",
      " [ 8  9 10 11]]\n"
     ]
    },
    {
     "data": {
      "text/plain": [
       "array([[[ 0,  0,  0,  0],\n",
       "        [ 0,  0,  0,  0],\n",
       "        [ 0,  0,  0,  0]],\n",
       "\n",
       "       [[12, 12, 12, 12],\n",
       "        [12, 12, 12, 12],\n",
       "        [12, 12, 12, 12]]])"
      ]
     },
     "execution_count": 3,
     "metadata": {},
     "output_type": "execute_result"
    }
   ],
   "source": [
    "# Broadcasting over axis 0 of 3D array\n",
    "x = np.arange(24).reshape(2,3,4)\n",
    "y = np.arange(12).reshape(3,4)\n",
    "print('x:\\n', x)\n",
    "print('y:\\n', y)\n",
    "\n",
    "x - y"
   ]
  },
  {
   "cell_type": "code",
   "execution_count": 6,
   "metadata": {
    "ExecuteTime": {
     "end_time": "2019-09-05T11:52:47.213985Z",
     "start_time": "2019-09-05T11:52:47.206403Z"
    },
    "slideshow": {
     "slide_type": "slide"
    }
   },
   "outputs": [
    {
     "name": "stdout",
     "output_type": "stream",
     "text": [
      "arr:\n",
      " [[0 1]\n",
      " [2 3]]\n",
      "sum (axis=0) over columns: [1 5]\n"
     ]
    }
   ],
   "source": [
    "# If we have this array, and perfrom *sum* over axis 0 to get summation over columns, we get this\n",
    "arr = np.arange(4).reshape(2,2)\n",
    "print('arr:\\n', arr)\n",
    "print('sum (axis=0) over columns:', arr.sum(axis = 1))"
   ]
  },
  {
   "cell_type": "code",
   "execution_count": null,
   "metadata": {
    "ExecuteTime": {
     "end_time": "2019-09-05T11:52:47.228738Z",
     "start_time": "2019-09-05T11:52:47.218002Z"
    },
    "slideshow": {
     "slide_type": "subslide"
    }
   },
   "outputs": [],
   "source": [
    "# Lets look at a vector\n",
    "a = np.arange(4)\n",
    "print('shape of a:', a.shape)\n",
    "print('a:', a)\n",
    "print('sum a over axis 0:', a.sum(axis=0))\n",
    "  \n",
    "# let us convert it into 1x4 matrix\n",
    "b = a.reshape(1,4)\n",
    "print('\\nshape of b: ', b.shape)\n",
    "print('b:', b)\n",
    "print('sum b over axis 0:', b.sum(axis=0))\n",
    "print('sum b over axis 1:', b.sum(axis=1)) "
   ]
  },
  {
   "cell_type": "code",
   "execution_count": null,
   "metadata": {
    "ExecuteTime": {
     "end_time": "2019-09-05T11:52:47.242412Z",
     "start_time": "2019-09-05T11:52:47.231115Z"
    },
    "slideshow": {
     "slide_type": "subslide"
    }
   },
   "outputs": [],
   "source": [
    "# a 2-D array\n",
    "a = np.arange(4).reshape(2,2)\n",
    "print('shape of a:', a.shape)\n",
    "print('a:\\n', a)\n",
    "print('\\nsum a over axis 0:', a.sum(axis=0))\n",
    "print(a[0], '+', a[1], '=', a[0]+a[1]) # How does the operation happen\n",
    "print('\\nsum a over axis 1:', a.sum(axis=1))\n",
    "print(a[:,0], '+', a[:,1], '=', a[:,0]+a[:,1]) # How does the operation happen"
   ]
  },
  {
   "cell_type": "markdown",
   "metadata": {
    "slideshow": {
     "slide_type": "subslide"
    }
   },
   "source": [
    "### Class Exercise \n",
    "#### What is the shape of this array\n",
    "```\n",
    "a:\n",
    "[[[ 0  1  2  3]\n",
    "  [ 4  5  6  7]\n",
    "  [ 8  9 10 11]]\n",
    "\n",
    " [[12 13 14 15]\n",
    "  [16 17 18 19]\n",
    "  [20 21 22 23]]]\n",
    "```\n",
    "#### Calculate the sum over axis=2 and axis=1. What will be their respective shape and dimensions?\n",
    "#### What is the shape of the following array. Is it possible to broadcast and add the following array to the above array? If yes, good, else transform the above array without dropping any indices or axis, so that you can add the following array to it.\n",
    "```\n",
    "array([[ 0,  1,  2],\n",
    "       [ 3,  4,  5],\n",
    "       [ 6,  7,  8],\n",
    "       [ 9, 10, 11]])\n",
    "```"
   ]
  },
  {
   "cell_type": "markdown",
   "metadata": {
    "slideshow": {
     "slide_type": "slide"
    }
   },
   "source": [
    "## Array-Oriented Programming with Arrays\n",
    "  - The practice of replacing explicit loops with array expressions is commonly referred to as vectorization\n",
    "  - NumPy arrays allows many kinds of data processing tasks as concise array expressions, rather than using loops\n",
    "  - Vectorized array operations are one or two (or more) orders of magnitude faster"
   ]
  },
  {
   "cell_type": "code",
   "execution_count": 7,
   "metadata": {
    "ExecuteTime": {
     "end_time": "2019-09-05T11:52:47.257449Z",
     "start_time": "2019-09-05T11:52:47.245893Z"
    },
    "slideshow": {
     "slide_type": "subslide"
    }
   },
   "outputs": [
    {
     "name": "stdout",
     "output_type": "stream",
     "text": [
      "x:\n",
      " [0 1 2 3]\n",
      "y:\n",
      " [4 5 6]\n",
      "shape of result: (12,)\n",
      "3x4 result\n",
      ": [[4.         4.12310563 4.47213595 5.        ]\n",
      " [5.         5.09901951 5.38516481 5.83095189]\n",
      " [6.         6.08276253 6.32455532 6.70820393]]\n"
     ]
    }
   ],
   "source": [
    "# Let's say you have two 1-D arrays and you want to evaluate the expression sqrt(x^2 + y^2) \n",
    "#  for each element pair in the arrays.\n",
    "x = np.arange(4) # 1x4\n",
    "y = np.arange(4, 7, 1) # 1x3\n",
    "print('x:\\n', x)\n",
    "print('y:\\n', y)\n",
    "result = []\n",
    "# Traditionally we can use two for loops\n",
    "for i in y:\n",
    "  for j in x:\n",
    "    result.append(np.sqrt(i ** 2 + j ** 2))\n",
    "result = np.array(result)\n",
    "print('shape of result:', result.shape) #why?\n",
    "# We can transform this to a 3x4 array\n",
    "print('3x4 result\\n:', result.reshape(3,4))"
   ]
  },
  {
   "cell_type": "code",
   "execution_count": 8,
   "metadata": {
    "ExecuteTime": {
     "end_time": "2019-09-05T11:52:47.266204Z",
     "start_time": "2019-09-05T11:52:47.260918Z"
    },
    "slideshow": {
     "slide_type": "subslide"
    }
   },
   "outputs": [],
   "source": [
    "# However, using np.meshgrid we can take two 1D arrays and produce two 2D matrices corresponding to all pairs of (x, y) in the two input arrays\n",
    "xs, ys = np.meshgrid(x, y) # creates two 3x4 arrays"
   ]
  },
  {
   "cell_type": "code",
   "execution_count": 9,
   "metadata": {
    "ExecuteTime": {
     "end_time": "2019-09-05T11:52:47.281864Z",
     "start_time": "2019-09-05T11:52:47.268931Z"
    },
    "slideshow": {
     "slide_type": "fragment"
    }
   },
   "outputs": [
    {
     "name": "stdout",
     "output_type": "stream",
     "text": [
      "xs:\n",
      " [[0 1 2 3]\n",
      " [0 1 2 3]\n",
      " [0 1 2 3]]\n",
      "ys:\n",
      " [[4 4 4 4]\n",
      " [5 5 5 5]\n",
      " [6 6 6 6]]\n"
     ]
    },
    {
     "data": {
      "text/plain": [
       "array([[4.        , 4.12310563, 4.47213595, 5.        ],\n",
       "       [5.        , 5.09901951, 5.38516481, 5.83095189],\n",
       "       [6.        , 6.08276253, 6.32455532, 6.70820393]])"
      ]
     },
     "execution_count": 9,
     "metadata": {},
     "output_type": "execute_result"
    }
   ],
   "source": [
    "print('xs:\\n', xs)\n",
    "print('ys:\\n', ys)\n",
    "# Evaluating a function sqrt(x^² + y^²) across a regular grid of values\n",
    "z = np.sqrt(xs ** 2 + ys ** 2)\n",
    "z"
   ]
  },
  {
   "cell_type": "markdown",
   "metadata": {
    "slideshow": {
     "slide_type": "subslide"
    }
   },
   "source": [
    "- Expressing Conditional Logic as Array Operations\n",
    "- **numpy.where** function is a vectorized version the ternary expression\n",
    "- What is a ternary expression?"
   ]
  },
  {
   "cell_type": "markdown",
   "metadata": {
    "slideshow": {
     "slide_type": "fragment"
    }
   },
   "source": [
    "- *x if condition else y*\n",
    "- If we have two 1-D arrays and we want to choose the maximum element when comparing each element from the two arraysa"
   ]
  },
  {
   "cell_type": "code",
   "execution_count": 10,
   "metadata": {
    "ExecuteTime": {
     "end_time": "2019-09-05T11:52:47.292994Z",
     "start_time": "2019-09-05T11:52:47.286469Z"
    },
    "slideshow": {
     "slide_type": "fragment"
    }
   },
   "outputs": [
    {
     "name": "stdout",
     "output_type": "stream",
     "text": [
      "x: [48 84 39 54 77 25 16 50 24]\n",
      "y: [27 31 44 31 27 59 93 70 81]\n",
      "cond: [ True  True False  True  True False False False False]\n"
     ]
    }
   ],
   "source": [
    "x = np.random.randint(1,100,9)\n",
    "y = np.random.randint(1,100,9)\n",
    "cond = x > y\n",
    "print('x:', x)\n",
    "print('y:', y)\n",
    "print('cond:', cond)"
   ]
  },
  {
   "cell_type": "code",
   "execution_count": 11,
   "metadata": {
    "ExecuteTime": {
     "end_time": "2019-09-05T11:52:47.304913Z",
     "start_time": "2019-09-05T11:52:47.297686Z"
    },
    "slideshow": {
     "slide_type": "subslide"
    }
   },
   "outputs": [
    {
     "data": {
      "text/plain": [
       "[48, 84, 44, 54, 77, 59, 93, 70, 81]"
      ]
     },
     "execution_count": 11,
     "metadata": {},
     "output_type": "execute_result"
    }
   ],
   "source": [
    "# Using traditional python scheme, we will do something like this\n",
    "result = [(x if c else y) for x, y, c in zip(x, y, cond)]\n",
    "result"
   ]
  },
  {
   "cell_type": "code",
   "execution_count": 12,
   "metadata": {
    "ExecuteTime": {
     "end_time": "2019-09-05T11:52:47.314793Z",
     "start_time": "2019-09-05T11:52:47.307523Z"
    },
    "slideshow": {
     "slide_type": "fragment"
    }
   },
   "outputs": [
    {
     "data": {
      "text/plain": [
       "array([48, 84, 44, 54, 77, 59, 93, 70, 81])"
      ]
     },
     "execution_count": 12,
     "metadata": {},
     "output_type": "execute_result"
    }
   ],
   "source": [
    "result = np.where(x > y, x, y)\n",
    "result"
   ]
  },
  {
   "cell_type": "markdown",
   "metadata": {
    "slideshow": {
     "slide_type": "fragment"
    }
   },
   "source": [
    "- The second and third arguments to np.where doesn't need to be array, one or both of them can be scalars\n",
    "- Suppose you had a matrix of randomly generated data and you wanted to replace all positive values with 1 and all negative values with 0. \n",
    "- How do you do this using np.where"
   ]
  },
  {
   "cell_type": "code",
   "execution_count": 13,
   "metadata": {
    "ExecuteTime": {
     "end_time": "2019-09-05T11:52:47.324690Z",
     "start_time": "2019-09-05T11:52:47.317774Z"
    },
    "slideshow": {
     "slide_type": "subslide"
    }
   },
   "outputs": [
    {
     "data": {
      "text/plain": [
       "array([[0, 1, 1, 1],\n",
       "       [0, 1, 0, 1],\n",
       "       [1, 0, 0, 1],\n",
       "       [0, 1, 1, 1]])"
      ]
     },
     "execution_count": 13,
     "metadata": {},
     "output_type": "execute_result"
    }
   ],
   "source": [
    "x = np.random.randn(4,4)\n",
    "np.where(x > 0, 1, 0)"
   ]
  },
  {
   "cell_type": "code",
   "execution_count": null,
   "metadata": {
    "ExecuteTime": {
     "end_time": "2019-09-05T11:52:47.335618Z",
     "start_time": "2019-09-05T11:52:47.328040Z"
    },
    "slideshow": {
     "slide_type": "fragment"
    }
   },
   "outputs": [],
   "source": [
    "# if we want to retain the original value for all positive values and only change negative values to zero, we can do some thing like this\n",
    "np.where(x > 0, x, 0)"
   ]
  },
  {
   "cell_type": "markdown",
   "metadata": {
    "slideshow": {
     "slide_type": "subslide"
    }
   },
   "source": [
    "  - Mathematical and Statistical Methods\n",
    "    - Computes statistics about an entire array or the data along an axis\n",
    "    - Aggregations (reductions) such as *sum*, *mean*, and *std* are called using array instance methods or using the top-level NumPy functions\n",
    "    - Functions like *sum*  and *mean* takes an optional axis argument that computes the statistic over the given axis\n",
    "\n",
    "<img src='images/reductions.png'>"
   ]
  },
  {
   "cell_type": "code",
   "execution_count": null,
   "metadata": {
    "ExecuteTime": {
     "end_time": "2019-09-05T11:52:47.345220Z",
     "start_time": "2019-09-05T11:52:47.338286Z"
    },
    "slideshow": {
     "slide_type": "subslide"
    }
   },
   "outputs": [],
   "source": [
    "x = np.arange(8).reshape(2,2,2)\n",
    "print('x:\\n', x)\n",
    "print('Array Mean:', x.mean()) # using array instance method\n",
    "print('Array Sum:', np.sum(x)) # using top-level NumPy functions\n",
    "print('Array mean over axis=1:\\n', x.mean(axis=1))\n",
    "print('Array sum over axis=0:\\n', np.sum(x, axis=0))"
   ]
  },
  {
   "cell_type": "code",
   "execution_count": 14,
   "metadata": {
    "ExecuteTime": {
     "end_time": "2019-09-05T11:52:47.355369Z",
     "start_time": "2019-09-05T11:52:47.350656Z"
    },
    "slideshow": {
     "slide_type": "fragment"
    }
   },
   "outputs": [
    {
     "name": "stdout",
     "output_type": "stream",
     "text": [
      "Array cumsum:\n",
      " [ 0  1  3  6 10 15 21 28]\n"
     ]
    }
   ],
   "source": [
    "x = np.arange(8)\n",
    "print('Array cumsum:\\n', np.cumsum(x, axis=0)) # Whats happening here\n"
   ]
  },
  {
   "cell_type": "markdown",
   "metadata": {
    "slideshow": {
     "slide_type": "subslide"
    }
   },
   "source": [
    "  - Methods for Boolean Arrays\n",
    "    - Boolean values are coerced to 1 (True) and 0 (False)\n",
    "    - Thus, *sum* can be used as a means of counting True values in a boolean array"
   ]
  },
  {
   "cell_type": "code",
   "execution_count": null,
   "metadata": {
    "ExecuteTime": {
     "end_time": "2019-09-05T11:52:47.364326Z",
     "start_time": "2019-09-05T11:52:47.358811Z"
    },
    "slideshow": {
     "slide_type": "fragment"
    }
   },
   "outputs": [],
   "source": [
    "x = (np.random.randn(8) > 0)\n",
    "print('x:\\n',x)\n",
    "print('x.sum():', x.sum())\n",
    "print('x.any(): ', x.any()) # Checks whether one or more values in an array is True\n",
    "print('x.all(): ', x.all()) # Checks whether every values in an array is True"
   ]
  },
  {
   "cell_type": "markdown",
   "metadata": {
    "slideshow": {
     "slide_type": "subslide"
    }
   },
   "source": [
    " #### **Sorting**\n",
    "- NumPy arrays can be sorted *in-place* with the sort **instance** method of the array\n",
    "- Using the top-level **np.sort** method on an array would return a *copy*\n",
    "- Multidimensional arrays can also be sorted along a axis"
   ]
  },
  {
   "cell_type": "code",
   "execution_count": null,
   "metadata": {
    "ExecuteTime": {
     "end_time": "2019-09-05T11:52:47.374041Z",
     "start_time": "2019-09-05T11:52:47.368400Z"
    },
    "slideshow": {
     "slide_type": "subslide"
    }
   },
   "outputs": [],
   "source": [
    "x = np.random.randn(8)\n",
    "print('x:\\n', x)\n",
    "# Using the instance method. in-place sorting\n",
    "x.sort()\n",
    "print('x (sorted):\\n', x)"
   ]
  },
  {
   "cell_type": "code",
   "execution_count": null,
   "metadata": {
    "ExecuteTime": {
     "end_time": "2019-09-05T11:52:47.383557Z",
     "start_time": "2019-09-05T11:52:47.376715Z"
    },
    "slideshow": {
     "slide_type": "fragment"
    }
   },
   "outputs": [],
   "source": [
    "# Using the top-level np.sort method. sorted copy is returned\n",
    "np.random.shuffle(x) # in place shuffling\n",
    "x_out = np.sort(x)\n",
    "print('x_out:\\n', x_out)\n",
    "print('x:\\n', x)\n",
    "print('\\ny:\\n', y)"
   ]
  },
  {
   "cell_type": "code",
   "execution_count": null,
   "metadata": {
    "ExecuteTime": {
     "end_time": "2019-09-05T11:52:47.392008Z",
     "start_time": "2019-09-05T11:52:47.386119Z"
    },
    "slideshow": {
     "slide_type": "subslide"
    }
   },
   "outputs": [],
   "source": [
    "y = np.random.randint(0, 10, 8).reshape(2,4)\n",
    "y.sort(axis=0)\n",
    "print('y.sort(0):\\n', y)\n",
    "y.sort(axis=1)\n",
    "print('y.sort(1):\\n', y)"
   ]
  },
  {
   "cell_type": "markdown",
   "metadata": {
    "slideshow": {
     "slide_type": "subslide"
    }
   },
   "source": [
    "- Indirect Sorts: argsort and lexsort\n",
    "- Certain cases requires reordering of datasets by one or more keys. In addition to using the *key* argument in the sort method describing a method for secondary sorting, we can also use the *argsort* array instance method or the top-level *np.lexsort* method\n",
    "  - an axis can be provided to either of the methods to sort over a given axis\n",
    "  - *argsort* returns the integer indices of a array after sorting it\n",
    "  - *lexsort* performs indirect lexicopraphical sort on multiple key arrays\n",
    "  - in any of the sorting methods, the attribute *kind* can be used to specify the sorting algorithm: 'quick', 'mergesort', or 'heapsort' (default:'kind=quicksort')"
   ]
  },
  {
   "cell_type": "code",
   "execution_count": 17,
   "metadata": {
    "ExecuteTime": {
     "end_time": "2019-09-05T11:52:47.400331Z",
     "start_time": "2019-09-05T11:52:47.394486Z"
    },
    "slideshow": {
     "slide_type": "subslide"
    }
   },
   "outputs": [
    {
     "name": "stdout",
     "output_type": "stream",
     "text": [
      "indexer: [1 2 4 3 0]\n",
      "unsorted values using argsort: [5000    0 1000 3000 2000]\n",
      "sorted values using argsort: [   0 1000 2000 3000 5000]\n"
     ]
    }
   ],
   "source": [
    "# argsort\n",
    "values = np.array([5, 0, 1, 3, 2]) * 1000\n",
    "indexer = values.argsort()\n",
    "print('indexer:', indexer)\n",
    "print('unsorted values using argsort:', values)\n",
    "print('sorted values using argsort:', values[indexer])\n"
   ]
  },
  {
   "cell_type": "code",
   "execution_count": null,
   "metadata": {
    "ExecuteTime": {
     "end_time": "2019-09-05T11:52:47.411518Z",
     "start_time": "2019-09-05T11:52:47.403497Z"
    },
    "slideshow": {
     "slide_type": "subslide"
    }
   },
   "outputs": [],
   "source": [
    "# lexsort: performing on data identified by first and last names\n",
    "f_name = np.array(['Bob', 'Jane', 'Steve', 'Bill', 'Barbara'])\n",
    "l_name = np.array(['Jones', 'Arnold', 'Arnold', 'Jones', 'Waters'])\n",
    "sorter = np.lexsort((f_name, l_name))\n",
    "print('sorter:', sorter)\n",
    "df = zip(l_name[sorter], f_name[sorter])\n",
    "print('Sorted Data:\\n', list(df))"
   ]
  },
  {
   "cell_type": "markdown",
   "metadata": {
    "slideshow": {
     "slide_type": "fragment"
    }
   },
   "source": [
    "#### Class Exercise: Sorting a 2-D array rows based on their values in the first column\n",
    "##### Generate an array of shape 5x4 using randint"
   ]
  },
  {
   "cell_type": "markdown",
   "metadata": {
    "slideshow": {
     "slide_type": "fragment"
    }
   },
   "source": [
    "- Partially Sorting Arrays could be a way to determine the largest or smallest elements in an array\n",
    "- *np.partition* and np.argpartition\" partitions an array around the k-th smallest element\n",
    "- np.partition(arr, 3) would result in array with smallest three values in no purticular order as the first 3 elements of the array\n",
    "-np.argpartition, is similar to argsort and returns the indices that rearranges the data in the equivalent order"
   ]
  },
  {
   "cell_type": "markdown",
   "metadata": {
    "slideshow": {
     "slide_type": "fragment"
    }
   },
   "source": [
    "#### Partition a 5x4 array using np.partition over kth=3. What happens"
   ]
  },
  {
   "cell_type": "markdown",
   "metadata": {
    "slideshow": {
     "slide_type": "subslide"
    }
   },
   "source": [
    "    - **np.searchsorted** finds elements in a sorted array\n",
    "    - performs a binary search on a sorted array identifying the location in the array where a value could be inserted to keep the array sorted\n",
    "    - An array of values can also be passed, to get an array of indices back\n",
    "    - search is performed from left to right and returns the index of the first value it finds\n",
    "    - argument *side='right'* returns the last index of the value it finds"
   ]
  },
  {
   "cell_type": "code",
   "execution_count": 29,
   "metadata": {
    "ExecuteTime": {
     "end_time": "2019-09-05T11:52:47.421686Z",
     "start_time": "2019-09-05T11:52:47.414567Z"
    },
    "slideshow": {
     "slide_type": "fragment"
    }
   },
   "outputs": [
    {
     "name": "stdout",
     "output_type": "stream",
     "text": [
      "insert 0: 0\n",
      "insert 1: 1\n",
      "insert 1: 2\n",
      "insert 100: 5\n"
     ]
    }
   ],
   "source": [
    "arr = np.array([0, 1, 7, 12, 15])\n",
    "print('insert 0:', np.searchsorted(arr, 0))\n",
    "print('insert 1:', np.searchsorted(arr, 1))\n",
    "print('insert 1:', np.searchsorted(arr, 1, side='right'))\n",
    "print('insert 100:', np.searchsorted(arr, 100))"
   ]
  },
  {
   "cell_type": "markdown",
   "metadata": {
    "slideshow": {
     "slide_type": "subslide"
    }
   },
   "source": [
    "### **Set Logic**\n",
    "- NumPy has basic set operations for 1-D arrays\n",
    "- *np.unique* returns the sorted sorted unique values in an array (copy)\n",
    "- *np.in1d* returns a boolean array, indicating the membership of one array elements in another \n",
    "\n",
    "<img src='images/array_setops.png'>"
   ]
  },
  {
   "cell_type": "code",
   "execution_count": 20,
   "metadata": {
    "ExecuteTime": {
     "end_time": "2019-09-05T11:52:47.433618Z",
     "start_time": "2019-09-05T11:52:47.424499Z"
    },
    "slideshow": {
     "slide_type": "fragment"
    }
   },
   "outputs": [
    {
     "name": "stdout",
     "output_type": "stream",
     "text": [
      "x: [10  9 11 10  8  8 10 10  8  7  9  8]\n",
      "y: [13 11  8]\n",
      "unique: [ 7  8  9 10 11]\n",
      "nd.in1d: [False  True  True]\n"
     ]
    }
   ],
   "source": [
    "x = np.random.randint(6, 12,size=12)\n",
    "y = np.random.randint(4, 14,size=3)\n",
    "print('x:', x)\n",
    "print('y:', y)\n",
    "print('unique:', np.unique(x))\n",
    "print('nd.in1d:', np.in1d(y, x))"
   ]
  },
  {
   "cell_type": "markdown",
   "metadata": {
    "slideshow": {
     "slide_type": "subslide"
    }
   },
   "source": [
    "### **Array Manipulation**\n",
    "- Reshaping converts an array from one shape to another without *copying*, if the underlying values are contiguous\n",
    "- tuple is provided to reshape that indicates the new shape\n",
    "- One of the passed shape dimensions can be *-1*, in which case the value would be inferred\n",
    "- NumPy arrays are stored in *row major order* (C-order), meaning items in each row of the array are stored in adjacent memory locations.\n",
    "- Arrays can be also stored in *column major order* (F-order/Fortran), by specifying the *order=F* when creating or reshaping the array\n",
    "\n",
    "    <img src='images/ndarray_order.png' width='300'>"
   ]
  },
  {
   "cell_type": "markdown",
   "metadata": {
    "slideshow": {
     "slide_type": "subslide"
    }
   },
   "source": [
    "- The opposite of reshape is *flattening* or *raveling*, that transforms a n-D array into 1-D\n",
    "- The array instance method *ravel* can be used to flatten an array. Like reshape, ravel doesnot produce a copy of the array if the underlying values are continuous. If we want to instead always create a copy, we would use the array instance method **flatten**\n",
    "\n",
    "\n",
    "```python\n",
    "arr = np.arange(10) # a vector\n",
    "arr1 = arr.reshape(2, -1) # infers -1 as '5'.\n",
    "```"
   ]
  },
  {
   "cell_type": "code",
   "execution_count": null,
   "metadata": {
    "ExecuteTime": {
     "end_time": "2019-09-05T11:52:47.448989Z",
     "start_time": "2019-09-05T11:52:47.438570Z"
    },
    "slideshow": {
     "slide_type": "fragment"
    }
   },
   "outputs": [],
   "source": [
    "x = np.arange(10).reshape(2,5)\n",
    "x[:,2:4] = -1\n",
    "\n",
    "print('x:', x) # x reflects the changes from 'y' as reshape of 'y' into z, makes a copy as the order was changed\n",
    "a = x.ravel(order='C') # make a view\n",
    "a[0:2] = -9\n",
    "print('x, after a was changed:', x)\n",
    "\n",
    "b = y.ravel(order='F') # makes a copy\n",
    "b[:] = 0\n",
    "print('x, after b was changed:', x)"
   ]
  },
  {
   "cell_type": "markdown",
   "metadata": {
    "slideshow": {
     "slide_type": "subslide"
    }
   },
   "source": [
    "### Concatenating and Splitting Arrays\n",
    "  - *np.concatenate* takes a sequence and joins them together in order along the input axis      \n",
    "  - *np.split* slices an array into multiple arrays along an axis\n",
    "\n",
    "<img src='images/array_splits.png' width=350>"
   ]
  },
  {
   "cell_type": "code",
   "execution_count": null,
   "metadata": {
    "ExecuteTime": {
     "end_time": "2019-09-05T11:52:47.464157Z",
     "start_time": "2019-09-05T11:52:47.452803Z"
    },
    "slideshow": {
     "slide_type": "subslide"
    }
   },
   "outputs": [],
   "source": [
    "arr1 = np.arange(1, 7, step=1).reshape(2,3)\n",
    "arr2 = np.arange(7, 13, step=1).reshape(2,3)\n",
    "print('np.concatenate on axis=0:\\n', np.concatenate([arr1, arr2], axis=0))\n",
    "print('\\nnp.concatenate on axis=1:\\n', np.concatenate([arr1, arr2], axis=1))      "
   ]
  },
  {
   "cell_type": "code",
   "execution_count": 33,
   "metadata": {
    "ExecuteTime": {
     "end_time": "2019-09-05T11:52:47.478937Z",
     "start_time": "2019-09-05T11:52:47.469947Z"
    },
    "slideshow": {
     "slide_type": "subslide"
    }
   },
   "outputs": [
    {
     "name": "stdout",
     "output_type": "stream",
     "text": [
      "arr:\n",
      " [[ 0  1  2  3  4  5]\n",
      " [ 6  7  8  9 10 11]\n",
      " [12 13 14 15 16 17]\n",
      " [18 19 20 21 22 23]\n",
      " [24 25 26 27 28 29]]\n",
      "arr1:\n",
      " [[0 1 2 3 4 5]]\n",
      "arr1:\n",
      " [[ 6  7  8  9 10 11]\n",
      " [12 13 14 15 16 17]]\n",
      "arr1:\n",
      " [[18 19 20 21 22 23]\n",
      " [24 25 26 27 28 29]]\n"
     ]
    }
   ],
   "source": [
    "#Splitting Arrays\n",
    "arr = np.arange(30).reshape(5,6)\n",
    "print('arr:\\n', arr)\n",
    "arr1, arr2, arr3 = np.split(arr, [1,3], axis=0)\n",
    "print('arr1:\\n', arr1) # arr[:, 0:2]\n",
    "print('arr1:\\n', arr2) # arr[:, 2:3]\n",
    "print('arr1:\\n', arr3) # arr[:, 3:]"
   ]
  },
  {
   "cell_type": "markdown",
   "metadata": {
    "slideshow": {
     "slide_type": "subslide"
    }
   },
   "source": [
    "- Repeating Elements: tile and repeat\n",
    "- *repeat* and *tile* array instance and top-level np methods respectivlely that allows repetition​ or replication of arrays to produce larger arrays \n",
    "- *repeat* replicates each element in an array to a specified number of times\n",
    "  - an integer passed to the repeat method repeats each element that number of times\n",
    "  - multidimensional arrays can have their elements repeated along a axis. If no axis is passed, array is flattened first\n",
    "  - Similarly an array of integer can be also passed to when repeating a multidimensional array to repeat a given slice a different number of times\n",
    "- np.tile allows stacking copies of an array along an axis\n",
    "  - The second argument of the tile method, decribes the number of tiles. A scalar value perfroms tiling row by row. A tuple as the second argument would indicate the layout of the tiling"
   ]
  },
  {
   "cell_type": "code",
   "execution_count": 26,
   "metadata": {
    "ExecuteTime": {
     "end_time": "2019-09-05T11:52:47.507678Z",
     "start_time": "2019-09-05T11:52:47.483028Z"
    },
    "slideshow": {
     "slide_type": "subslide"
    }
   },
   "outputs": [
    {
     "name": "stdout",
     "output_type": "stream",
     "text": [
      "arr: [0 1 2 3]\n",
      "1d repeat(3): [0 0 0 1 1 1 2 2 2 3 3 3]\n",
      "arr:\n",
      " [[0 1]\n",
      " [2 3]]\n",
      "2d repeat(3):\n",
      " [0 0 0 1 1 1 2 2 2 3 3 3]\n",
      "2d repeat(3, axis=0):\n",
      " [[0 1]\n",
      " [0 1]\n",
      " [0 1]\n",
      " [2 3]\n",
      " [2 3]\n",
      " [2 3]]\n",
      "2d repeat(3, axis=1):\n",
      " [[0 0 0 1 1 1]\n",
      " [2 2 2 3 3 3]]\n",
      "2d repeat([1,3], axis=1):\n",
      " [[0 1 1 1]\n",
      " [2 3 3 3]]\n"
     ]
    }
   ],
   "source": [
    "arr = np.arange(4)\n",
    "print('arr:', arr)\n",
    "print('1d repeat(3):', arr.repeat(3))\n",
    "arr = arr.reshape(2,2)\n",
    "print('arr:\\n', arr)\n",
    "print('2d repeat(3):\\n', arr.repeat(3)) # will flatten the array and then repeat each element\n",
    "print('2d repeat(3, axis=0):\\n', arr.repeat(3, axis=0)) # repeats over rows\n",
    "print('2d repeat(3, axis=1):\\n', arr.repeat(3, axis=1)) # repeats over cols\n",
    "print('2d repeat([1,3], axis=1):\\n', arr.repeat([1,3], axis=1))"
   ]
  },
  {
   "cell_type": "code",
   "execution_count": 34,
   "metadata": {
    "ExecuteTime": {
     "end_time": "2019-09-05T11:52:47.519090Z",
     "start_time": "2019-09-05T11:52:47.511476Z"
    },
    "slideshow": {
     "slide_type": "subslide"
    }
   },
   "outputs": [
    {
     "name": "stdout",
     "output_type": "stream",
     "text": [
      "arr:\n",
      " [[0 1]\n",
      " [2 3]]\n",
      "2d tile(2):\n",
      " [[0 1 0 1]\n",
      " [2 3 2 3]]\n",
      "2d tile(2,1):\n",
      " [[0 1]\n",
      " [2 3]\n",
      " [0 1]\n",
      " [2 3]]\n",
      "2d tile(3,2):\n",
      " [[0 1 0 1]\n",
      " [2 3 2 3]\n",
      " [0 1 0 1]\n",
      " [2 3 2 3]\n",
      " [0 1 0 1]\n",
      " [2 3 2 3]]\n"
     ]
    }
   ],
   "source": [
    "arr = np.arange(4).reshape(2,2)\n",
    "print('arr:\\n', arr)\n",
    "print('2d tile(2):\\n', np.tile(arr, 2))\n",
    "print('2d tile(2,1):\\n', np.tile(arr, (2,1)))\n",
    "print('2d tile(3,2):\\n', np.tile(arr, (3,2)))"
   ]
  },
  {
   "cell_type": "markdown",
   "metadata": {
    "slideshow": {
     "slide_type": "subslide"
    }
   },
   "source": [
    "- Fancy Indexing Equivalents: **take** and **put**\n",
    "- *take* and *put* are array instance methods that are useful in special cases of only making a selection on a single axis\n",
    "- *take* retrives values of an array from a list on indices on a particular axis. If no axis is provided, it retrieves the values from the flattened representation of the array\n",
    "- *put* updates the values specified with a list of indices in an array. It performs its operations in-place. It takes no axis, rather sets the values on the flattened C-representation of the array"
   ]
  },
  {
   "cell_type": "code",
   "execution_count": 35,
   "metadata": {
    "ExecuteTime": {
     "end_time": "2019-09-05T11:52:47.530005Z",
     "start_time": "2019-09-05T11:52:47.522028Z"
    },
    "slideshow": {
     "slide_type": "fragment"
    }
   },
   "outputs": [
    {
     "name": "stdout",
     "output_type": "stream",
     "text": [
      "arr:\n",
      " [[  0 100 200 300 400]\n",
      " [500 600 700 800 900]]\n",
      "arr.take([inds]):\n",
      " [[700 100 700 600]]\n",
      "arr:\n",
      " [[  0  42 200 300 400]\n",
      " [500  42  42 800 900]]\n",
      "arr.take([], axis=1):\n",
      " [[200  42 400]\n",
      " [ 42  42 900]]\n"
     ]
    }
   ],
   "source": [
    "arr = np.arange(10).reshape(2,5) * 100\n",
    "print('arr:\\n', arr)\n",
    "inds = [7, 1, 7, 6]\n",
    "print('arr.take([inds]):\\n', arr.take([inds]))\n",
    "arr.put(inds, 42)\n",
    "print('arr:\\n', arr)\n",
    "print('arr.take([], axis=1):\\n', arr.take([2,1,4], axis=1))\n"
   ]
  },
  {
   "cell_type": "markdown",
   "metadata": {
    "slideshow": {
     "slide_type": "slide"
    }
   },
   "source": [
    "### File Input and Output with Arrays\n",
    "  - NumPy is able to save and load data to and from disk either in text or binary format\n",
    "  - *np.save* and *np.load* are two workhorse functions for efficiently saving and loading data on disk\n",
    "  - Arrays are saved by default in an uncompressed raw binary format with file extension *.npy*\n",
    "  - Multiple arrays can be stored in an uncompressed archive *.npz* file using *np.savez* method and passing the arrays as arguments\n",
    "  - *np.savez_compressed* method can be used to store the arrays with compression\n",
    "  - *npz* files are loaded as a dict-like object that loads indivisual arrays lazily"
   ]
  },
  {
   "cell_type": "code",
   "execution_count": null,
   "metadata": {
    "ExecuteTime": {
     "end_time": "2019-09-05T11:52:47.921701Z",
     "start_time": "2019-09-05T11:52:47.534218Z"
    },
    "slideshow": {
     "slide_type": "subslide"
    }
   },
   "outputs": [],
   "source": [
    "x = np.arange(100)\n",
    "y = np.arange(100, 1000)\n",
    "# the ndarray x will be stored into a file call data.npy\n",
    "np.save('./data/data', x)\n",
    "# the ndarrays x and y will be stored into a archive file (with compression) called data.npz\n",
    "np.savez_compressed('./data/data', x, y)\n",
    "# lets list our local file system\n",
    "!ls -l"
   ]
  },
  {
   "cell_type": "code",
   "execution_count": null,
   "metadata": {
    "ExecuteTime": {
     "end_time": "2019-09-05T11:52:47.946426Z",
     "start_time": "2019-09-05T11:52:47.925054Z"
    },
    "slideshow": {
     "slide_type": "fragment"
    }
   },
   "outputs": [],
   "source": [
    "a = np.load('./data/data.npy') # Loading data.npy into variable a\n",
    "b = np.load('./data/data.npz') # Loading data.npz into variable a\n",
    "print('a:', a[:10])\n",
    "print('b:\\n', b['arr_0'][:10]) # Lazily loading 1st array"
   ]
  },
  {
   "cell_type": "markdown",
   "metadata": {
    "slideshow": {
     "slide_type": "subslide"
    }
   },
   "source": [
    "  - Memory-Mapped Files is a mechanism to interact with binary data on disk as though it was stored in an in-memory array\n",
    "  - the NumPy **memmap** object enables small segments of a file to be read and written without reading the whole array into memory\n",
    "  - *memmap* uses the same methods as in-memory arrays and thus can be substituted into many algorithms where an ndarray would be expected\n",
    "  - Data in memmap is buffered in memory, but it can be written to disk by calling *flush*\n",
    "  - Whenever a memmap falls out of scope and is garbage collected, any changes will be flushed to disk.Alternatively, *del* memmap_variable can be used to retire an existing memmap\n",
    "  - When opening an existing memmap, its *dtype* and *shape* needs to be specified as the file is only a block of binary data\n",
    "  \n",
    "  ```python\n",
    "mmap = np.memmap('filename' dtype='float64', mode='w+', shape=(10000, 10000))\n",
    "# Slicing a memmap returns a view on data on disk:\n",
    "section = mmap[:5]\n",
    "```"
   ]
  },
  {
   "cell_type": "markdown",
   "metadata": {
    "slideshow": {
     "slide_type": "slide"
    }
   },
   "source": [
    "- **Linear Algebra**\n",
    "  - Multiplying two 2-D arrays with *** results in an element-wise product instead of a matrix dot product\n",
    "  - Instead the *dot* array instance method or top-level *np.dot* method allows matrix multiplication\n",
    "  - Alternatively, **@** symbol can also be used to perfrom dot product\n",
    "  - *np.linalg* has a standard set of matrix decompositions methods\n",
    "\n",
    " <img src='images/linalg.png' width='350'>"
   ]
  },
  {
   "cell_type": "code",
   "execution_count": null,
   "metadata": {
    "ExecuteTime": {
     "end_time": "2019-09-05T11:52:47.957088Z",
     "start_time": "2019-09-05T11:52:47.949412Z"
    },
    "slideshow": {
     "slide_type": "fragment"
    }
   },
   "outputs": [],
   "source": [
    "x = np.random.randint(0, 100, 4).reshape(2,2)\n",
    "y = np.random.randint(0, 100, 6).reshape(2, 3)\n",
    "print('x.dot(y):\\n', x.dot(y))\n",
    "print('x @ y:\\n', x @ y)\n"
   ]
  },
  {
   "cell_type": "markdown",
   "metadata": {
    "slideshow": {
     "slide_type": "slide"
    }
   },
   "source": [
    "- Structured and Record Arrays\n",
    "- ndarrays is a *homogeneous* data container\n",
    "- However, there is a concept of *structured* array that allows representation of hetrogeneous or tablular like data\n",
    "- A structured ndarray can be created, by providing a list of tuples with (*field_name*, *field_data_type*) for each datatypes that are represented in the array.\n",
    "- Furthermore, nested dtypes and multidimentional fields could also be created by additionally passing a shape (as an int or tuple) while creating the custom dtype"
   ]
  },
  {
   "cell_type": "code",
   "execution_count": 39,
   "metadata": {
    "ExecuteTime": {
     "end_time": "2019-09-05T11:52:47.970362Z",
     "start_time": "2019-09-05T11:52:47.960557Z"
    },
    "slideshow": {
     "slide_type": "fragment"
    }
   },
   "outputs": [
    {
     "name": "stdout",
     "output_type": "stream",
     "text": [
      "shape (2,)\n"
     ]
    },
    {
     "data": {
      "text/plain": [
       "array([('abc', 29, 170.6), ('xyz', 45, 178. )],\n",
       "      dtype=[('name', '<U25'), ('age', '<i4'), ('height', '<f8')])"
      ]
     },
     "execution_count": 39,
     "metadata": {},
     "output_type": "execute_result"
    }
   ],
   "source": [
    "c_dtype = [('name', np.dtype('U25')), ('age', np.int32), ('height', np.float64)]\n",
    "df = np.array([('abc', 29, 170.6), ('xyz', 45, 178.0)], dtype=c_dtype)\n",
    "print('shape', df.shape)\n",
    "df"
   ]
  }
 ],
 "metadata": {
  "celltoolbar": "Slideshow",
  "kernelspec": {
   "display_name": "Python 3.9.7 ('.env': venv)",
   "language": "python",
   "name": "python3"
  },
  "language_info": {
   "codemirror_mode": {
    "name": "ipython",
    "version": 3
   },
   "file_extension": ".py",
   "mimetype": "text/x-python",
   "name": "python",
   "nbconvert_exporter": "python",
   "pygments_lexer": "ipython3",
   "version": "3.9.7"
  },
  "varInspector": {
   "cols": {
    "lenName": 16,
    "lenType": 16,
    "lenVar": 40
   },
   "kernels_config": {
    "python": {
     "delete_cmd_postfix": "",
     "delete_cmd_prefix": "del ",
     "library": "var_list.py",
     "varRefreshCmd": "print(var_dic_list())"
    },
    "r": {
     "delete_cmd_postfix": ") ",
     "delete_cmd_prefix": "rm(",
     "library": "var_list.r",
     "varRefreshCmd": "cat(var_dic_list()) "
    }
   },
   "types_to_exclude": [
    "module",
    "function",
    "builtin_function_or_method",
    "instance",
    "_Feature"
   ],
   "window_display": false
  },
  "vscode": {
   "interpreter": {
    "hash": "8d024a190013529ebe86211d6cbdc4203a7ee381118bebdb79373c50f7cd9dc5"
   }
  }
 },
 "nbformat": 4,
 "nbformat_minor": 2
}
