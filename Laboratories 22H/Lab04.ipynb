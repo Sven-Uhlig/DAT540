{
 "cells": [
  {
   "cell_type": "markdown",
   "metadata": {},
   "source": [
    "## Lab 04 - Exploring Advanced Numpy Functions on Multidimensional Array"
   ]
  },
  {
   "cell_type": "code",
   "execution_count": 14,
   "metadata": {},
   "outputs": [],
   "source": [
    "import numpy as np"
   ]
  },
  {
   "cell_type": "markdown",
   "metadata": {},
   "source": [
    "### Question 01 - 07 is about Sorting, Data Types and Broadcasting"
   ]
  },
  {
   "cell_type": "markdown",
   "metadata": {},
   "source": [
    "##### NumPy Sorting: https://numpy.org/doc/stable/reference/generated/numpy.sort.html"
   ]
  },
  {
   "cell_type": "markdown",
   "metadata": {},
   "source": [
    "**01.** Print the sorted array of indices of the numpy array [5, -8, 0, 3, 44, 52, 6]. <br> (Hint: There is a function in Numpy to sort the indices in a ndarray.)"
   ]
  },
  {
   "cell_type": "code",
   "execution_count": 15,
   "metadata": {},
   "outputs": [],
   "source": [
    "# Solution"
   ]
  },
  {
   "cell_type": "markdown",
   "metadata": {},
   "source": [
    "**02.** Print the 3 smallest elements of the numpy array [5, -8, 0, 3, 44, 52, 6] <br> (Hint: think about using the function you found in the previous problem. Or, you can always slice an sorted array)"
   ]
  },
  {
   "cell_type": "code",
   "execution_count": 16,
   "metadata": {},
   "outputs": [],
   "source": [
    "# Solution"
   ]
  },
  {
   "cell_type": "markdown",
   "metadata": {},
   "source": [
    "**03.** Sort the array a  by the column 1 and print the sorted array. <br>  \n",
    "    a = [[1, 5, 0],\n",
    "         [3, 2, 5],\n",
    "         [8, 7, 6]]"
   ]
  },
  {
   "cell_type": "code",
   "execution_count": 17,
   "metadata": {},
   "outputs": [],
   "source": [
    "# Solution"
   ]
  },
  {
   "cell_type": "markdown",
   "metadata": {},
   "source": [
    "**04.** Sort the given sturctured array based on 'name' and 'age'. Print both resultant arrays."
   ]
  },
  {
   "cell_type": "code",
   "execution_count": 18,
   "metadata": {},
   "outputs": [],
   "source": [
    "array04 = np.array([('Bob', 34, 70.0), ('Alice', 38, 55.0)],\n",
    "       dtype=[('name', (np.str_, 10)), ('age', np.int32), ('weight', np.float64)])\n",
    "\n",
    "# Solution"
   ]
  },
  {
   "cell_type": "markdown",
   "metadata": {},
   "source": [
    "**05.** Given a numpy array [5, 29, 44, 18, 50]. Check the dtype of this array. Change the dtype of the given object to 'float64'.\n",
    "\n",
    "    What is the purpose of dtypes in practical implementations?"
   ]
  },
  {
   "cell_type": "code",
   "execution_count": 19,
   "metadata": {},
   "outputs": [],
   "source": [
    "# Solution"
   ]
  },
  {
   "cell_type": "markdown",
   "metadata": {},
   "source": [
    "**06.** Print the number of zero values in the matrix\n",
    "                    [[45, 0, 17],\n",
    "                    [26, 4, 0],\n",
    "                    [0, 77, 9]]"
   ]
  },
  {
   "cell_type": "code",
   "execution_count": 20,
   "metadata": {},
   "outputs": [],
   "source": [
    "# Solution"
   ]
  },
  {
   "cell_type": "markdown",
   "metadata": {},
   "source": [
    "**07.** Subtract the array b from the array a, such that each item of b subtracts from respective row of a and print the resultant array.\n",
    "    a = [[3,4,5],[4,5,6],[5,6,7]] and \n",
    "    b = [1,1,1]\n",
    "\n",
    "    Hint: this is an example of Broadcasting"
   ]
  },
  {
   "cell_type": "code",
   "execution_count": 21,
   "metadata": {},
   "outputs": [],
   "source": [
    "# Solution"
   ]
  },
  {
   "cell_type": "markdown",
   "metadata": {},
   "source": [
    "### Question 08 - 11 is about Linear Algebra"
   ]
  },
  {
   "cell_type": "markdown",
   "metadata": {},
   "source": [
    "##### NumPy Linear Algebra: https://numpy.org/doc/stable/reference/routines.linalg.html#"
   ]
  },
  {
   "cell_type": "markdown",
   "metadata": {},
   "source": [
    "**08.** Print the transpose of the matrix. \n",
    "       [[[ 0,  1,  2,  3],\n",
    "        [ 4,  5,  6,  7],\n",
    "        [ 8,  9, 10, 11]],\n",
    "       [[12, 13, 14, 15],\n",
    "        [16, 17, 18, 19],\n",
    "        [20, 21, 22, 23]]]"
   ]
  },
  {
   "cell_type": "code",
   "execution_count": 22,
   "metadata": {},
   "outputs": [],
   "source": [
    "# Solution"
   ]
  },
  {
   "cell_type": "markdown",
   "metadata": {},
   "source": [
    "**09.** Print the sum of the diagonal for the matrix\n",
    "                    [[45, 34, 17],\n",
    "                    [26, 4, 0],\n",
    "                    [78, 77, 9]] \n",
    "\n",
    "                    "
   ]
  },
  {
   "cell_type": "code",
   "execution_count": 23,
   "metadata": {},
   "outputs": [],
   "source": [
    "# Solution"
   ]
  },
  {
   "cell_type": "markdown",
   "metadata": {},
   "source": [
    "**10.** Print the inner product of the two arrays a and b.\n",
    "    a = [1,2,3,4,5]\n",
    "    b = [4,5,6,7,8]"
   ]
  },
  {
   "cell_type": "code",
   "execution_count": 24,
   "metadata": {},
   "outputs": [],
   "source": [
    "# Solution"
   ]
  },
  {
   "cell_type": "markdown",
   "metadata": {},
   "source": [
    "**11.** Print the euclidean distance between two arrays a and b.\n",
    "    a = [1,2,3,4,5]\n",
    "    b = [4,5,6,7,8]\n",
    "\n",
    "    Hint1: Euclidean distance is the square root of the sum of the squared difference of each element in the array.\n",
    "    \n",
    "    Hint2: There is a library of numpy for calculating functionalities of linear algebra."
   ]
  },
  {
   "cell_type": "code",
   "execution_count": 25,
   "metadata": {},
   "outputs": [],
   "source": [
    "# Solution"
   ]
  }
 ],
 "metadata": {
  "kernelspec": {
   "display_name": "Python 3.9.12 ('base')",
   "language": "python",
   "name": "python3"
  },
  "language_info": {
   "codemirror_mode": {
    "name": "ipython",
    "version": 3
   },
   "file_extension": ".py",
   "mimetype": "text/x-python",
   "name": "python",
   "nbconvert_exporter": "python",
   "pygments_lexer": "ipython3",
   "version": "3.9.12"
  },
  "orig_nbformat": 4,
  "vscode": {
   "interpreter": {
    "hash": "19d1d53a962d236aa061289c2ac16dc8e6d9648c89fe79f459ae9a3493bc67b4"
   }
  }
 },
 "nbformat": 4,
 "nbformat_minor": 2
}
