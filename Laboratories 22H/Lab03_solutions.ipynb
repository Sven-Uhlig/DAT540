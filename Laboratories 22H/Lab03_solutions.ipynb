{
  "cells": [
    {
      "cell_type": "markdown",
      "metadata": {},
      "source": [
        "## Lab 03- Understanding Numpy Arrays and array oprations \n",
        "# Solutions"
      ]
    },
    {
      "cell_type": "markdown",
      "metadata": {
        "id": "1COYt7RxcgFb"
      },
      "source": [
        "1. Given an array as an inpurt argument, write a function which returns the data type, dimension, shape and size of the array. \n",
        "</br> Initialize a 2-d array (like [4,3,2], [9,55,33])"
      ]
    },
    {
      "cell_type": "code",
      "execution_count": 118,
      "metadata": {
        "colab": {
          "base_uri": "https://localhost:8080/"
        },
        "id": "cOmColNGcgFd",
        "outputId": "833721ec-2930-42ed-9cf5-b32768e68bd7"
      },
      "outputs": [
        {
          "name": "stdout",
          "output_type": "stream",
          "text": [
            "{'type': dtype('int64'), 'dimension': 2, 'shape': (2, 3), 'size': 6}\n"
          ]
        }
      ],
      "source": [
        "import numpy as np\n",
        "\n",
        "arr = np.array([[4,3,2], [9,55,33]])\n",
        "\n",
        "def arr_description(arr):\n",
        "  description = {}\n",
        "  description[\"type\"] = arr.dtype\n",
        "  description[\"dimension\"] = arr.ndim\n",
        "  description[\"shape\"] = arr.shape\n",
        "  description[\"size\"] = arr.size\n",
        "\n",
        "  return description\n",
        "\n",
        "print(arr_description(arr))"
      ]
    },
    {
      "cell_type": "markdown",
      "metadata": {
        "id": "7V8GaKYucgFe"
      },
      "source": [
        "2. Create a 2-dimensional array with zeros and verify it printing the result using ndim. Also, replace the diagonal elements with 1's."
      ]
    },
    {
      "cell_type": "markdown",
      "metadata": {
        "id": "jEHROYk_cgFe"
      },
      "source": [
        "- Hint: https://numpy.org/doc/stable/reference/generated/numpy.zeros.html"
      ]
    },
    {
      "cell_type": "code",
      "execution_count": 119,
      "metadata": {
        "colab": {
          "base_uri": "https://localhost:8080/"
        },
        "id": "Zkv8ItwfcgFg",
        "outputId": "ab9383ab-b8d1-428d-e683-b11cca8ce412"
      },
      "outputs": [
        {
          "name": "stdout",
          "output_type": "stream",
          "text": [
            "[[0 0 0 0]\n",
            " [0 0 0 0]\n",
            " [0 0 0 0]\n",
            " [0 0 0 0]]\n",
            "The dimension of the array: 2\n",
            "Diagonal Elements:  [0 0 0 0]\n",
            "[[1 0 0 0]\n",
            " [0 1 0 0]\n",
            " [0 0 1 0]\n",
            " [0 0 0 1]]\n"
          ]
        }
      ],
      "source": [
        "## Solution\n",
        "\n",
        "two_dimensional = np.zeros((4, 4), dtype=int)\n",
        "\n",
        "print(two_dimensional)\n",
        "\n",
        "print(\"The dimension of the array:\", two_dimensional.ndim)\n",
        "print(\"Diagonal Elements: \", two_dimensional.diagonal())\n",
        "\n",
        "np.fill_diagonal(two_dimensional, 1)\n",
        "\n",
        "print(two_dimensional)"
      ]
    },
    {
      "cell_type": "markdown",
      "metadata": {
        "id": "2yPIxWf5cgFi"
      },
      "source": [
        "3. Given an array, \n",
        "- show first 3 elements\n",
        "- show elements after the 4th index to the end\n",
        "- print the middle sub-array from 4th element to the 8th element\n",
        "- print every other element in a step of 2."
      ]
    },
    {
      "cell_type": "code",
      "execution_count": 120,
      "metadata": {
        "colab": {
          "base_uri": "https://localhost:8080/"
        },
        "id": "Eo7fm0n4cgFj",
        "outputId": "ad81a1b3-a83d-4582-cc54-07475a46e4a4"
      },
      "outputs": [
        {
          "name": "stdout",
          "output_type": "stream",
          "text": [
            "First three elements:  [0 1 2]\n",
            "Elements after fourth index [ 4  5  6  7  8  9 10 11 12 13 14 15 16 17 18 19]\n",
            "The middle sub-array from 4th to 8th element: [4 5 6 7]\n",
            "Every element in the step of 2 [ 0  2  4  6  8 10 12 14 16 18]\n"
          ]
        }
      ],
      "source": [
        "values = np.arange(20)\n",
        "\n",
        "## Solution\n",
        "print(\"First three elements: \", values[:3])\n",
        "print(\"Elements after fourth index\", values[4:])\n",
        "print(\"The middle sub-array from 4th to 8th element:\", values[4:8])\n",
        "print(\"Every element in the step of 2\", values[::2])"
      ]
    },
    {
      "cell_type": "markdown",
      "metadata": {
        "id": "0LZNyMxax-BC"
      },
      "source": [
        "4. Find the unique values in the array and fetch the index number of the elements which appear at the first of the list if it has duplicates."
      ]
    },
    {
      "cell_type": "code",
      "execution_count": 121,
      "metadata": {
        "colab": {
          "base_uri": "https://localhost:8080/"
        },
        "id": "8u0_u3OFx-mv",
        "outputId": "d09385e9-50d5-4379-e4ce-b41aa9f33bdf"
      },
      "outputs": [
        {
          "name": "stdout",
          "output_type": "stream",
          "text": [
            "45 => First appearance in index  2\n",
            "67 => First appearance in index  4\n",
            "89 => First appearance in index  0\n",
            "98 => First appearance in index  1\n"
          ]
        }
      ],
      "source": [
        "arr = np.array([89, 98, 45, 45, 67, 98, 89, 67])\n",
        "\n",
        "#Solution\n",
        "uniques = np.unique(arr)\n",
        "\n",
        "for element in uniques:\n",
        "  print(element, \"=> First appearance in index \", np.where(arr == element)[0][0])"
      ]
    },
    {
      "cell_type": "markdown",
      "metadata": {
        "id": "dmYc3C9M3X0Q"
      },
      "source": [
        "5. In this code below, you'll see the fancy indexing technique which is relative a simple concept to understand.\n",
        "\n",
        "- Just see how the indexing works and answer the questions.\n",
        "\n",
        "- Index with negative indexing as the technique shown below. List out the 2nd, 3rd and the 5th element with negative indexing."
      ]
    },
    {
      "cell_type": "code",
      "execution_count": 129,
      "metadata": {
        "colab": {
          "base_uri": "https://localhost:8080/"
        },
        "id": "Cf5wLTZQ3UcH",
        "outputId": "9523db80-04ff-4cc6-954f-46ee1835271f"
      },
      "outputs": [
        {
          "data": {
            "text/plain": [
              "array([[6., 6., 6., 6.],\n",
              "       [5., 5., 5., 5.],\n",
              "       [3., 3., 3., 3.]])"
            ]
          },
          "execution_count": 129,
          "metadata": {},
          "output_type": "execute_result"
        }
      ],
      "source": [
        "# Creating a 8x4 array where each row has the index number as value for all its columns\n",
        "arr = np.empty((8, 4)) \n",
        "\n",
        "for i in range(8):\n",
        "    arr[i] = i\n",
        "\n",
        "## Slicing using fancy indexing\n",
        "# arr[[1,4,5]]\n",
        "\n",
        "## Solution\n",
        "arr[[-2,-3,-5]]"
      ]
    },
    {
      "cell_type": "markdown",
      "metadata": {
        "id": "x1e94o9ecgFh"
      },
      "source": [
        "\n",
        "\n",
        " 6\n",
        "\n",
        " . Given the 2D array,\n",
        " - Print out the first 2 columns and all the rows.\n",
        " - Print out the last two rows from the 2D Array.\n",
        " - Last two columns from the 2D Array\n",
        " - Middle rows excluding the first and the last\n",
        " - Mirrorize the array. Should look like the mirrored version of the given array."
      ]
    },
    {
      "cell_type": "code",
      "execution_count": 123,
      "metadata": {
        "colab": {
          "base_uri": "https://localhost:8080/"
        },
        "id": "htUxPxTFcgFi",
        "outputId": "2392541d-a80d-41d9-a06e-9aba94819209"
      },
      "outputs": [
        {
          "name": "stdout",
          "output_type": "stream",
          "text": [
            "First 2 columns and all rows:\n",
            "[[ 1  3]\n",
            " [11 22]\n",
            " [85 25]\n",
            " [ 9  7]]\n",
            "Last two rows from the 2D Array:\n",
            "[[11 22 30 45 55 78]\n",
            " [85 25 98 65 35 15]\n",
            " [ 9  7  8  4  5  6]]\n",
            "Last two columns from the 2D Array:\n",
            "[[ 5  7]\n",
            " [55 78]\n",
            " [35 15]\n",
            " [ 5  6]]\n",
            "Middle rows excluding the first and the last\n",
            "[[11 22 30 45 55 78]\n",
            " [85 25 98 65 35 15]]\n",
            "Mirrorized version of the array:\n",
            "[[ 7  5  8  9  3  1]\n",
            " [78 55 45 30 22 11]\n",
            " [15 35 65 98 25 85]\n",
            " [ 6  5  4  8  7  9]]\n"
          ]
        }
      ],
      "source": [
        "# #Solution\n",
        "\n",
        "a = np.array([[1, 3, 9, 8, 5, 7], [11, 22, 30, 45, 55, 78], [85, 25, 98, 65, 35, 15], [9, 7, 8, 4, 5, 6]])\n",
        "\n",
        "print(\"First 2 columns and all rows:\")\n",
        "print(a[:, 0:2])\n",
        "print(\"Last two rows from the 2D Array:\")\n",
        "print(a[1:, :])\n",
        "print(\"Last two columns from the 2D Array:\")\n",
        "print(a[:, 4:])\n",
        "print(\"Middle rows excluding the first and the last\")\n",
        "print(a[1:3, :])\n",
        "print(\"Mirrorized version of the array:\")\n",
        "print(a[:, ::-1])"
      ]
    },
    {
      "cell_type": "markdown",
      "metadata": {
        "id": "HYPd3mzQcgFm"
      },
      "source": [
        "7. Complete the following function where n is the integer value and returns a 2-D Array of size (n*n) with 1's on the border and 0's on the inside."
      ]
    },
    {
      "cell_type": "code",
      "execution_count": 124,
      "metadata": {
        "colab": {
          "base_uri": "https://localhost:8080/"
        },
        "id": "yAw2H6J_cgFn",
        "outputId": "9e1f0ac3-e3f3-4f85-c10a-db70dcb9661b"
      },
      "outputs": [
        {
          "data": {
            "text/plain": [
              "array([[1., 1., 1., 1., 1., 1., 1., 1., 1., 1.],\n",
              "       [1., 0., 0., 0., 0., 0., 0., 0., 0., 1.],\n",
              "       [1., 0., 0., 0., 0., 0., 0., 0., 0., 1.],\n",
              "       [1., 0., 0., 0., 0., 0., 0., 0., 0., 1.],\n",
              "       [1., 0., 0., 0., 0., 0., 0., 0., 0., 1.],\n",
              "       [1., 0., 0., 0., 0., 0., 0., 0., 0., 1.],\n",
              "       [1., 0., 0., 0., 0., 0., 0., 0., 0., 1.],\n",
              "       [1., 0., 0., 0., 0., 0., 0., 0., 0., 1.],\n",
              "       [1., 0., 0., 0., 0., 0., 0., 0., 0., 1.],\n",
              "       [1., 1., 1., 1., 1., 1., 1., 1., 1., 1.]])"
            ]
          },
          "execution_count": 124,
          "metadata": {},
          "output_type": "execute_result"
        }
      ],
      "source": [
        "#Solution\n",
        "\n",
        "def func(n):\n",
        "    twodim = np.ones((n, n))\n",
        "    twodim[1:-1, 1:-1] = 0\n",
        "    return twodim\n",
        "\n",
        "func(10)"
      ]
    },
    {
      "cell_type": "markdown",
      "metadata": {
        "id": "TInRO-prcgFl"
      },
      "source": [
        "8. Create a function which takes an argument of matrix size (a and b) and returns the diagonal values of the matrix of size specified. The values in the matrix should be in the range of a * b. In addition, after the creation of matrix, each diagonal element should be added with the value of 100.\n",
        "\n"
      ]
    },
    {
      "cell_type": "code",
      "execution_count": 125,
      "metadata": {
        "colab": {
          "base_uri": "https://localhost:8080/"
        },
        "id": "ovRz2GShcgFm",
        "outputId": "16e76ad8-748f-4043-bd40-4f0950a3ea57"
      },
      "outputs": [
        {
          "name": "stdout",
          "output_type": "stream",
          "text": [
            "[100 106 112 118 124]\n"
          ]
        }
      ],
      "source": [
        "## Solution\n",
        "def create_matrix(a, b):\n",
        "  rng = np.arange(a*b).reshape(a, b)\n",
        "  np.fill_diagonal(rng, rng.diagonal() + 100)\n",
        "  return rng.diagonal()\n",
        "\n",
        "print(create_matrix(5, 5))"
      ]
    },
    {
      "cell_type": "markdown",
      "metadata": {
        "id": "r6tByS7bcgFo"
      },
      "source": [
        "9. Create a numpy array and change it to immutable (read only). Read the documentation on the link below and try to change the value after making the array immutable. Understand the error."
      ]
    },
    {
      "cell_type": "markdown",
      "metadata": {
        "id": "dVoYblWAcgFp"
      },
      "source": [
        "- Hint: https://numpy.org/doc/stable/reference/generated/numpy.ndarray.flags.html"
      ]
    },
    {
      "cell_type": "code",
      "execution_count": null,
      "metadata": {
        "id": "bIQkeWvrcgFp"
      },
      "outputs": [],
      "source": [
        "#Solution\n",
        "immarr = np.ones(100)\n",
        "immarr.flags.writeable = False\n",
        "\n",
        "## This now generates error. \n",
        "immarr[9] = 9"
      ]
    },
    {
      "cell_type": "markdown",
      "metadata": {
        "id": "Fo_PIa5pcgFq"
      },
      "source": [
        "10. Create two lists and two numpy arrays and populate these with the value of size 10^7 (10000000) [You can use range and arange for this]. Now try to multiply values of each of the two lists and arrays and get a final list and array of multiplied items. Calculate the execution times of each of the multiplication operation.\n",
        "\n",
        "- What do you find with this execution times?\n",
        "- How do you define it?"
      ]
    },
    {
      "cell_type": "code",
      "execution_count": 127,
      "metadata": {
        "colab": {
          "base_uri": "https://localhost:8080/"
        },
        "id": "nzYvDDh1hAP0",
        "outputId": "e45014a8-6e94-4225-8758-d237865d0159"
      },
      "outputs": [
        {
          "name": "stdout",
          "output_type": "stream",
          "text": [
            "Execution Time for List: 1.7054636478424072 seconds\n",
            "Execution Time for Numpy Array: 0.021924257278442383 seconds\n"
          ]
        }
      ],
      "source": [
        "##Solution\n",
        "\n",
        "import time\n",
        "\n",
        "first_list = range(10000000)\n",
        "second_list = range(10000000)\n",
        "final_list = []\n",
        "\n",
        "first_np_arr = np.arange(10000000)\n",
        "second_np_arr = np.arange(10000000)\n",
        "\n",
        "################################################\n",
        "start_time = time.time()\n",
        "\n",
        "## List Multiplication\n",
        "final_list = [a * b for a, b in zip(first_list, second_list)]\n",
        "\n",
        "# Calculating Execution Time\n",
        "print(\"Execution Time for List:\", (time.time() - start_time), \"seconds\")\n",
        "\n",
        "#################################################\n",
        "\n",
        "start_time = time.time()\n",
        "\n",
        "## List Multiplication\n",
        "final_np_array = first_np_arr * second_np_arr\n",
        "\n",
        "# Calculating Execution Time\n",
        "print(\"Execution Time for Numpy Array:\", (time.time() - start_time), \"seconds\")"
      ]
    }
  ],
  "metadata": {
    "colab": {
      "collapsed_sections": [],
      "provenance": []
    },
    "kernelspec": {
      "display_name": "Python 3.9.12 ('base')",
      "language": "python",
      "name": "python3"
    },
    "language_info": {
      "codemirror_mode": {
        "name": "ipython",
        "version": 3
      },
      "file_extension": ".py",
      "mimetype": "text/x-python",
      "name": "python",
      "nbconvert_exporter": "python",
      "pygments_lexer": "ipython3",
      "version": "3.9.12"
    },
    "orig_nbformat": 4,
    "vscode": {
      "interpreter": {
        "hash": "19d1d53a962d236aa061289c2ac16dc8e6d9648c89fe79f459ae9a3493bc67b4"
      }
    }
  },
  "nbformat": 4,
  "nbformat_minor": 0
}
