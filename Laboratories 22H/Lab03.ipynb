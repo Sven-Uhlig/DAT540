{
  "cells": [
    {
      "cell_type": "markdown",
      "metadata": {},
      "source": [
        "## Lab 03- Understanding Numpy Arrays and array operations"
      ]
    },
    {
      "cell_type": "markdown",
      "metadata": {
        "id": "1COYt7RxcgFb"
      },
      "source": [
        "1. Given an array as an inpurt argument, write a function which returns the data type, dimension, shape and size of the array. \n",
        "Initialize a 2-d array (like [4,3,2], [9,55,33])"
      ]
    },
    {
      "cell_type": "code",
      "execution_count": 3,
      "metadata": {
        "id": "cOmColNGcgFd"
      },
      "outputs": [],
      "source": [
        "## Solution"
      ]
    },
    {
      "cell_type": "markdown",
      "metadata": {
        "id": "7V8GaKYucgFe"
      },
      "source": [
        "2. Create a 2-dimensional array with zeros and verify it printing the result using ndim. Also, replace the diagonal elements with 1's."
      ]
    },
    {
      "cell_type": "markdown",
      "metadata": {
        "id": "jEHROYk_cgFe"
      },
      "source": [
        "- Hint: https://numpy.org/doc/stable/reference/generated/numpy.zeros.html"
      ]
    },
    {
      "cell_type": "code",
      "execution_count": 4,
      "metadata": {
        "id": "Zkv8ItwfcgFg"
      },
      "outputs": [],
      "source": [
        "## Solution\n"
      ]
    },
    {
      "cell_type": "markdown",
      "metadata": {
        "id": "2yPIxWf5cgFi"
      },
      "source": [
        "3. Given an array, \n",
        "- show first 3 elements\n",
        "- show elements after the 4th index to the end\n",
        "- print the middle sub-array from 4th element to the 8th element\n",
        "- print every other element in a step of 2.\n",
        "\n",
        "Hint: You may use np.arange to produce a list of n numbers"
      ]
    },
    {
      "cell_type": "code",
      "execution_count": 5,
      "metadata": {
        "id": "Eo7fm0n4cgFj"
      },
      "outputs": [],
      "source": [
        "## Solution\n"
      ]
    },
    {
      "cell_type": "markdown",
      "metadata": {
        "id": "0LZNyMxax-BC"
      },
      "source": [
        "4. Find the unique values in the array and fetch the index number of the elements which appear at the first of the list if it has duplicates."
      ]
    },
    {
      "cell_type": "code",
      "execution_count": 6,
      "metadata": {
        "id": "8u0_u3OFx-mv"
      },
      "outputs": [],
      "source": [
        "arr = np.array([89, 98, 45, 45, 67, 98, 89, 67])\n",
        "\n",
        "#Solution"
      ]
    },
    {
      "cell_type": "markdown",
      "metadata": {
        "id": "dmYc3C9M3X0Q"
      },
      "source": [
        "5. In this code below, you'll see the fancy indexing technique which is relative a simple concept to understand.\n",
        "\n",
        "- Just see how the indexing works and answer the questions.\n",
        "\n",
        "- Index with negative indexing as the technique shown below. List out the 2nd, 3rd and the 5th element with negative indexing."
      ]
    },
    {
      "cell_type": "code",
      "execution_count": null,
      "metadata": {
        "id": "Cf5wLTZQ3UcH"
      },
      "outputs": [],
      "source": [
        "# Creating a 8x4 array where each row has the index number as value for all its columns\n",
        "arr = np.empty((8, 4)) \n",
        "\n",
        "for i in range(8):\n",
        "    arr[i] = i\n",
        "\n",
        "## Slicing using fancy indexing\n",
        "arr[[1,4,5]]\n",
        "\n",
        "## Solution\n"
      ]
    },
    {
      "cell_type": "markdown",
      "metadata": {
        "id": "x1e94o9ecgFh"
      },
      "source": [
        "\n",
        "\n",
        " 6\n",
        "\n",
        " . Given the 2D array,\n",
        " - Print out the first 2 columns and all the rows.\n",
        " - Print out the last two rows from the 2D Array.\n",
        " - Last two columns from the 2D Array\n",
        " - Middle rows excluding the first and the last\n",
        " - Mirrorize the array. Should look like the mirrored version of the given array."
      ]
    },
    {
      "cell_type": "code",
      "execution_count": 8,
      "metadata": {
        "id": "htUxPxTFcgFi"
      },
      "outputs": [],
      "source": [
        "# #Solution\n",
        "\n",
        "a = np.array([[1, 3, 9, 8, 5, 7], [11, 22, 30, 45, 55, 78], [85, 25, 98, 65, 35, 15], [9, 7, 8, 4, 5, 6]])\n"
      ]
    },
    {
      "cell_type": "markdown",
      "metadata": {
        "id": "HYPd3mzQcgFm"
      },
      "source": [
        "7. Complete the following function where n is the integer value and returns a 2-D Array of size (n*n) with 1's on the border and 0's on the inside."
      ]
    },
    {
      "cell_type": "code",
      "execution_count": 10,
      "metadata": {
        "id": "yAw2H6J_cgFn"
      },
      "outputs": [],
      "source": [
        "#Solution\n",
        "def func(n):\n"
      ]
    },
    {
      "cell_type": "markdown",
      "metadata": {
        "id": "TInRO-prcgFl"
      },
      "source": [
        "8. Create a function which takes an argument of matrix size (a and b) and returns the diagonal values of the matrix of size specified. The values in the matrix should be in the range of a * b. In addition, after the creation of matrix, each diagonal element should be added with the value of 100.\n",
        "\n"
      ]
    },
    {
      "cell_type": "code",
      "execution_count": 12,
      "metadata": {
        "id": "ovRz2GShcgFm"
      },
      "outputs": [],
      "source": [
        "## Solution\n"
      ]
    },
    {
      "cell_type": "markdown",
      "metadata": {
        "id": "r6tByS7bcgFo"
      },
      "source": [
        "9. Create a numpy array and change it to immutable (read only). Read the documentation on the link below and try to change the value after making the array immutable. Understand the error."
      ]
    },
    {
      "cell_type": "markdown",
      "metadata": {
        "id": "dVoYblWAcgFp"
      },
      "source": [
        "- Hint: https://numpy.org/doc/stable/reference/generated/numpy.ndarray.flags.html"
      ]
    },
    {
      "cell_type": "code",
      "execution_count": 13,
      "metadata": {
        "id": "bIQkeWvrcgFp"
      },
      "outputs": [],
      "source": [
        "#Solution\n"
      ]
    },
    {
      "cell_type": "markdown",
      "metadata": {
        "id": "Fo_PIa5pcgFq"
      },
      "source": [
        "10. Create two lists and two numpy arrays and populate these with the value of size 10^7 (10000000) [You can use range and arange for this]. Now try to multiply values of each of the two lists and arrays and get a final list and array of multiplied items. Calculate the execution times of each of the multiplication operation.\n",
        "\n",
        "- What do you find with this execution times?\n",
        "- How do you define it?\n",
        "\n",
        "Hint: import time and use time.time() to calculate execution times."
      ]
    },
    {
      "cell_type": "code",
      "execution_count": 14,
      "metadata": {
        "id": "nzYvDDh1hAP0"
      },
      "outputs": [],
      "source": [
        "##Solution\n"
      ]
    }
  ],
  "metadata": {
    "colab": {
      "collapsed_sections": [],
      "provenance": []
    },
    "kernelspec": {
      "display_name": "Python 3.9.12 ('base')",
      "language": "python",
      "name": "python3"
    },
    "language_info": {
      "codemirror_mode": {
        "name": "ipython",
        "version": 3
      },
      "file_extension": ".py",
      "mimetype": "text/x-python",
      "name": "python",
      "nbconvert_exporter": "python",
      "pygments_lexer": "ipython3",
      "version": "3.9.12"
    },
    "orig_nbformat": 4,
    "vscode": {
      "interpreter": {
        "hash": "19d1d53a962d236aa061289c2ac16dc8e6d9648c89fe79f459ae9a3493bc67b4"
      }
    }
  },
  "nbformat": 4,
  "nbformat_minor": 0
}
