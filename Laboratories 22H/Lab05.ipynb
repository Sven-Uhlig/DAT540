{
  "cells": [
    {
      "cell_type": "markdown",
      "metadata": {
        "id": "j8R4T60QnoYK"
      },
      "source": [
        "## Lab 05 - working with \"Pandas\".\n",
        "\n",
        "#### What will learn:\n",
        "        - Loading data and learning about the nature of data\n",
        "        - Understanding the pandas Series and Dataframes\n",
        "        - Retrieving customized information\n",
        "        - Handling duplicate and missing values\n",
        "        - Implementing statistical functions \n",
        "        - Data manipulation using observed behavior of the data (groupby, sort)\n",
        "        - Appling custom function on the Dataframe\n",
        "        - Saving the final resultant data after customization in a .csv file"
      ]
    },
    {
      "cell_type": "markdown",
      "metadata": {
        "id": "ejOr3XSZnoYP"
      },
      "source": [
        "#### Library we are Practicing in this Lab: https://pandas.pydata.org/docs/user_guide/index.html\n",
        "\n",
        "You can use this documentation to make use of existing methods. "
      ]
    },
    {
      "cell_type": "markdown",
      "metadata": {
        "id": "BFYia-25noYQ"
      },
      "source": [
        "**01.** \n",
        "    <br>**a)** Import the pandas library to read the given .csv file (BankChurners.csv) as a dataframe.\n",
        "    <br>**b)** Delete the last two columns of the dataframe and use the modified data for the further implementation.\n",
        "    <br>**c)** Print the information (name of the columns, number of values in each column which are not null, data type of each column) using a function from the imported library. "
      ]
    },
    {
      "cell_type": "code",
      "execution_count": null,
      "metadata": {
        "id": "Qs8yyHTcnoYR"
      },
      "outputs": [],
      "source": [
        "import pandas as pd\n",
        "# a)\n",
        "#Solution"
      ]
    },
    {
      "cell_type": "code",
      "execution_count": null,
      "metadata": {
        "id": "GT2uOtk7noYT"
      },
      "outputs": [],
      "source": [
        "#b)\n",
        "#Solution"
      ]
    },
    {
      "cell_type": "code",
      "execution_count": null,
      "metadata": {
        "colab": {
          "base_uri": "https://localhost:8080/"
        },
        "id": "HQlDclwunoYT",
        "outputId": "9ea8f583-189e-49be-b94c-aab4b13fce95"
      },
      "outputs": [],
      "source": [
        "#c)\n",
        "#Solution"
      ]
    },
    {
      "cell_type": "markdown",
      "metadata": {
        "id": "UW_9GbxjnoYV"
      },
      "source": [
        "**02.** \n",
        "<br>**a)** What is the type of the overall data and data loaded in any column.\n",
        "<br>**b)** Is it possible to convert a series to a dataframe? Try to use a column from previous dataframe and make it a seperate dataframe.\n",
        "<br>**c)** Insert a new column named 'Customer_Scaled_Age'. Calculate the value of this column by subtracting the minimum of the 'Customer_Age' from the original 'Customer_Age'. "
      ]
    },
    {
      "cell_type": "code",
      "execution_count": null,
      "metadata": {
        "colab": {
          "base_uri": "https://localhost:8080/"
        },
        "id": "I7k8RLDsnoYV",
        "outputId": "d3d97786-b33f-4619-e7e1-5ed915201763"
      },
      "outputs": [],
      "source": [
        "#a)\n",
        "#Solution"
      ]
    },
    {
      "cell_type": "code",
      "execution_count": null,
      "metadata": {
        "colab": {
          "base_uri": "https://localhost:8080/"
        },
        "id": "-kJ4OBWFnoYW",
        "outputId": "deb21904-a01f-4eec-a4f9-59e4f4384adb"
      },
      "outputs": [],
      "source": [
        "#b)\n",
        "#Solution"
      ]
    },
    {
      "cell_type": "code",
      "execution_count": null,
      "metadata": {
        "id": "1D1cU13snoYW"
      },
      "outputs": [],
      "source": [
        "#c)\n",
        "#Solution"
      ]
    },
    {
      "cell_type": "markdown",
      "metadata": {
        "id": "HYxOJV7enoYX"
      },
      "source": [
        "**03.** \n",
        "<br>**a)** Print every 5th row of the DataFrame, starting from row 4000. (Hint: use steps while indexing)\n",
        "<br>**b)** Create a dictionary for Income_Category where key is the income category and value is the count of customers in that category.\n",
        "<br>**c)** What percentage of the clients are female?"
      ]
    },
    {
      "cell_type": "code",
      "execution_count": null,
      "metadata": {
        "id": "87KbOGr5noYX",
        "outputId": "fc20ac0a-08cb-41c5-c50c-6ce1b271b057"
      },
      "outputs": [],
      "source": [
        "#a)\n",
        "#Solution"
      ]
    },
    {
      "cell_type": "code",
      "execution_count": null,
      "metadata": {
        "id": "AXEMsuO0noYY",
        "outputId": "3ddd984b-a267-4aa0-d8a8-2a44d40a4e1b"
      },
      "outputs": [],
      "source": [
        "#b)\n",
        "#Solution"
      ]
    },
    {
      "cell_type": "code",
      "execution_count": null,
      "metadata": {
        "colab": {
          "base_uri": "https://localhost:8080/"
        },
        "id": "LaiNvlF6noYY",
        "outputId": "b8b400ef-800d-4a84-b92c-5a0ded8f5827"
      },
      "outputs": [],
      "source": [
        "#c)\n",
        "#Solution"
      ]
    },
    {
      "cell_type": "markdown",
      "metadata": {
        "id": "AVULe2J8noYZ"
      },
      "source": [
        "**04.** Create a Dataframe of clients who are married, with an education at a graduate level and Attrited Customer"
      ]
    },
    {
      "cell_type": "code",
      "execution_count": null,
      "metadata": {
        "id": "OODnTM2knoYZ",
        "outputId": "7448f0c3-1989-4797-92be-a63ffb1816a1"
      },
      "outputs": [],
      "source": [
        "#Solution"
      ]
    },
    {
      "cell_type": "markdown",
      "metadata": {
        "id": "4axjNKvpnoYa"
      },
      "source": [
        "**05.** \n",
        "<br>**a)** Load the dataset 'ConProd.csv' as a dataframe.\n",
        "<br>**b)** Check if any of the 'CLIENTNUM' is duplicated. (You can use duplicated value)\n",
        "<br>**c)** DataSets often contain null values. What are the functions you can use to find the null values. Check the total number of null values in the whole dataframe.\n",
        "<br>**d)** Fill the missing values in 'Wind+Solar' column using 'bfill' in the method argument and use this customized dataframe for further implementations. \n",
        "<br>**e)** Drop all the records still having any null values."
      ]
    },
    {
      "cell_type": "code",
      "execution_count": null,
      "metadata": {
        "id": "IlqGLo_MnoYa"
      },
      "outputs": [],
      "source": [
        "#a)\n",
        "#Solution"
      ]
    },
    {
      "cell_type": "code",
      "execution_count": null,
      "metadata": {
        "colab": {
          "base_uri": "https://localhost:8080/"
        },
        "id": "66gStFkWnoYa",
        "outputId": "8573d2bc-9a83-4305-ad3d-ff93a8290715"
      },
      "outputs": [],
      "source": [
        "#b)\n",
        "#Solution"
      ]
    },
    {
      "cell_type": "code",
      "execution_count": null,
      "metadata": {
        "colab": {
          "base_uri": "https://localhost:8080/"
        },
        "id": "adGH1M_MnoYb",
        "outputId": "f1b156e9-d615-4418-a6a6-6388f9547dab"
      },
      "outputs": [],
      "source": [
        "#c)\n",
        "#Solution"
      ]
    },
    {
      "cell_type": "code",
      "execution_count": null,
      "metadata": {
        "id": "-jsjjaftnoYc",
        "outputId": "005a9004-c8f7-4811-e634-954be4cda960"
      },
      "outputs": [],
      "source": [
        "#d)\n",
        "#Solution"
      ]
    },
    {
      "cell_type": "code",
      "execution_count": null,
      "metadata": {
        "id": "orMJdRBqnoYc",
        "outputId": "445d26ff-e7e3-400a-a620-e87b57da53ad"
      },
      "outputs": [],
      "source": [
        "#e)\n",
        "#Solution"
      ]
    },
    {
      "cell_type": "markdown",
      "metadata": {
        "id": "wKRQT1LjnoYc"
      },
      "source": [
        "**06.** \n",
        "<br>**a)** Print a summary on the amount of consumption value available from 'ConProd' dataset. (use describe method)\n",
        "<br>**b)** Return the index of the client with highest credit limit from the 'BankChurners' dataset.\n",
        "<br>**c)** Find the correlation and covariance of the 'ConProd' dataset.\n",
        "<br>**d)** Print the correlation and covariance between 'Consumption' and 'Wind+Solar' of the 'ConProd' dataset."
      ]
    },
    {
      "cell_type": "code",
      "execution_count": null,
      "metadata": {
        "id": "Z58TpbYXnoYd",
        "outputId": "ad26af41-e7b2-47b4-9ee6-16aff878be35"
      },
      "outputs": [],
      "source": [
        "#a)\n",
        "#Solution"
      ]
    },
    {
      "cell_type": "code",
      "execution_count": null,
      "metadata": {
        "colab": {
          "base_uri": "https://localhost:8080/"
        },
        "id": "SHQyxm6cnoYd",
        "outputId": "055dc5b4-5962-47d7-bba9-6b3e31e97a17"
      },
      "outputs": [],
      "source": [
        "#b)\n",
        "#Solution"
      ]
    },
    {
      "cell_type": "code",
      "execution_count": null,
      "metadata": {
        "colab": {
          "base_uri": "https://localhost:8080/",
          "height": 175
        },
        "id": "eT0cGmLvnoYd",
        "outputId": "e87893df-35ad-4526-ecbd-580bb6ae4985"
      },
      "outputs": [],
      "source": [
        "#c)\n",
        "#Solution"
      ]
    },
    {
      "cell_type": "code",
      "execution_count": null,
      "metadata": {
        "colab": {
          "base_uri": "https://localhost:8080/",
          "height": 175
        },
        "id": "1MGep2rJnoYe",
        "outputId": "252c0014-e005-45f6-97e0-4011a4c68cb4"
      },
      "outputs": [],
      "source": [
        "#c)\n",
        "#Solution"
      ]
    },
    {
      "cell_type": "code",
      "execution_count": null,
      "metadata": {
        "id": "5dQm5ZBunoYe",
        "outputId": "78de7e71-985a-418f-f230-34b8e3a9e658"
      },
      "outputs": [],
      "source": [
        "#d)\n",
        "#Solution"
      ]
    },
    {
      "cell_type": "markdown",
      "metadata": {
        "id": "ZdEbhZfDnoYf"
      },
      "source": [
        "**07.** \n",
        "<br>**a)** For each Income_Category, print the minimum, maximum, mean and median of Total_Trans_Amt. Also, try to limit the output to 2 decimal places. \n",
        "<br>**b)** Sort the values of the clients using column 'Avg_Open_To_Buy' from 'BankChurners' dataset.\n",
        "<br>**c)** Find the unique customer type from column 'Attrition_Flag' of the dataset 'BankChurners'. "
      ]
    },
    {
      "cell_type": "code",
      "execution_count": null,
      "metadata": {
        "id": "qpoZE9OEnoYf",
        "outputId": "fe090a83-1243-4c58-ffc3-3cb358c80189"
      },
      "outputs": [],
      "source": [
        "#a)\n",
        "#Solution"
      ]
    },
    {
      "cell_type": "code",
      "execution_count": null,
      "metadata": {
        "id": "t9x_AlxfnoYf",
        "outputId": "f849be19-08e1-4fc2-cd8f-bbb0b0fa0b77"
      },
      "outputs": [],
      "source": [
        "#b)\n",
        "#Solution"
      ]
    },
    {
      "cell_type": "code",
      "execution_count": null,
      "metadata": {
        "id": "Tmz1IEaunoYg",
        "outputId": "33d9c720-2357-4ce7-a0b0-8bb5659beac8"
      },
      "outputs": [],
      "source": [
        "#c)\n",
        "#Solution"
      ]
    },
    {
      "cell_type": "markdown",
      "metadata": {
        "id": "YRjHJ6P9noYg"
      },
      "source": [
        "**08.** \n",
        "<br>**a)** Print the average Total_Revolving_Bal for Customers for each Income_Category, Card_Category combination (Hint: Groupby)\n",
        "<br>**b)** Print the dataframe 'ConProd' whose value of the 'Wind' column is greater that the mean value of the same column."
      ]
    },
    {
      "cell_type": "code",
      "execution_count": null,
      "metadata": {
        "id": "_zTyMbLmnoYg",
        "outputId": "0049a964-de09-4806-f35b-11e5c4c8ffea"
      },
      "outputs": [],
      "source": [
        "#a)\n",
        "#Solution"
      ]
    },
    {
      "cell_type": "code",
      "execution_count": null,
      "metadata": {
        "id": "9IWoT7fTnoYg",
        "outputId": "b8203a99-6687-49a6-cc89-2700f0d0075b"
      },
      "outputs": [],
      "source": [
        "#b)\n",
        "#Solution"
      ]
    },
    {
      "cell_type": "markdown",
      "metadata": {
        "id": "zJHU8qpknoYh"
      },
      "source": [
        "**09.** \n",
        "<br>**a)** Extract the first 10 cleints from 'BankChurners'\n",
        "<br>**b)** Extract the last 10 cleints from 'BankChurners'\n",
        "<br>**c)** Combine together the first 10 clients with the last 5 cleints from 'BankChurners' in a dataframe by row and make a new dataframe.\n",
        "<br>**d)** Save the new dataframe returned in **c)** in a .csv file, explore different ways of saving\n",
        "<br>**e)** Save the dataframe as a excel sheet and avoid having index in the saved file"
      ]
    },
    {
      "cell_type": "code",
      "execution_count": null,
      "metadata": {
        "id": "QrAXuNHtnoYh"
      },
      "outputs": [],
      "source": [
        "#a)\n",
        "#Solution                                                           #picked the top 10 customers from the sorted list"
      ]
    },
    {
      "cell_type": "code",
      "execution_count": null,
      "metadata": {
        "id": "UEVxWzv0noYi"
      },
      "outputs": [],
      "source": [
        "#b)\n",
        "#Solution                                                         #picked the bottom 10 customers from the sorted list\n"
      ]
    },
    {
      "cell_type": "code",
      "execution_count": null,
      "metadata": {
        "id": "J3x8nIC4noYi",
        "outputId": "0dc793a8-3563-4294-a59b-06a0d891acd1"
      },
      "outputs": [],
      "source": [
        "#c)\n",
        "#Solution                                                       #appended bottom 10 customers rows after top 10 customers"
      ]
    },
    {
      "cell_type": "code",
      "execution_count": null,
      "metadata": {
        "id": "ALjGRNP4noYi"
      },
      "outputs": [],
      "source": [
        "#d)\n",
        "#Solution"
      ]
    },
    {
      "cell_type": "code",
      "execution_count": null,
      "metadata": {
        "id": "f4Lk-elt212P"
      },
      "outputs": [],
      "source": [
        "#e)\n",
        "#Solution"
      ]
    }
  ],
  "metadata": {
    "colab": {
      "collapsed_sections": [],
      "provenance": []
    },
    "kernelspec": {
      "display_name": "Python 3.6.0 64-bit",
      "language": "python",
      "name": "python3"
    },
    "language_info": {
      "codemirror_mode": {
        "name": "ipython",
        "version": 3
      },
      "file_extension": ".py",
      "mimetype": "text/x-python",
      "name": "python",
      "nbconvert_exporter": "python",
      "pygments_lexer": "ipython3",
      "version": "3.6.0"
    },
    "orig_nbformat": 4,
    "vscode": {
      "interpreter": {
        "hash": "3b0ba7010dbd3f71a802994001586bf1038832a78f22f020283b3da6f02029a8"
      }
    }
  },
  "nbformat": 4,
  "nbformat_minor": 0
}
