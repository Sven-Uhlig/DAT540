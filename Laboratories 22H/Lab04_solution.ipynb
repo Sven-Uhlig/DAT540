{
 "cells": [
  {
   "cell_type": "markdown",
   "metadata": {},
   "source": [
    "## Lab 04 - Exploring Advanced Numpy Functions on Multidimensional \n",
    "# Solutions\n"
   ]
  },
  {
   "cell_type": "markdown",
   "metadata": {},
   "source": [
    "### Question 01 - 07 is about Sorting, Data Types and Broadcasting"
   ]
  },
  {
   "cell_type": "markdown",
   "metadata": {},
   "source": [
    "**01.** Print the sorted array of indices of the numpy array [5, -8, 0, 3, 44, 52, 6]."
   ]
  },
  {
   "cell_type": "code",
   "execution_count": 6,
   "metadata": {},
   "outputs": [
    {
     "name": "stdout",
     "output_type": "stream",
     "text": [
      "[1 2 3 0 6 4 5]\n"
     ]
    }
   ],
   "source": [
    "import numpy as np\n",
    "array1 = np.array([5, -8, 0, 3, 44, 52, 6])\n",
    "\n",
    "print(np.argsort(array1))"
   ]
  },
  {
   "cell_type": "markdown",
   "metadata": {},
   "source": [
    "**02.** Print the 3 smallest elements of the numpy array [5, -8, 0, 3, 44, 52, 6]"
   ]
  },
  {
   "cell_type": "code",
   "execution_count": null,
   "metadata": {},
   "outputs": [
    {
     "ename": "",
     "evalue": "",
     "output_type": "error",
     "traceback": [
      "\u001b[1;31mRunning cells with 'Python 3.6.0 64-bit' requires ipykernel package.\n",
      "\u001b[1;31mRun the following command to install 'ipykernel' into the Python environment. \n",
      "\u001b[1;31mCommand: 'c:/python36/python.exe -m pip install ipykernel -U --user --force-reinstall'"
     ]
    }
   ],
   "source": [
    "array2 = np.array([5, -8, 0, 3, 44, 52, 6])\n",
    "\n",
    "# Solution 1\n",
    "print(np.sort(array2)[:3]) \n",
    "\n",
    "# Solution 2\n",
    "sorted_index_array = np.argsort(array2)\n",
    "sorted_array = array2[sorted_index_array]\n",
    "print(sorted_array[:3]) "
   ]
  },
  {
   "cell_type": "markdown",
   "metadata": {},
   "source": [
    "**03.** Sort the array a  by the column 1 and print the sorted array. <br>  \n",
    "    a = [[1, 5, 0],\n",
    "         [3, 2, 5],\n",
    "         [8, 7, 6]]"
   ]
  },
  {
   "cell_type": "code",
   "execution_count": 8,
   "metadata": {},
   "outputs": [
    {
     "name": "stdout",
     "output_type": "stream",
     "text": [
      "[[3 2 5]\n",
      " [1 5 0]\n",
      " [8 7 6]]\n"
     ]
    }
   ],
   "source": [
    "array3 = np.array([[1, 5, 0],\n",
    "         [3, 2, 5],\n",
    "         [8, 7, 6]])\n",
    "\n",
    "print(array3[array3[:,1].argsort()])"
   ]
  },
  {
   "cell_type": "markdown",
   "metadata": {},
   "source": [
    "**04.** Sort the given sturctured array based on 'name' and 'age'. Print both resultant arrays."
   ]
  },
  {
   "cell_type": "code",
   "execution_count": 9,
   "metadata": {},
   "outputs": [
    {
     "name": "stdout",
     "output_type": "stream",
     "text": [
      "Sorting according to the name [('Alice', 38, 55.) ('Bob', 34, 70.)]\n",
      "\n",
      "Sorting according to the age [('Bob', 34, 70.) ('Alice', 38, 55.)]\n"
     ]
    }
   ],
   "source": [
    "array4 = np.array([('Bob', 34, 70.0), ('Alice', 38, 55.0)],\n",
    "       dtype=[('name', (np.str_, 10)), ('age', np.int32), ('weight', np.float64)])\n",
    "\n",
    "# Sorting according to the name\n",
    "sorted_by_name = np.sort(array4, order='name')\n",
    "print('Sorting according to the name', sorted_by_name)\n",
    "\n",
    "# Sorting according to the age\n",
    "sorted_by_age = np.sort(array4, order='age')\n",
    "print('\\nSorting according to the age', sorted_by_age)"
   ]
  },
  {
   "cell_type": "markdown",
   "metadata": {},
   "source": [
    "**05.** Given a numpy array [5, 29, 44, 18, 50]. Check the dtype of this array. Change the dtype of the given object to 'float64'.\n",
    "\n",
    "    What is the purpose of dtypes in practical implementations?"
   ]
  },
  {
   "cell_type": "code",
   "execution_count": 10,
   "metadata": {},
   "outputs": [
    {
     "name": "stdout",
     "output_type": "stream",
     "text": [
      "int64\n",
      "float64\n"
     ]
    }
   ],
   "source": [
    "array5 = np.array([5, 29, 44, 18, 50])\n",
    "print(array5.dtype)\n",
    "array5 = array5.astype('float64')\n",
    "print(array5.dtype)"
   ]
  },
  {
   "cell_type": "markdown",
   "metadata": {},
   "source": [
    "dtypes is can be really helpful in cleaning of raw data. For example, let, we have a array of 1000 records with mixed data types where the data types present are string, integer. We want to implement a mathematical operation on this array for cleaning purpose. So when we would try to implement, we would encounter an error. this could be avoided, if we knew the data type of the array in the first place."
   ]
  },
  {
   "cell_type": "code",
   "execution_count": null,
   "metadata": {},
   "outputs": [],
   "source": [
    "array5 = np.array([5, '29', 44, 18, 50])\n",
    "array5 / 2"
   ]
  },
  {
   "cell_type": "code",
   "execution_count": 14,
   "metadata": {},
   "outputs": [
    {
     "name": "stdout",
     "output_type": "stream",
     "text": [
      "int64\n",
      "int64\n"
     ]
    }
   ],
   "source": [
    "print(array5.dtype)\n",
    "array6 = array5.astype('int64')\n",
    "print(array6.dtype)"
   ]
  },
  {
   "cell_type": "code",
   "execution_count": 15,
   "metadata": {},
   "outputs": [
    {
     "data": {
      "text/plain": [
       "array([ 2.5, 14.5, 22. ,  9. , 25. ])"
      ]
     },
     "execution_count": 15,
     "metadata": {},
     "output_type": "execute_result"
    }
   ],
   "source": [
    "array6 / 2"
   ]
  },
  {
   "cell_type": "markdown",
   "metadata": {},
   "source": [
    "**06.** Print the number of zero values in the matrix\n",
    "                    [[45, 0, 17],\n",
    "                    [26, 4, 0],\n",
    "                    [0, 77, 9]]"
   ]
  },
  {
   "cell_type": "code",
   "execution_count": 16,
   "metadata": {},
   "outputs": [
    {
     "name": "stdout",
     "output_type": "stream",
     "text": [
      "3\n",
      "3\n"
     ]
    }
   ],
   "source": [
    "matrix6 = np.array([[45, 0, 17],\n",
    "                    [26, 4, 0],\n",
    "                    [0, 77, 9]])\n",
    "\n",
    "# Solution 1\n",
    "print(np.count_nonzero(matrix6 == 0))\n",
    "\n",
    "# Solution 2\n",
    "print(matrix6[np.where(matrix6 == 0)].size)"
   ]
  },
  {
   "cell_type": "markdown",
   "metadata": {},
   "source": [
    "**07.** Subtract the array b from the array a, such that each item of b subtracts from respective row of a and print the resultant array.\n",
    "    a = [[3,4,5],[4,5,6],[5,6,7]] and \n",
    "    b = [1,1,1]\n",
    "\n",
    "    Hint: this is an example of Broadcasting"
   ]
  },
  {
   "cell_type": "code",
   "execution_count": 17,
   "metadata": {},
   "outputs": [
    {
     "name": "stdout",
     "output_type": "stream",
     "text": [
      "[[2 3 4]\n",
      " [3 4 5]\n",
      " [4 5 6]]\n"
     ]
    }
   ],
   "source": [
    "a = np.array([[3,4,5],[4,5,6],[5,6,7]])\n",
    "b = np.array([1,1,1])\n",
    "\n",
    "print(a - b[:,None])"
   ]
  },
  {
   "cell_type": "markdown",
   "metadata": {},
   "source": [
    "### Question 08 - 11 is about Linear Algebra"
   ]
  },
  {
   "cell_type": "markdown",
   "metadata": {},
   "source": [
    "##### NumPy Linear Algebra: https://numpy.org/doc/stable/reference/routines.linalg.html#"
   ]
  },
  {
   "cell_type": "markdown",
   "metadata": {},
   "source": [
    "**08.** Print the transpose of the array. \n",
    "       [[[ 0,  1,  2,  3],\n",
    "        [ 4,  5,  6,  7],\n",
    "        [ 8,  9, 10, 11]],\n",
    "       [[12, 13, 14, 15],\n",
    "        [16, 17, 18, 19],\n",
    "        [20, 21, 22, 23]]]"
   ]
  },
  {
   "cell_type": "code",
   "execution_count": 18,
   "metadata": {},
   "outputs": [
    {
     "name": "stdout",
     "output_type": "stream",
     "text": [
      "[[[ 0 12]\n",
      "  [ 4 16]\n",
      "  [ 8 20]]\n",
      "\n",
      " [[ 1 13]\n",
      "  [ 5 17]\n",
      "  [ 9 21]]\n",
      "\n",
      " [[ 2 14]\n",
      "  [ 6 18]\n",
      "  [10 22]]\n",
      "\n",
      " [[ 3 15]\n",
      "  [ 7 19]\n",
      "  [11 23]]]\n",
      "[[[ 0 12]\n",
      "  [ 4 16]\n",
      "  [ 8 20]]\n",
      "\n",
      " [[ 1 13]\n",
      "  [ 5 17]\n",
      "  [ 9 21]]\n",
      "\n",
      " [[ 2 14]\n",
      "  [ 6 18]\n",
      "  [10 22]]\n",
      "\n",
      " [[ 3 15]\n",
      "  [ 7 19]\n",
      "  [11 23]]]\n"
     ]
    }
   ],
   "source": [
    "matrix8 = np.array([[[ 0,  1,  2,  3],\n",
    "        [ 4,  5,  6,  7],\n",
    "        [ 8,  9, 10, 11]],\n",
    "\n",
    "       [[12, 13, 14, 15],\n",
    "        [16, 17, 18, 19],\n",
    "        [20, 21, 22, 23]]])\n",
    "\n",
    "# Solution 1\n",
    "print(matrix8.T)\n",
    "\n",
    "# Solution 2\n",
    "print(matrix8.transpose())"
   ]
  },
  {
   "cell_type": "markdown",
   "metadata": {},
   "source": [
    "**09.** Print the sum of the diagonal for the array\n",
    "                    [[45, 34, 17],\n",
    "                    [26, 4, 0],\n",
    "                    [78, 77, 9]]\n",
    "                    "
   ]
  },
  {
   "cell_type": "code",
   "execution_count": 19,
   "metadata": {},
   "outputs": [
    {
     "name": "stdout",
     "output_type": "stream",
     "text": [
      "58\n",
      "58\n"
     ]
    }
   ],
   "source": [
    "matrix9 = np.array([[45, 34, 17],        \n",
    "                    [26, 4, 0],\n",
    "                    [78, 77, 9]])\n",
    "\n",
    "# Solution 1\n",
    "print(np.trace(matrix9)) \n",
    "\n",
    "# Solution 2\n",
    "print(sum(np.diagonal(matrix9)))"
   ]
  },
  {
   "cell_type": "markdown",
   "metadata": {},
   "source": [
    "**10.** Print the inner product of the two arrays a and b.\n",
    "    a = [1,2,3,4,5]\n",
    "    b = [4,5,6,7,8]"
   ]
  },
  {
   "cell_type": "code",
   "execution_count": 20,
   "metadata": {},
   "outputs": [
    {
     "name": "stdout",
     "output_type": "stream",
     "text": [
      "100\n"
     ]
    }
   ],
   "source": [
    "a = np.array([1,2,3,4,5])\n",
    "b = np.array([4,5,6,7,8])\n",
    "\n",
    "print(np.inner(a, b))"
   ]
  },
  {
   "cell_type": "markdown",
   "metadata": {},
   "source": [
    "**11.** Print the euclidean distance between two arrays a and b.\n",
    "    a = [1,2,3,4,5]\n",
    "    b = [4,5,6,7,8]\n",
    "\n",
    "    Hint1: Euclidean distance is the square root of the sum of the squared difference of each element in the array.\n",
    "    \n",
    "    Hint2: There is a library of numpy for calculating functionalities of linear algebra."
   ]
  },
  {
   "cell_type": "code",
   "execution_count": 21,
   "metadata": {},
   "outputs": [
    {
     "name": "stdout",
     "output_type": "stream",
     "text": [
      "6.708203932499369\n",
      "6.708203932499369\n",
      "6.708203932499369\n"
     ]
    }
   ],
   "source": [
    "a = np.array([1,2,3,4,5])\n",
    "b = np.array([4,5,6,7,8])\n",
    "\n",
    "# Solution 1\n",
    "print(np.linalg.norm(a-b))\n",
    "\n",
    "# Solution 2\n",
    "a_sub_b = a - b\n",
    "squared_and_sum = np.dot(a_sub_b.T, a_sub_b)\n",
    "print(np.sqrt(squared_and_sum))\n",
    "\n",
    "# Solution 3\n",
    "sum_sq = np.sum(np.square(a - b))\n",
    "print(np.sqrt(sum_sq))"
   ]
  }
 ],
 "metadata": {
  "kernelspec": {
   "display_name": "Python 3.6.0 64-bit",
   "language": "python",
   "name": "python3"
  },
  "language_info": {
   "codemirror_mode": {
    "name": "ipython",
    "version": 3
   },
   "file_extension": ".py",
   "mimetype": "text/x-python",
   "name": "python",
   "nbconvert_exporter": "python",
   "pygments_lexer": "ipython3",
   "version": "3.6.0"
  },
  "orig_nbformat": 4,
  "vscode": {
   "interpreter": {
    "hash": "3b0ba7010dbd3f71a802994001586bf1038832a78f22f020283b3da6f02029a8"
   }
  }
 },
 "nbformat": 4,
 "nbformat_minor": 2
}
