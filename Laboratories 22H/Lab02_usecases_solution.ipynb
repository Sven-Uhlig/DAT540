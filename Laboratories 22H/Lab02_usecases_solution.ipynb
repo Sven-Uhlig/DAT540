{
    "cells": [
        {
            "cell_type": "markdown",
            "metadata": {},
            "source": [
                "Lab 02: use case question"
            ]
        },
        {
            "cell_type": "markdown",
            "metadata": {},
            "source": [
                "\n",
                "Q1. \n",
                "Create a simple machine which takes an integer number and multiplies it with all other numbers beginning from 1. For instace: If I pass the value 5 it should multiple 5*4*3*2*1 and give 120.\n",
                "\n",
                "\n",
                "Hint: In mathematics, the factorial of an integer n ( denoted by n!), is the product of all positive integers less than or equal to n. You can make a function to take a value and give an output. remember that 0!=1 and decimal numbers should give an error\n"
            ]
        },
        {
            "cell_type": "code",
            "execution_count": 1,
            "metadata": {},
            "outputs": [],
            "source": [
                "def machine(val):\n",
                "    fval=1\n",
                "    if isinstance(val, int) and val>=0:\n",
                "        if val>0:\n",
                "            for i in range(1,val+1):\n",
                "                fval =fval*i\n",
                "        elif val == 0:\n",
                "         fval=1\n",
                "    else:\n",
                "        print('Enter a positive integer')\n",
                "        fval =0\n",
                "    return(fval)"
            ]
        },
        {
            "cell_type": "code",
            "execution_count": 2,
            "metadata": {},
            "outputs": [
                {
                    "name": "stdout",
                    "output_type": "stream",
                    "text": [
                        "Factorial of 5 is correct\n",
                        "Enter a positive integer\n",
                        "Result of decimal input is correct\n",
                        "Factorial of 0 is correct\n",
                        "Enter a positive integer\n",
                        "Result of string input is correct\n",
                        "Enter a positive integer\n",
                        "Result of negative integer input is correct\n"
                    ]
                }
            ],
            "source": [
                "#Basic test cases\n",
                "if machine(5)==120:\n",
                "    print(\"Factorial of 5 is correct\")\n",
                "else:\n",
                "    print(\"Factorial of 5 is incorrect\")\n",
                "if machine(0.8)==0:\n",
                "    print(\"Result of decimal input is correct\")\n",
                "else:\n",
                "    print(\"Result of decimal input is incorrect\")\n",
                "\n",
                "if machine(0)==1:\n",
                "    print(\"Factorial of 0 is correct\")\n",
                "else:\n",
                "    print(\"Factorial of 0 is incorrect\")\n",
                "\n",
                "if machine('hello')==0:\n",
                "    print(\"Result of string input is correct\")\n",
                "else:\n",
                "    print(\"Result of string input is incorrect\")\n",
                "if machine(-1)==0:\n",
                "    print(\"Result of negative integer input is correct\")\n",
                "else:\n",
                "    print(\"Result of negative integer input is incorrect\")\n",
                "#Extra test cases:\n"
            ]
        },
        {
            "cell_type": "markdown",
            "metadata": {},
            "source": [
                "Q2.\n",
                "Create a lottery game: Lottery should generate five numbers in every draw between 1 and 100. <br> A person buying the lottery can scratch five numbers on the ticket and wins the reward based on numbers matching the draw. If the person does not win you it should print the message \"Try again\".<br> Following table should be followed to calculate the total reward. <br>\n",
                "\n",
                "---\n",
                "- 1 number = 10\\$ <br>\n",
                "- 2 numbers = 100\\$ <br>\n",
                "- 3 numbers = 1000\\$ <br>\n",
                "- 4 numbers = 10000\\$ <br>\n",
                "- 5 numbers = 100000\\$  <br>\n",
                "\n",
                "After the draw number and number from lottery and from user should be printed on screen. \n",
                "\n",
                "(Hint:use numpy.randon.randint to generate random numbers for lottery. Make a function and pass a list of five numbers and do the lottery calculation)\n"
            ]
        },
        {
            "cell_type": "code",
            "execution_count": null,
            "metadata": {},
            "outputs": [],
            "source": [
                "def lottery(lst):\n",
                "  import numpy as np\n",
                "  draw = np.random.randint(1,100,5)\n",
                "  draw_sort = list(np.sort(draw))\n",
                "\n",
                "  prizes = [0, 10, 100, 1000, 10000, 100000]\n",
                "\n",
                "  reward = 0\n",
                "  for element in lst:\n",
                "    if element in draw_sort:\n",
                "      print(\"Number matched \", element)\n",
                "      reward += 1\n",
                "  \n",
                "\n",
                "  if reward>=1:\n",
                "    print(\"######## Congratulations! You Won #########\")\n",
                "    print(f\"----- Prize {prizes[reward]} $ -----\")\n",
                "  else:\n",
                "    print(\"Sorry! Try again\")\n",
                "\n",
                "  print(\"\\nLottery Numbers: \", draw_sort)\n",
                "  print(\"\\nYour chosen num:\", lst)"
            ]
        },
        {
            "cell_type": "markdown",
            "metadata": {},
            "source": [
                "Q3. \n",
                "The Fibonacci sequence is a famous group of positive numbers beginning with the sequence 0, 1, ... in which each following number is the sum of the two before it. The sequence 0, 1, 1, 2, 3, 5, 8, 13, 21, ...  continues infinitely. Write a function that accepts a value **n** and returns the entire Fibonacci sequence in a python list until the **nth** Fibonacci number.\n",
                "\n",
                "In cases of invalid inputs, print an information message and return a empty list.\n",
                "\n"
            ]
        },
        {
            "cell_type": "code",
            "execution_count": 3,
            "metadata": {},
            "outputs": [],
            "source": [
                "\n",
                "def fibo(val):\n",
                "    if not isinstance(val, int) or val <=0:\n",
                "       print(\"Enter a positive integer\")\n",
                "       FibList =[]\n",
                "    elif val == 1:\n",
                "        FibList=[0]\n",
                "    else:\n",
                "        FibList=[0,1]    \n",
                "        for i in range (2,val):\n",
                "            tmp= FibList[-1]+FibList[-2]\n",
                "            FibList.append(tmp)\n",
                "    return FibList"
            ]
        },
        {
            "cell_type": "code",
            "execution_count": 4,
            "metadata": {},
            "outputs": [
                {
                    "name": "stdout",
                    "output_type": "stream",
                    "text": [
                        "Enter a positive integer\n",
                        "Result of negative integer input is correct\n",
                        "Enter a positive integer\n",
                        "Result of string input is correct\n",
                        "Enter a positive integer\n",
                        "Result for input 0 is correct\n",
                        "Result for input 10 is correct\n",
                        "Result for input 1 is correct\n"
                    ]
                }
            ],
            "source": [
                "#Basic test cases\n",
                "if fibo(-1)==[]:\n",
                "    print(\"Result of negative integer input is correct\")\n",
                "else:\n",
                "    print(\"Result of negative integer input is incorrect\")\n",
                "if fibo('Hello')==[]:\n",
                "    print(\"Result of string input is correct\")\n",
                "else:\n",
                "    print(\"Result of string input is incorrect\")\n",
                "if fibo(0)==[]:\n",
                "    print(\"Result for input 0 is correct\")\n",
                "else:\n",
                "    print(\"Result for input 0 is incorrect\")\n",
                "if fibo(10)==[0, 1, 1, 2, 3, 5, 8, 13, 21,34]:\n",
                "    print(\"Result for input 10 is correct\")\n",
                "else:\n",
                "    print(\"Result for input 10 is incorrect\")\n",
                "if fibo(1)==[0]:\n",
                "    print(\"Result for input 1 is correct\")\n",
                "else:\n",
                "    print(\"Result for input 1 is incorrect\")"
            ]
        },
        {
            "cell_type": "markdown",
            "metadata": {},
            "source": [
                "Q4.  \n",
                "Given a string containing square [], curly {} or/and round () brackets along with other characters, check the bracket balancing. Brackets must be closed by the corresponding bracket in the correct order.\n",
                "Accept a string from the user. The function must return 'Valid' or 'InValid' as the case may be. If there are no brackets in the input, then consider it valid.\n"
            ]
        },
        {
            "cell_type": "code",
            "execution_count": 5,
            "metadata": {},
            "outputs": [],
            "source": [
                "def bracket(a):\n",
                "    match = []\n",
                "    if isinstance(a, str):\n",
                "        for i in a:\n",
                "            if i in ('(','{','['):\n",
                "             match.append(i)\n",
                "\n",
                "            elif i in (')','}',']') and len(match)>0:\n",
                "              if  (match[-1] == '(' and i == ')') or (match[-1] == '{' and i == '}') or (match[-1] == '[' and i == ']'):\n",
                "                  match.pop()\n",
                "            elif i in (')','}',']') and len(match)==0:\n",
                "             return (\"InValid\")\n",
                "    else:\n",
                "        print(\"Enter a valid string\")\n",
                "        return(\"InValid\")\n",
                "            \n",
                "\n",
                "    if len(match)>0:\n",
                "        return (\"InValid\")\n",
                "    else:\n",
                "        return (\"Valid\")\n",
                "        \n"
            ]
        },
        {
            "cell_type": "code",
            "execution_count": 6,
            "metadata": {},
            "outputs": [
                {
                    "name": "stdout",
                    "output_type": "stream",
                    "text": [
                        "First test pass\n",
                        "Second test pass\n",
                        "Third test pass\n",
                        "Fourth test pass\n",
                        "Fifth test pass\n",
                        "ok\n",
                        "Enter a valid string\n"
                    ]
                },
                {
                    "data": {
                        "text/plain": [
                            "'InValid'"
                        ]
                    },
                    "execution_count": 6,
                    "metadata": {},
                    "output_type": "execute_result"
                }
            ],
            "source": [
                "if bracket('()({{[]}})').lower() == 'valid':\n",
                "    print ('First test pass')\n",
                "else:\n",
                "    print ('First test fail')\n",
                "\n",
                "if bracket('({(]})').lower() == 'invalid':\n",
                "    print ('Second test pass')\n",
                "else:\n",
                "    print ('Second test fail')\n",
                "\n",
                "if bracket('{(2+3)-6}]').lower() == 'invalid':\n",
                "    print ('Third test pass')\n",
                "else:\n",
                "    print ('Third test fail')\n",
                "\n",
                "if bracket('(abc9)([])}').lower() == 'invalid':\n",
                "    print ('Fourth test pass')\n",
                "else:\n",
                "    print ('Fourth test fail')\n",
                "    \n",
                "if bracket('hi').lower() == 'valid':\n",
                "    print ('Fifth test pass')\n",
                "else:\n",
                "    print ('Fifth test fail')\n",
                "if bracket('()][').lower() == 'invalid':\n",
                "    print(\"ok\")\n",
                "\n",
                "bracket([1,2,3])\n",
                "\n",
                "\n"
            ]
        },
        {
            "cell_type": "markdown",
            "metadata": {},
            "source": [
                "Q5. \n",
                "A palindrome is a string that when reversed, yields the same string. Numeric strings can also be palindromes. Write a function to accept a string and check if it is a palimdrome or not. Return 'Palindrome' or 'Not Palindrome' as the case may be. For capital letters, treat 'A' = 'a', ignore case. In case of input other than a valid string, print a message and return 'InValid'. Do not use the library function that returns the reverse of a string."
            ]
        },
        {
            "cell_type": "code",
            "execution_count": 7,
            "metadata": {},
            "outputs": [],
            "source": [
                "def palin(input):\n",
                "    if isinstance(input,str):\n",
                "        pass\n",
                "    else:\n",
                "        print('Enter a valid string')\n",
                "        return ('InValid')\n",
                "    for i in range (0, int(len(input)/2)):\n",
                "        if input[i].lower() != input[-i-1].lower():\n",
                "            return ('Not Palindrome') \n",
                "            \n",
                "    return ('Palindrome') \n"
            ]
        },
        {
            "cell_type": "code",
            "execution_count": 8,
            "metadata": {},
            "outputs": [
                {
                    "name": "stdout",
                    "output_type": "stream",
                    "text": [
                        "radar ok\n",
                        "radix ok\n",
                        "abba ok\n",
                        "Abba ok\n",
                        "232 ok\n",
                        "Enter a valid string\n",
                        "2 ok\n"
                    ]
                }
            ],
            "source": [
                "if palin('radar').lower() == 'palindrome':\n",
                "    print(\"radar ok\")\n",
                "else:\n",
                "    print(\"check radar\")\n",
                "if palin('radix').lower() == 'not palindrome':\n",
                "    print(\"radix ok\")\n",
                "else:\n",
                "    print(\"check radix\")\n",
                "if palin('abba').lower() == 'palindrome':\n",
                "    print(\"abba ok\")\n",
                "else:\n",
                "    print(\"check abba\")\n",
                "if palin('Abba').lower() == 'palindrome':\n",
                "    print(\"Abba ok\")\n",
                "else:\n",
                "    print(\"check abba\")\n",
                "if palin('232').lower() == 'palindrome':\n",
                "    print(\"232 ok\")\n",
                "else:\n",
                "    print(\"check 232\")\n",
                "if palin(2).lower() == \"invalid\":\n",
                "    print(\"2 ok\")\n",
                "else:\n",
                "    print(\"check 2\")\n",
                "\n"
            ]
        }
    ],
    "metadata": {
        "interpreter": {
            "hash": "ec892806d5187d6d71fd1c68dcdc1618a6cd0cf085929c4f905bc725c09f9e14"
        },
        "kernelspec": {
            "display_name": "Python 3.9.6 64-bit",
            "name": "python3"
        },
        "language_info": {
            "codemirror_mode": {
                "name": "ipython",
                "version": 3
            },
            "file_extension": ".py",
            "mimetype": "text/x-python",
            "name": "python",
            "nbconvert_exporter": "python",
            "pygments_lexer": "ipython3",
            "version": "3.8.8"
        },
        "orig_nbformat": 4
    },
    "nbformat": 4,
    "nbformat_minor": 2
}
