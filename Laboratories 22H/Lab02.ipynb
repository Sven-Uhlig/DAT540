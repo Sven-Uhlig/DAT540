{
 "cells": [
  {
   "cell_type": "markdown",
   "metadata": {},
   "source": [
    "# Lab 2 Practice Questions\n",
    "\n",
    "Tip: when there is no given array or data, you should produce one using NumPy."
   ]
  },
  {
   "cell_type": "markdown",
   "metadata": {},
   "source": [
    "### 1.\n",
    "a. There is a group of five colleagues: Martin, Harry, Jenny, Dan, and Venessa. They are working on a project and mostly communicate through email. For this purpose, they decided they need their own separate address book where they will store their names and respective email id as key-value pairs. Which data structure do you think they should use for this purpose?   \n",
    "\n",
    "b. Once the address book is created, they want to display the email ids for all of them.\n",
    "After a while, Dan decides to leave the project and his address needs to be deleted and the total number of remaining contacts displayed. \n",
    "\n",
    "c. To replace Dan, a new person named Serena is hired and she needs to be added to the address book."
   ]
  },
  {
   "cell_type": "code",
   "execution_count": 1,
   "metadata": {},
   "outputs": [],
   "source": [
    "# your solution:\n"
   ]
  },
  {
   "cell_type": "markdown",
   "metadata": {},
   "source": [
    "### 2. \n",
    "\n",
    "Write a simple function that takes two parameters and prints the maximum value. (without using max function of course! :D)"
   ]
  },
  {
   "cell_type": "code",
   "execution_count": 2,
   "metadata": {},
   "outputs": [],
   "source": [
    "# your solution:"
   ]
  },
  {
   "cell_type": "markdown",
   "metadata": {},
   "source": [
    "### 3.\n",
    "\n",
    "Given a \"matter.txt\" file that contains some text. Display the contents of the file in such a way that every alternate character is separated by a symbol \"#\". To achieve this, write a function definition for display() that would display the entire content of the file matter.txt in the desired format."
   ]
  },
  {
   "cell_type": "code",
   "execution_count": null,
   "metadata": {},
   "outputs": [],
   "source": [
    "# your solution:\n",
    "# the \"matter.txt\" is in the data folder on canvas"
   ]
  },
  {
   "cell_type": "markdown",
   "metadata": {},
   "source": [
    "### 4.\n",
    "\n",
    "Given the function below, once executed, what would be the value of the x and why?"
   ]
  },
  {
   "cell_type": "code",
   "execution_count": null,
   "metadata": {},
   "outputs": [],
   "source": [
    "x = 10\n",
    " \n",
    "def func(x):\n",
    "  print('x is', x)\n",
    "  x = 2\n",
    "  print('Changed local x to', x)\n",
    "\n",
    "func(x)\n",
    "print('x is still', x)"
   ]
  },
  {
   "cell_type": "markdown",
   "metadata": {},
   "source": [
    "What do you think?\n",
    "\n"
   ]
  },
  {
   "cell_type": "markdown",
   "metadata": {},
   "source": [
    "### 5.\n",
    "\n",
    "Given the function below, once executed, what would be the value of the y and why?"
   ]
  },
  {
   "cell_type": "code",
   "execution_count": null,
   "metadata": {},
   "outputs": [],
   "source": [
    "y = 10\n",
    " \n",
    "def func():\n",
    "    global y\n",
    "    print('y is', y)\n",
    "    y = 2\n",
    "    print('Changed y to', y)\n",
    " \n",
    "func()\n",
    "print('y is now', y)"
   ]
  },
  {
   "cell_type": "markdown",
   "metadata": {},
   "source": [
    "What do you think?"
   ]
  },
  {
   "cell_type": "markdown",
   "metadata": {},
   "source": [
    "### 6.\n",
    "Write a program to combine last element with first element of two given ndarray with different shapes."
   ]
  },
  {
   "cell_type": "code",
   "execution_count": null,
   "metadata": {},
   "outputs": [],
   "source": [
    "import numpy as np\n",
    "array1 = ['C++','Go','JS',]\n",
    "array2 = ['Python','Pandas', 'NumPy', 'Matplotlib']\n",
    "\n",
    "# your solution:\n",
    "\n",
    "\n",
    "\n",
    "# desired output:\n",
    "# ['C++' 'Go' 'JSPython' 'Pandas' 'NumPy' 'Matplotlib']"
   ]
  },
  {
   "cell_type": "markdown",
   "metadata": {},
   "source": [
    "### 7.\n",
    "Write a NumPy program to create a 2x2x2 array with random values."
   ]
  },
  {
   "cell_type": "code",
   "execution_count": null,
   "metadata": {},
   "outputs": [],
   "source": [
    "# your solution:\n",
    "\n",
    "\n",
    "\n",
    "\n",
    "\n",
    "# expected output: (Of course your numbers will be different!)\n",
    "# [[[0.40192136 0.99430226]\n",
    "#   [0.73737906 0.58672908]]\n",
    "#  [[0.39025187 0.70587962]\n",
    "#   [0.36347519 0.21884057]]]"
   ]
  },
  {
   "cell_type": "markdown",
   "metadata": {},
   "source": [
    "### 8.\n",
    "Write a program to find elements within range from a given array of numbers.\n",
    "\n",
    "in this question the range is (7, 20) included!"
   ]
  },
  {
   "cell_type": "code",
   "execution_count": null,
   "metadata": {},
   "outputs": [],
   "source": [
    "import numpy as np\n",
    "a = np.array([1, 3, 6, 7, 9, 10, 13, 14, 17, 21 , 29])\n",
    "\n",
    "# your solution:\n",
    "\n",
    "\n",
    "\n",
    "# expected output:\n",
    "# (array([3, 4, 5, 6, 7, 8]),)"
   ]
  },
  {
   "cell_type": "markdown",
   "metadata": {},
   "source": [
    "### 9.\n",
    "Write a program to create an array of (4,5) shape and swap column 1 with column 4.\n",
    "\n",
    "Hint:"
   ]
  },
  {
   "cell_type": "markdown",
   "metadata": {},
   "source": [
    "<img src=\"./images/swap.png\" alt=\"Swap\" width=250>"
   ]
  },
  {
   "cell_type": "code",
   "execution_count": 4,
   "metadata": {},
   "outputs": [],
   "source": [
    "# your solution:\n"
   ]
  },
  {
   "cell_type": "markdown",
   "metadata": {},
   "source": [
    "### 10.\n",
    "In this question you're going to use couple of universal functions of Numpy.\n",
    "\n",
    "a. Write a code to compute the median of flattened given array.\n",
    "\n",
    "b. Write a code to count number of occurrences of each value in a given array of non-negative integers.\n",
    "\n",
    "c. Write a code to compute the 80th percentile for all elements in a given array along the second axis."
   ]
  },
  {
   "cell_type": "code",
   "execution_count": null,
   "metadata": {},
   "outputs": [],
   "source": [
    "import numpy as np\n",
    "# a. your solution:\n",
    "\n",
    "\n",
    "\n",
    "\n",
    "# b. your solution:\n",
    "array1 = [0, 1, 6, 1, 4, 1, 2, 2, 7] \n",
    "\n",
    "\n",
    "\n",
    "# c. your solution:\n",
    "\n",
    "\n"
   ]
  }
 ],
 "metadata": {
  "kernelspec": {
   "display_name": "Python 3.9.10 64-bit",
   "language": "python",
   "name": "python3"
  },
  "language_info": {
   "codemirror_mode": {
    "name": "ipython",
    "version": 3
   },
   "file_extension": ".py",
   "mimetype": "text/x-python",
   "name": "python",
   "nbconvert_exporter": "python",
   "pygments_lexer": "ipython3",
   "version": "3.9.10"
  },
  "orig_nbformat": 4,
  "vscode": {
   "interpreter": {
    "hash": "b0fa6594d8f4cbf19f97940f81e996739fb7646882a419484c72d19e05852a7e"
   }
  }
 },
 "nbformat": 4,
 "nbformat_minor": 2
}
