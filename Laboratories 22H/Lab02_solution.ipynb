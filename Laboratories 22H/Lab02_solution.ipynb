{
 "cells": [
  {
   "cell_type": "markdown",
   "metadata": {},
   "source": [
    "# Lab 2 Practice Questions\n",
    "\n",
    "Tip: when there is no given array or data, you should produce one using NumPy."
   ]
  },
  {
   "cell_type": "markdown",
   "metadata": {},
   "source": [
    "### 1.\n",
    "a. There is a group of five colleagues: Martin, Harry, Jenny, Dan, and Venessa. They are working on a project and mostly communicate through email. For this purpose, they decided they need their own separate address book where they will store their names and respective email id as key-value pairs. Which data structure do you think they should use for this purpose?   \n",
    "\n",
    "b. Once the address book is created, they want to display the email ids for all of them.\n",
    "After a while, Dan decides to leave the project and his address needs to be deleted and the total number of remaining contacts displayed. \n",
    "\n",
    "c. To replace Dan, a new person named Serena is hired and she needs to be added to the address book."
   ]
  },
  {
   "cell_type": "code",
   "execution_count": null,
   "metadata": {},
   "outputs": [],
   "source": [
    "# your solution:\n",
    "\n",
    "addressBook = {\n",
    "    'Martin': 'martin@gmail.com',\n",
    "    'Harry': 'Harry@outlook.com',\n",
    "    'Jenny': 'Jenny@hotmail.com',\n",
    "    'Dan': 'Dan@hotmail.com',\n",
    "    'Venessa': 'Venessa@gmail.com'\n",
    "}\n",
    "\n",
    "print('\\nThere are {} contacts in the address-book\\n'.format(len(addressBook)))\n",
    "\n",
    "for name, address in addressBook.items():\n",
    "    print('Contact {} at {}'.format(name, address))\n",
    "\n",
    "# Deleting a key-value pair\n",
    "del addressBook['Dan']\n",
    "\n",
    "print('\\nAfter deleting Dans contact')\n",
    "print('\\nThere are {} contacts in the address-book\\n'.format(len(addressBook)))\n",
    "\n",
    "# Adding a key-value pair\n",
    "addressBook['Serena'] = 'Serena@gmail.com'\n",
    "\n",
    "if 'Serena' in addressBook:\n",
    "    print(\"\\nThe address for new employee (Serena) is\", addressBook['Serena'])"
   ]
  },
  {
   "cell_type": "markdown",
   "metadata": {},
   "source": [
    "### 2. \n",
    "\n",
    "Write a simple function that takes two parameters and prints the maximum value. (without using max function of course! :D)"
   ]
  },
  {
   "cell_type": "code",
   "execution_count": null,
   "metadata": {},
   "outputs": [],
   "source": [
    "# your solution:\n",
    "\n",
    "def print_max(a, b):\n",
    "    if a > b:\n",
    "        print(a, 'is maximum')\n",
    "    elif a == b:\n",
    "        print(a, 'is equal to', b)\n",
    "    else:\n",
    "        print(b, 'is maximum')\n",
    "\n",
    "print_max(6, 2)\n"
   ]
  },
  {
   "cell_type": "markdown",
   "metadata": {},
   "source": [
    "### 3.\n",
    "\n",
    "Given a \"matter.txt\" file that contains some text. Display the contents of the file in such a way that every alternate character is separated by a symbol \"#\". To achieve this, write a function definition for display() that would display the entire content of the file matter.txt in the desired format."
   ]
  },
  {
   "cell_type": "code",
   "execution_count": null,
   "metadata": {},
   "outputs": [],
   "source": [
    "# your solution:\n",
    "\n",
    "def display():\n",
    "    file = open(\"./matter.txt\") #replace with your location\n",
    "    data = file.read()\n",
    "    for letter in data:\n",
    "        print(letter, end=\"#\")\n",
    " \n",
    "    file.close()\n",
    "display()\n",
    "\n",
    "\n"
   ]
  },
  {
   "cell_type": "code",
   "execution_count": null,
   "metadata": {},
   "outputs": [],
   "source": [
    "# Alternatively to add Character after every other letter i.e ( Th#is#)\n",
    "def disp(path):\n",
    "\n",
    "  file = open(path) \n",
    "  text = file.read()\n",
    "  processed_text = \"\"\n",
    "  for i in range(0, len(text)):\n",
    "    if i%2 == 0:\n",
    "      processed_text = processed_text + text[i:i+2]\n",
    "    else:\n",
    "      processed_text = processed_text + \"#\"\n",
    "\n",
    "  file.close()\n",
    "  return processed_text\n",
    "\n",
    "output = disp(\"/content/matter.txt\")\n",
    "print(output)"
   ]
  },
  {
   "cell_type": "markdown",
   "metadata": {},
   "source": [
    "### 4.\n",
    "\n",
    "Given the function below, once executed, what would be the value of the x and why?"
   ]
  },
  {
   "cell_type": "code",
   "execution_count": null,
   "metadata": {},
   "outputs": [],
   "source": [
    "x = 10\n",
    " \n",
    "def func(x):\n",
    "  print('x is', x)\n",
    "  x = 2 #here the variable x is declared locally \n",
    "  print('Changed local x to', x) #the local variable x affects the value of x inside this function only\n",
    "\n",
    "func(x)\n",
    "print('x is still', x) #once outside the function, the local change of the variable x doesn't effect the value of x"
   ]
  },
  {
   "cell_type": "markdown",
   "metadata": {},
   "source": [
    "What do you think?\n",
    "\n"
   ]
  },
  {
   "cell_type": "markdown",
   "metadata": {},
   "source": [
    "### 5.\n",
    "\n",
    "Given the function below, once executed, what would be the value of the y and why?"
   ]
  },
  {
   "cell_type": "code",
   "execution_count": null,
   "metadata": {},
   "outputs": [],
   "source": [
    "y = 10\n",
    "\n",
    "def func():\n",
    "    global y #here the variable y is declared globally\n",
    "    print('y is', y)\n",
    "    y = 2 #the global variable y affects the value of y inside this function\n",
    "    print('Changed y to', y)\n",
    "\n",
    "func()\n",
    "print('y is now', y) #the global change of the variable y effects the value of y outside the function as well."
   ]
  },
  {
   "cell_type": "markdown",
   "metadata": {},
   "source": [
    "What do you think?"
   ]
  },
  {
   "cell_type": "markdown",
   "metadata": {},
   "source": [
    "### 6.\n",
    "Write a program to combine last element with first element of two given ndarray with different shapes."
   ]
  },
  {
   "cell_type": "code",
   "execution_count": null,
   "metadata": {},
   "outputs": [],
   "source": [
    "import numpy as np\n",
    "array1 = ['C++','Go','JS',]\n",
    "array2 = ['Python','Pandas', 'NumPy', 'Matplotlib']\n",
    "\n",
    "# your solution:\n",
    "print(\"Original arrays:\")          \n",
    "print(array1)\n",
    "print(array2)          \n",
    "result = np.r_[array1[:-1], [array1[-1]+array2[0]], array2[1:]]   \n",
    "print(\"\\nAfter Combining:\")       \n",
    "print(result)\n",
    "\n",
    "\n",
    "# desired output:\n",
    "# ['C++' 'Go' 'JSPython' 'Pandas' 'NumPy' 'Matplotlib']"
   ]
  },
  {
   "cell_type": "markdown",
   "metadata": {},
   "source": [
    "### 7.\n",
    "Write a NumPy program to create a 2x2x2 array with random values."
   ]
  },
  {
   "cell_type": "code",
   "execution_count": null,
   "metadata": {},
   "outputs": [],
   "source": [
    "# your solution:\n",
    "\n",
    "import numpy as np\n",
    "x = np.random.random((2,2,2))\n",
    "print(x)\n",
    "\n",
    "# expected output: (Of course your numbers will be different!)\n",
    "# [[[0.40192136 0.99430226]\n",
    "#   [0.73737906 0.58672908]]\n",
    "#  [[0.39025187 0.70587962]\n",
    "#   [0.36347519 0.21884057]]]"
   ]
  },
  {
   "cell_type": "markdown",
   "metadata": {},
   "source": [
    "### 8.\n",
    "Write a program to find elements within range from a given array of numbers.\n",
    "\n",
    "in this question the range is (7, 20) included!"
   ]
  },
  {
   "cell_type": "code",
   "execution_count": null,
   "metadata": {},
   "outputs": [],
   "source": [
    "import numpy as np\n",
    "a = np.array([1, 3, 6, 7, 9, 10, 13, 14, 17, 21 , 29])\n",
    "\n",
    "# your solution:\n",
    "\n",
    "print(\"Original array:\")\n",
    "print(a)\n",
    "result = np.where(np.logical_and(a>=7, a<=20))\n",
    "print(\"\\nElements within range: index position\")\n",
    "print(result)\n",
    "\n",
    "# expected output:\n",
    "# (array([3, 4, 5, 6, 7, 8]),)"
   ]
  },
  {
   "cell_type": "markdown",
   "metadata": {},
   "source": [
    "### 9.\n",
    "Write a program to create an array of (4,5) shape and swap column 1 with column 4.\n",
    "\n",
    "Hint:"
   ]
  },
  {
   "cell_type": "markdown",
   "metadata": {},
   "source": [
    "<img src=\"./images/swap.png\" alt=\"Swap\" width=250>"
   ]
  },
  {
   "cell_type": "code",
   "execution_count": null,
   "metadata": {},
   "outputs": [],
   "source": [
    "# your solution:\n",
    "\n",
    "import numpy as np\n",
    "array_nums = np.arange(20).reshape(4,5)\n",
    "print(\"Original array:\")\n",
    "print(array_nums)\n",
    "print(\"\\nAfter swapping column 1 with column 4:\")\n",
    "array_nums[:,[0,3]] = array_nums[:,[3,0]]\n",
    "print(array_nums)"
   ]
  },
  {
   "cell_type": "markdown",
   "metadata": {},
   "source": [
    "### 10.\n",
    "In this question you're going to use couple of universal functions of Numpy.\n",
    "\n",
    "a. Write a code to compute the median of flattened given array.\n",
    "\n",
    "b. Write a code to count number of occurrences of each value in a given array of non-negative integers.\n",
    "\n",
    "c. Write a code to compute the 80th percentile for all elements in a given array along the second axis."
   ]
  },
  {
   "cell_type": "code",
   "execution_count": null,
   "metadata": {},
   "outputs": [],
   "source": [
    "import numpy as np\n",
    "# a. your solution:\n",
    "\n",
    "x = np.arange(12).reshape((2, 6))\n",
    "print(\"\\nOriginal array:\")\n",
    "print(x)\n",
    "r1 =  np.median(x)\n",
    "print(\"\\nMedian of said array:\")\n",
    "print(r1)\n",
    "\n",
    "\n",
    "# b. your solution:\n",
    "array1 = [0, 1, 6, 1, 4, 1, 2, 2, 7] \n",
    "print(\"\\nOriginal array:\")\n",
    "print(array1)\n",
    "print(\"Number of occurrences of each value in array: \")\n",
    "print(np.bincount(array1))\n",
    "\n",
    "\n",
    "# c. your solution:\n",
    "x = np.arange(12).reshape((2, 6))\n",
    "print(\"\\nOriginal array:\")\n",
    "print(x)\n",
    "r1 = np.percentile(x, 80, 1)\n",
    "print(\"\\n80th percentile for all elements of the said array along the second axis:\")\n",
    "print(r1)\n"
   ]
  }
 ],
 "metadata": {
  "kernelspec": {
   "display_name": "Python 3.6.0 64-bit",
   "language": "python",
   "name": "python3"
  },
  "language_info": {
   "codemirror_mode": {
    "name": "ipython",
    "version": 3
   },
   "file_extension": ".py",
   "mimetype": "text/x-python",
   "name": "python",
   "nbconvert_exporter": "python",
   "pygments_lexer": "ipython3",
   "version": "3.6.0"
  },
  "orig_nbformat": 4,
  "vscode": {
   "interpreter": {
    "hash": "3b0ba7010dbd3f71a802994001586bf1038832a78f22f020283b3da6f02029a8"
   }
  }
 },
 "nbformat": 4,
 "nbformat_minor": 2
}
